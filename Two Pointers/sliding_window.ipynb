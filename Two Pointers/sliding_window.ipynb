{
 "cells": [
  {
   "cell_type": "markdown",
   "metadata": {},
   "source": [
    "1. Maximum Average Subarray sum I\n",
    "\n",
    "You are given an integer array nums consisting of n elements, and an integer k.\n",
    "\n",
    "Find a contiguous subarray whose length is equal to k that has the maximum average value and return this value. Any answer with a calculation error less than 10-5 will be accepted."
   ]
  },
  {
   "cell_type": "code",
   "execution_count": null,
   "metadata": {},
   "outputs": [],
   "source": [
    "def mass1(nums,k):\n",
    "    window = sum(nums[:k])\n",
    "    max_sum = window\n",
    "    \n",
    "    for i in range(len(nums)-k):\n",
    "        window = window - nums[i] + nums[i+k]\n",
    "        max_sum = max(max_sum, window)\n",
    "    return max_sum / k"
   ]
  },
  {
   "cell_type": "markdown",
   "metadata": {},
   "source": [
    "2. Minimum Window Subarray \n",
    "\n",
    "Given an array of positive integers nums and a positive integer target, return the minimal length of a subarray whose sum is greater than or equal to target. If there is no such subarray, return 0 instead.\n",
    "Pattern and Logic\n",
    "\n",
    "To find the minimal length of a subarray with a sum greater than or equal to target, we can use the sliding window technique. The sliding window approach allows us to efficiently find and adjust the subarray as we traverse the list.\n",
    "Pseudo Code\n",
    "\n",
    "    Initialize variables for the current sum (current_sum), the minimum length (min_length), and the start of the sliding window (start).\n",
    "    Traverse through the array with an end pointer (end).\n",
    "    Add the current element to current_sum.\n",
    "    While current_sum is greater than or equal to target, calculate the length of the current window and update min_length if the current window is smaller.\n",
    "    Subtract the element at the start pointer from current_sum and move the start pointer to the right to reduce the window size.\n",
    "    Continue this process until the end of the array.\n",
    "    If min_length remains unchanged, return 0. Otherwise, return min_length."
   ]
  },
  {
   "cell_type": "code",
   "execution_count": null,
   "metadata": {},
   "outputs": [],
   "source": [
    "def min_window(nums,target):\n",
    "    start = 0\n",
    "    min_len = float('inf')\n",
    "    curr = 0\n",
    "    \n",
    "    for end in range(len(nums)):\n",
    "        curr += nums[end]\n",
    "        while curr >= target:\n",
    "            min_len == min(min_len, end-start+1)\n",
    "            curr -= nums[start]\n",
    "            start += 1\n",
    "    return 0 if min_len == float('inf') else min_len"
   ]
  },
  {
   "cell_type": "markdown",
   "metadata": {},
   "source": [
    "3. Fruits into Basket\n",
    "\n",
    "Pattern and Logic\n",
    "\n",
    "To solve this problem, we can use the sliding window (or two-pointer) technique. The idea is to keep track of the number of different types of fruits in the current window and ensure that it does not exceed two. We will adjust the window size dynamically to maximize the number of fruits we can collect.\n",
    "Pseudo Code\n",
    "\n",
    "    Initialize two pointers start and end to 0.\n",
    "    Initialize a dictionary basket to keep track of the count of each type of fruit in the current window.\n",
    "    Initialize a variable max_fruits to store the maximum number of fruits we can collect.\n",
    "    Iterate end from 0 to the end of the fruits array.\n",
    "    Add the current fruit to the basket dictionary.\n",
    "    If the number of different types of fruits in the basket exceeds 2, move the start pointer to the right until the number of different types of fruits in the basket is 2.\n",
    "    Update max_fruits with the maximum number of fruits in the current window.\n",
    "    Return max_fruits."
   ]
  },
  {
   "cell_type": "code",
   "execution_count": null,
   "metadata": {},
   "outputs": [],
   "source": [
    "def totalFruit(fruits: List[int]) -> int:\n",
    "    start = 0\n",
    "    basket = {}\n",
    "    max_fruits = 0\n",
    "    \n",
    "    for end in range(len(fruits)):\n",
    "        if fruits[end] in basket:\n",
    "            basket[fruits[end]] += 1\n",
    "        else:\n",
    "            basket[fruits[end]] = 1\n",
    "        \n",
    "        while len(basket) > 2:\n",
    "            basket[fruits[start]] -= 1\n",
    "            if basket[fruits[start]] == 0:\n",
    "                del basket[fruits[start]]\n",
    "            start += 1\n",
    "        \n",
    "        max_fruits = max(max_fruits, end - start + 1)\n",
    "    \n",
    "    return max_fruits"
   ]
  },
  {
   "cell_type": "markdown",
   "metadata": {},
   "source": [
    "4. Permutation in a String"
   ]
  },
  {
   "cell_type": "code",
   "execution_count": null,
   "metadata": {},
   "outputs": [],
   "source": [
    "class Solution:\n",
    "    def checkInclusion(self, s1: str, s2: str) -> bool:\n",
    "        from collections import Counter\n",
    "        \n",
    "        # Lengths of the strings\n",
    "        len1, len2 = len(s1), len(s2)\n",
    "        \n",
    "        # If s1 is longer than s2, it is impossible to find a permutation of s1 in s2\n",
    "        if len1 > len2:\n",
    "            return False\n",
    "        \n",
    "        # Initialize frequency counts for s1 and the first window in s2\n",
    "        s1_count = Counter(s1)\n",
    "        s2_count = Counter(s2[:len1])\n",
    "        \n",
    "        # If the first window matches, return true\n",
    "        if s1_count == s2_count:\n",
    "            return True\n",
    "        \n",
    "        # Slide the window over s2\n",
    "        for i in range(len1, len2):\n",
    "            # Include the next character in the window\n",
    "            s2_count[s2[i]] += 1\n",
    "            # Remove the first character of the previous window\n",
    "            s2_count[s2[i - len1]] -= 1\n",
    "            # Remove the character count from dictionary if it becomes 0\n",
    "            if s2_count[s2[i - len1]] == 0:\n",
    "                del s2_count[s2[i - len1]]\n",
    "            # Check if the current window matches\n",
    "            if s1_count == s2_count:\n",
    "                return True\n",
    "        \n",
    "        return False"
   ]
  },
  {
   "cell_type": "markdown",
   "metadata": {},
   "source": [
    "5. Longest Repeating Character Replacement\n",
    "\n",
    "Given a string s and an integer k, you can change up to k characters in the string to any other uppercase English character. Your goal is to find the length of the longest substring that contains the same letter after performing at most k operations.\n",
    "Pattern and Logic\n",
    "\n",
    "To solve this problem, we can use a sliding window approach with the help of a frequency map to track the counts of characters within the current window:\n",
    "\n",
    "    Sliding Window: Use two pointers to represent the start and end of the window.\n",
    "    Frequency Map: Maintain a frequency map to keep track of the count of characters within the window.\n",
    "    Max Frequency: Keep track of the maximum frequency of any character within the window. This helps to determine if we can make all characters in the window the same by performing at most k operations.\n",
    "\n",
    "Detailed Explanation\n",
    "\n",
    "    Window Expansion: Expand the window by moving the right pointer and updating the frequency map.\n",
    "    Window Contraction: If the current window size minus the maximum frequency character count exceeds k, it means we need more than k operations to make all characters in the window the same. In this case, move the left pointer to shrink the window.\n",
    "    Maximum Length: During the process, keep track of the maximum length of the window that satisfies the condition."
   ]
  },
  {
   "cell_type": "code",
   "execution_count": 2,
   "metadata": {},
   "outputs": [
    {
     "name": "stdout",
     "output_type": "stream",
     "text": [
      "4\n"
     ]
    }
   ],
   "source": [
    "from collections import defaultdict\n",
    "\n",
    "def lrcp(s,k):\n",
    "    maxc,maxl,start = 0,0,0\n",
    "    freq = defaultdict(int)\n",
    "    for end in range(len(s)):\n",
    "        freq[s[end]] += 1\n",
    "        maxc = max(maxc, freq[s[end]])\n",
    "        if (end-start+1) - maxc > k:\n",
    "            freq[s[start]] -= 1\n",
    "            start += 1\n",
    "        maxl = max(maxl, end-start+1)\n",
    "    return maxl\n",
    "print(lrcp(s=\"ABAB\",k=2))"
   ]
  },
  {
   "cell_type": "markdown",
   "metadata": {},
   "source": [
    "6. Longest Substring without Repeating Charcter\n",
    "\n",
    "Given a string s, find the length of the longest substring without repeating characters. We will use the sliding window approach to solve this problem.\n",
    "\n",
    "Pseudo Code\n",
    "\n",
    "    Initialize two pointers left and right to 0.\n",
    "    Initialize a set to store characters in the current window.\n",
    "    Initialize a variable max_length to keep track of the maximum length of unique substring.\n",
    "    Iterate through the string with right pointer:\n",
    "        If s[right] is not in the set, add it to the set.\n",
    "        Update max_length with the maximum of max_length and the current window size.\n",
    "        If s[right] is already in the set, remove s[left] from the set and increment left pointer until s[right] is unique in the window.\n",
    "    Return max_length."
   ]
  },
  {
   "cell_type": "code",
   "execution_count": null,
   "metadata": {},
   "outputs": [],
   "source": [
    "def lswrc(s):\n",
    "    maxl = 0\n",
    "    start = 0\n",
    "    end = 0\n",
    "    sets = set()\n",
    "    for end in range(len(s)):\n",
    "        while s[end] in sets:\n",
    "            sets.remove(s[start])\n",
    "            start += 1\n",
    "        sets.add(s[end])\n",
    "        maxl = max(maxl, end-start+1)\n",
    "    return maxl "
   ]
  },
  {
   "cell_type": "markdown",
   "metadata": {},
   "source": [
    "7. Maximum Sliding Window\n",
    "\n",
    "Given an array of integers nums, there is a sliding window of size k which is moving from the very left of the array to the very right. You can only see the k numbers in the window. Each time the sliding window moves right by one position, return the maximum value in the sliding window.\n",
    "Logical Pattern and Approach\n",
    "\n",
    "Pattern: To find the maximum value in each sliding window of size k, we need to keep track of the maximum element efficiently as the window slides.\n",
    "\n",
    "Logic: We will use a deque (double-ended queue) to maintain the indices of the elements in the current window. The deque will help us efficiently get the maximum element for the current window because it allows us to add and remove elements from both ends in constant time. Here are the steps:\n",
    "\n",
    "    Maintain a deque to store indices of elements. The elements in the deque are in decreasing order.\n",
    "    Iterate through the array:\n",
    "        Remove elements from the back of the deque if they are smaller than or equal to the current element (since they are not useful for future windows).\n",
    "        Add the current element's index to the back of the deque.\n",
    "        Remove the front element of the deque if it is out of the current window's range.\n",
    "        The front element of the deque is the maximum for the current window. Add it to the result list.\n",
    "    Return the result list containing the maximum of each window.\n",
    "\n",
    "Pseudo Code\n",
    "\n",
    "    Initialize a deque deq and a list result.\n",
    "    Iterate through each element in the array with an index i:\n",
    "        Remove elements from the back of deq while the element at the back is smaller than or equal to nums[i].\n",
    "        Add the index i to the back of deq.\n",
    "        Remove the front element of deq if it is out of the current window's range.\n",
    "        If the current index i is greater than or equal to k-1, add nums[deq[0]] to the result list.\n",
    "    Return the result list."
   ]
  },
  {
   "cell_type": "code",
   "execution_count": null,
   "metadata": {},
   "outputs": [],
   "source": [
    "from collections import deque\n",
    "\n",
    "def msw(nums,k):\n",
    "    deq = deque()\n",
    "    res = []\n",
    "    for i in range(len(nums)):\n",
    "        if deq and deq[0] < i-k+1:\n",
    "            deq.popleft()\n",
    "        while deq and nums[deq[-1]] <= nums[i]:\n",
    "            deq.popleft()\n",
    "        deq.append(i)\n",
    "        if i >= k-1:\n",
    "            res.append(nums[deq[0]])\n",
    "    return res"
   ]
  },
  {
   "cell_type": "markdown",
   "metadata": {},
   "source": [
    "8. Minimum Number of K Consecutive Flips\n",
    "\n",
    "You are given a binary array nums and an integer k.\n",
    "\n",
    "A k-bit flip is choosing a subarray of length k from nums and simultaneously changing every 0 in the subarray to 1, and every 1 in the subarray to 0.\n",
    "\n",
    "Return the minimum number of k-bit flips required so that there is no 0 in the array. If it is not possible, return -1.\n",
    "\n",
    "A subarray is a contiguous part of an array."
   ]
  },
  {
   "cell_type": "code",
   "execution_count": null,
   "metadata": {},
   "outputs": [],
   "source": [
    "def mnokcf(nums,k):\n",
    "    flip = [0] * len(nums)\n",
    "    flips = 0\n",
    "    cflips = 0\n",
    "    for i in range(len(nums)):\n",
    "        if i >= k:\n",
    "            cflips -= flip[i-k]\n",
    "        if cflips % 2 == nums[i]:\n",
    "            if i+k > len(nums):\n",
    "                return -1\n",
    "            flips += 1\n",
    "            flip[i] += 1\n",
    "            cflips += 1\n",
    "    return flips"
   ]
  }
 ],
 "metadata": {
  "kernelspec": {
   "display_name": "Python 3",
   "language": "python",
   "name": "python3"
  },
  "language_info": {
   "codemirror_mode": {
    "name": "ipython",
    "version": 3
   },
   "file_extension": ".py",
   "mimetype": "text/x-python",
   "name": "python",
   "nbconvert_exporter": "python",
   "pygments_lexer": "ipython3",
   "version": "3.11.8"
  }
 },
 "nbformat": 4,
 "nbformat_minor": 2
}
