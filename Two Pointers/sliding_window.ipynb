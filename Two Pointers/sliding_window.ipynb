{
 "cells": [
  {
   "cell_type": "markdown",
   "metadata": {},
   "source": [
    "1. Maximum Average Subarray sum I\n",
    "\n",
    "You are given an integer array nums consisting of n elements, and an integer k.\n",
    "\n",
    "Find a contiguous subarray whose length is equal to k that has the maximum average value and return this value. Any answer with a calculation error less than 10-5 will be accepted."
   ]
  },
  {
   "cell_type": "code",
   "execution_count": null,
   "metadata": {},
   "outputs": [],
   "source": [
    "def mass1(nums,k):\n",
    "    window = sum(nums[:k])\n",
    "    max_sum = window\n",
    "    \n",
    "    for i in range(len(nums)-k):\n",
    "        window = window - nums[i] + nums[i+k]\n",
    "        max_sum = max(max_sum, window)\n",
    "    return max_sum / k"
   ]
  },
  {
   "cell_type": "markdown",
   "metadata": {},
   "source": [
    "2. Minimum Window Subarray \n",
    "\n",
    "Given an array of positive integers nums and a positive integer target, return the minimal length of a subarray whose sum is greater than or equal to target. If there is no such subarray, return 0 instead.\n",
    "Pattern and Logic\n",
    "\n",
    "To find the minimal length of a subarray with a sum greater than or equal to target, we can use the sliding window technique. The sliding window approach allows us to efficiently find and adjust the subarray as we traverse the list.\n",
    "Pseudo Code\n",
    "\n",
    "    Initialize variables for the current sum (current_sum), the minimum length (min_length), and the start of the sliding window (start).\n",
    "    Traverse through the array with an end pointer (end).\n",
    "    Add the current element to current_sum.\n",
    "    While current_sum is greater than or equal to target, calculate the length of the current window and update min_length if the current window is smaller.\n",
    "    Subtract the element at the start pointer from current_sum and move the start pointer to the right to reduce the window size.\n",
    "    Continue this process until the end of the array.\n",
    "    If min_length remains unchanged, return 0. Otherwise, return min_length."
   ]
  },
  {
   "cell_type": "code",
   "execution_count": null,
   "metadata": {},
   "outputs": [],
   "source": [
    "def min_window(nums,target):\n",
    "    start = 0\n",
    "    min_len = float('inf')\n",
    "    curr = 0\n",
    "    \n",
    "    for end in range(len(nums)):\n",
    "        curr += nums[end]\n",
    "        while curr >= target:\n",
    "            min_len == min(min_len, end-start+1)\n",
    "            curr -= nums[start]\n",
    "            start += 1\n",
    "    return 0 if min_len == float('inf') else min_len"
   ]
  },
  {
   "cell_type": "markdown",
   "metadata": {},
   "source": [
    "3. Fruits into Basket\n",
    "\n",
    "Pattern and Logic\n",
    "\n",
    "To solve this problem, we can use the sliding window (or two-pointer) technique. The idea is to keep track of the number of different types of fruits in the current window and ensure that it does not exceed two. We will adjust the window size dynamically to maximize the number of fruits we can collect.\n",
    "Pseudo Code\n",
    "\n",
    "    Initialize two pointers start and end to 0.\n",
    "    Initialize a dictionary basket to keep track of the count of each type of fruit in the current window.\n",
    "    Initialize a variable max_fruits to store the maximum number of fruits we can collect.\n",
    "    Iterate end from 0 to the end of the fruits array.\n",
    "    Add the current fruit to the basket dictionary.\n",
    "    If the number of different types of fruits in the basket exceeds 2, move the start pointer to the right until the number of different types of fruits in the basket is 2.\n",
    "    Update max_fruits with the maximum number of fruits in the current window.\n",
    "    Return max_fruits."
   ]
  },
  {
   "cell_type": "code",
   "execution_count": null,
   "metadata": {},
   "outputs": [],
   "source": [
    "def totalFruit(fruits: List[int]) -> int:\n",
    "    start = 0\n",
    "    basket = {}\n",
    "    max_fruits = 0\n",
    "    \n",
    "    for end in range(len(fruits)):\n",
    "        if fruits[end] in basket:\n",
    "            basket[fruits[end]] += 1\n",
    "        else:\n",
    "            basket[fruits[end]] = 1\n",
    "        \n",
    "        while len(basket) > 2:\n",
    "            basket[fruits[start]] -= 1\n",
    "            if basket[fruits[start]] == 0:\n",
    "                del basket[fruits[start]]\n",
    "            start += 1\n",
    "        \n",
    "        max_fruits = max(max_fruits, end - start + 1)\n",
    "    \n",
    "    return max_fruits"
   ]
  },
  {
   "cell_type": "markdown",
   "metadata": {},
   "source": [
    "4. Permutation in a String"
   ]
  },
  {
   "cell_type": "code",
   "execution_count": null,
   "metadata": {},
   "outputs": [],
   "source": [
    "class Solution:\n",
    "    def checkInclusion(self, s1: str, s2: str) -> bool:\n",
    "        from collections import Counter\n",
    "        \n",
    "        # Lengths of the strings\n",
    "        len1, len2 = len(s1), len(s2)\n",
    "        \n",
    "        # If s1 is longer than s2, it is impossible to find a permutation of s1 in s2\n",
    "        if len1 > len2:\n",
    "            return False\n",
    "        \n",
    "        # Initialize frequency counts for s1 and the first window in s2\n",
    "        s1_count = Counter(s1)\n",
    "        s2_count = Counter(s2[:len1])\n",
    "        \n",
    "        # If the first window matches, return true\n",
    "        if s1_count == s2_count:\n",
    "            return True\n",
    "        \n",
    "        # Slide the window over s2\n",
    "        for i in range(len1, len2):\n",
    "            # Include the next character in the window\n",
    "            s2_count[s2[i]] += 1\n",
    "            # Remove the first character of the previous window\n",
    "            s2_count[s2[i - len1]] -= 1\n",
    "            # Remove the character count from dictionary if it becomes 0\n",
    "            if s2_count[s2[i - len1]] == 0:\n",
    "                del s2_count[s2[i - len1]]\n",
    "            # Check if the current window matches\n",
    "            if s1_count == s2_count:\n",
    "                return True\n",
    "        \n",
    "        return False"
   ]
  },
  {
   "cell_type": "code",
   "execution_count": null,
   "metadata": {},
   "outputs": [],
   "source": []
  }
 ],
 "metadata": {
  "kernelspec": {
   "display_name": "Python 3",
   "language": "python",
   "name": "python3"
  },
  "language_info": {
   "name": "python",
   "version": "3.11.8"
  }
 },
 "nbformat": 4,
 "nbformat_minor": 2
}
