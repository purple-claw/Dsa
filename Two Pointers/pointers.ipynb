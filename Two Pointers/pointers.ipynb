{
 "cells": [
  {
   "cell_type": "markdown",
   "metadata": {},
   "source": [
    "1.. Merge 2 Sorted List\n",
    "\n",
    "Given the heads of two sorted linked lists list1 and list2, merge the two lists into one sorted list. The merged list should be made by splicing together the nodes of the first two lists. Return the head of the merged linked list.\n",
    "Approach Using Two Pointers\n",
    "Logical Pattern and Explanation\n",
    "\n",
    "    Two Pointers Technique:\n",
    "        We use two pointers, one for each list (list1 and list2), to traverse the lists.\n",
    "    Comparing Nodes:\n",
    "        At each step, compare the current nodes of list1 and list2.\n",
    "        Append the smaller node to the merged list and move the corresponding pointer forward.\n",
    "    Handling Remaining Nodes:\n",
    "        After one list is exhausted, append the remaining nodes of the other list to the merged list.\n",
    "    Dummy Node:\n",
    "        Use a dummy node to simplify edge cases (e.g., when one or both lists are empty)."
   ]
  },
  {
   "cell_type": "code",
   "execution_count": null,
   "metadata": {},
   "outputs": [],
   "source": [
    "class ListNode:\n",
    "    def __init__(self, val=0, next=None):\n",
    "        self.val = val\n",
    "        self.next = next\n",
    "\n",
    "class Solution:\n",
    "    def mergeTwoLists(self, list1: ListNode, list2: ListNode) -> ListNode:\n",
    "        dummy = ListNode()\n",
    "        current = dummy\n",
    "        \n",
    "        while list1 and list2:\n",
    "            if list1.val < list2.val:\n",
    "                current.next = list1\n",
    "                list1 =list1.next\n",
    "            if list1.val > list2.val:\n",
    "                current.next = list2\n",
    "                list2.next = list2\n",
    "            current = current.next\n",
    "        \n",
    "        if list1:\n",
    "            current.next = list1\n",
    "        if list2:\n",
    "            current.next = list2\n",
    "\n",
    "        return dummy.next\n"
   ]
  },
  {
   "cell_type": "markdown",
   "metadata": {},
   "source": [
    "2. TwoSum\n",
    "\n"
   ]
  },
  {
   "cell_type": "code",
   "execution_count": null,
   "metadata": {},
   "outputs": [],
   "source": [
    "class Solution:\n",
    "    def twoSum(self, nums: List[int], target: int) -> List[int]:\n",
    "        for i in range(len(nums)-1,-1,-1):\n",
    "            for j in range(i+1,len(nums)):\n",
    "                if nums[i]+nums[j]==target:\n",
    "                    return [i,j]"
   ]
  },
  {
   "cell_type": "markdown",
   "metadata": {},
   "source": [
    "3. Threesum\n",
    "\n",
    "iven an integer array nums, return all the triplets [nums[i], nums[j], nums[k]] such that i != j, i != k, and j != k, and nums[i] + nums[j] + nums[k] == 0.\n",
    "\n",
    "Notice that the solution set must not contain duplicate triplets.\n",
    "\n",
    " \n",
    "\n",
    "Example 1:\n",
    "\n",
    "Input: nums = [-1,0,1,2,-1,-4]\n",
    "Output: [[-1,-1,2],[-1,0,1]]\n",
    "Explanation: \n",
    "nums[0] + nums[1] + nums[2] = (-1) + 0 + 1 = 0.\n",
    "nums[1] + nums[2] + nums[4] = 0 + 1 + (-1) = 0.\n",
    "nums[0] + nums[3] + nums[4] = (-1) + 2 + (-1) = 0.\n",
    "The distinct triplets are [-1,0,1] and [-1,-1,2].\n",
    "Notice that the order of the output and the order of the triplets does not matter.\n"
   ]
  },
  {
   "cell_type": "code",
   "execution_count": null,
   "metadata": {},
   "outputs": [],
   "source": [
    "def threesum(nums):\n",
    "    res = []\n",
    "    total = 0\n",
    "    nums.sort()\n",
    "    n = len(nums)\n",
    "    for i in range(len(nums)):\n",
    "        if i>0 and nums[i] == nums[i+1]:\n",
    "            continue\n",
    "        l,r = i+1, n-1\n",
    "        while l < r:\n",
    "            total += nums[i] + nums[l] + nums[r]\n",
    "            if total == 0:\n",
    "                res.append(nums[i],nums[l],nums[r])\n",
    "                while l < r and nums[l] == nums[l+1]:\n",
    "                    l += 1\n",
    "                while l < r and nums[r] == nums[r-1]:\n",
    "                    r-=1\n",
    "                l += 1\n",
    "                r -= 1\n",
    "            elif total < 0:\n",
    "                l += 1\n",
    "            else:\n",
    "                r-=1\n",
    "    return res "
   ]
  },
  {
   "cell_type": "markdown",
   "metadata": {},
   "source": [
    "4. 3 Sum Closest\n",
    "\n",
    "Given an integer array nums of length n and an integer target, find three integers in nums such that the sum is closest to target.\n",
    "\n",
    "Return the sum of the three integers.\n",
    "\n",
    "You may assume that each input would have exactly one solution."
   ]
  },
  {
   "cell_type": "code",
   "execution_count": null,
   "metadata": {},
   "outputs": [],
   "source": [
    "def threesumclosest(nums, target):\n",
    "    nums.sort()\n",
    "    res = nums[0] + nums[1] + nums[2]\n",
    "    for i in range(len(nums)-2):\n",
    "        l,r = i+1, len(nums)-1\n",
    "        while l < r:\n",
    "            sum = nums[i] + nums[l] + nums[r]\n",
    "            if sum == target:\n",
    "                return target\n",
    "            if abs(sum-target) < abs(res - target):\n",
    "                res = sum\n",
    "            if sum < target:\n",
    "                l += 1\n",
    "            elif sum > target:\n",
    "                r-=1\n",
    "            else:\n",
    "                return res\n",
    "    return res"
   ]
  },
  {
   "cell_type": "markdown",
   "metadata": {},
   "source": [
    "5. Sort Colors\n",
    "\n",
    "Given an array nums with n objects colored red, white, or blue, sort them in-place so that objects of the same color are adjacent, with the colors in the order red, white, and blue.\n",
    "\n",
    "We will use the integers 0, 1, and 2 to represent the color red, white, and blue, respectively.\n",
    "\n",
    "You must solve this problem without using the library's sort function."
   ]
  },
  {
   "cell_type": "code",
   "execution_count": null,
   "metadata": {},
   "outputs": [],
   "source": [
    "def sortColors(nums):\n",
    "    n = len(nums)\n",
    "    last = n-1\n",
    "    while last:\n",
    "        for i in range(last):\n",
    "            if nums[i] > nums[i+1]:\n",
    "                temp = nums[i]\n",
    "                nums[i] = nums[i+1]\n",
    "                nums[i+1] = temp\n",
    "        last -= 1\n",
    "    return nums"
   ]
  },
  {
   "cell_type": "markdown",
   "metadata": {},
   "source": [
    "6. Is Subsequence\n",
    "\n",
    "Given two strings s and t, return true if s is a subsequence of t, or false otherwise.\n",
    "\n",
    "A subsequence of a string is a new string that is formed from the original string by deleting some (can be none) of the characters without disturbing the relative positions of the remaining characters. (i.e., \"ace\" is a subsequence of \"abcde\" while \"aec\" is not)."
   ]
  },
  {
   "cell_type": "code",
   "execution_count": null,
   "metadata": {},
   "outputs": [],
   "source": [
    "def isssq(s,t):\n",
    "    i,j=0,0\n",
    "    while i < len(s) and j < len(t):\n",
    "        if s[i] == t[j]:\n",
    "            i += 1\n",
    "        j += 1\n",
    "    return i == len(s)      "
   ]
  },
  {
   "cell_type": "markdown",
   "metadata": {},
   "source": [
    "7. Move Zeros\n",
    "\n",
    "Given an integer array nums, move all 0's to the end of it while maintaining the relative order of the non-zero elements.\n",
    "\n",
    "Note that you must do this in-place without making a copy of the array."
   ]
  },
  {
   "cell_type": "code",
   "execution_count": 3,
   "metadata": {},
   "outputs": [
    {
     "name": "stdout",
     "output_type": "stream",
     "text": [
      "[1, 3, 5, 6, 4, 9, 7, 0, 0, 0, 0, 0]\n"
     ]
    }
   ],
   "source": [
    "def movezeros(nums):\n",
    "    nz = 0\n",
    "    for i in range(len(nums)):\n",
    "        if nums[i] != 0:\n",
    "            nums[nz],nums[i] = nums[i],nums[nz]\n",
    "            nz += 1\n",
    "    return nums\n",
    "\n",
    "nums = [1,0,3,0,5,0,0,6,4,9,0,7]\n",
    "print(movezeros(nums))"
   ]
  },
  {
   "cell_type": "markdown",
   "metadata": {},
   "source": [
    "8. Squares of a Sorted Array\n",
    "\n"
   ]
  },
  {
   "cell_type": "code",
   "execution_count": null,
   "metadata": {},
   "outputs": [],
   "source": [
    "sys.stdout = open('user.out', 'w')\n",
    "\n",
    "for nums in map(loads, sys.stdin):\n",
    "    result = sorted(x**2 for x in nums)\n",
    "    print(dumps(result).replace(' ', ''))\n",
    "exit()"
   ]
  },
  {
   "cell_type": "markdown",
   "metadata": {},
   "source": [
    "9. Find Duplicate Number\n",
    "\n",
    "Given an array of integers nums containing n + 1 integers where each integer is in the range [1, n] inclusive, there is only one repeated number in nums. Return this repeated number. You must solve the problem without modifying the array nums and use only constant extra space.\n",
    "Pattern of the Problem\n",
    "\n",
    "    Two Pointers (Floyd's Tortoise and Hare) Approach: This approach uses the cycle detection algorithm (similar to finding the cycle in a linked list) to identify the repeated number.\n",
    "    Binary Search Approach: This approach uses binary search on the range of values [1, n] to find the repeated number.\n",
    "\n",
    "Two Pointers Approach (Floyd's Tortoise and Hare)\n",
    "Explanation\n",
    "\n",
    "The idea is to treat the array like a linked list where the value of the array at a particular index points to the next index. We use Floyd's Tortoise and Hare algorithm to detect the cycle.\n",
    "Pseudo Code\n",
    "\n",
    "pseudo\n",
    "\n",
    "function findDuplicate(nums):\n",
    "    # Initialize slow and fast pointers\n",
    "    slow = nums[0]\n",
    "    fast = nums[0]\n",
    "\n",
    "    # Move slow by one step and fast by two steps until they meet\n",
    "    do:\n",
    "        slow = nums[slow]\n",
    "        fast = nums[nums[fast]]\n",
    "    while slow != fast\n",
    "\n",
    "    # Find the entrance to the cycle\n",
    "    slow = nums[0]\n",
    "    while slow != fast:\n",
    "        slow = nums[slow]\n",
    "        fast = nums[fast]\n",
    "\n",
    "    return slow"
   ]
  },
  {
   "cell_type": "code",
   "execution_count": null,
   "metadata": {},
   "outputs": [],
   "source": [
    "class Solution:\n",
    "    def findDuplicate(self, nums: List[int]) -> int:\n",
    "        slow = nums[0]\n",
    "        fast = nums[0]\n",
    "        while True:\n",
    "            slow = nums[slow]\n",
    "            fast = nums[nums[fast]]\n",
    "            if slow == fast:\n",
    "                break\n",
    "        \n",
    "        slow = nums[0]\n",
    "        while slow != fast:\n",
    "            slow = nums[slow]\n",
    "            fast = nums[fast]\n",
    "        return slow"
   ]
  },
  {
   "cell_type": "markdown",
   "metadata": {},
   "source": [
    "10. Trapping Rain Water\n",
    "\n",
    "Given an array of non-negative integers representing the height of bars, compute how much water it is able to trap after raining. The amount of trapped water is determined by how much water can be held by the bars based on their heights.\n",
    "Pattern and Logic\n",
    "\n",
    "The problem is about finding how much water can be trapped between the bars after raining. To solve this, we can use a two-pointer approach:\n",
    "\n",
    "    Two Pointers: One pointer starts from the left (i) and the other from the right (j). We move these pointers towards each other to find the trapped water.\n",
    "    Left and Right Maximums: At each step, we maintain the maximum height observed so far from the left (left_max) and from the right (right_max).\n",
    "    Trapped Water Calculation:\n",
    "        If left_max is less than or equal to right_max, the water trapped at the left pointer is determined by the difference between left_max and the height at the left pointer (height[i]).\n",
    "        If right_max is less than left_max, the water trapped at the right pointer is determined by the difference between right_max and the height at the right pointer (height[j])."
   ]
  },
  {
   "cell_type": "code",
   "execution_count": null,
   "metadata": {},
   "outputs": [],
   "source": [
    "def trap(hgs):\n",
    "    i = 0\n",
    "    lmax = hgs[0]\n",
    "    j = len(hgs)-1\n",
    "    rmax = hgs[j]\n",
    "    sum = 0\n",
    "    while i < j:\n",
    "        if lmax < rmax:\n",
    "            sum += lmax[i] - hgs[i]\n",
    "            i += 1\n",
    "            lmax = max(lmax,hgs[i])\n",
    "        else:\n",
    "            sum += rmax[j] - hgs[j]\n",
    "            j -= 1\n",
    "            rmax = max(rmax, hgs[j])\n",
    "    return sum"
   ]
  },
  {
   "cell_type": "markdown",
   "metadata": {},
   "source": [
    "11. Container With Most Water\n",
    "\n",
    "You are given an integer array height of length n. There are n vertical lines drawn such that the two endpoints of the ith line are (i, 0) and (i, height[i]).\n",
    "\n",
    "Find two lines that together with the x-axis form a container, such that the container contains the most water.\n",
    "\n",
    "Return the maximum amount of water a container can store.\n",
    "\n",
    "Notice that you may not slant the container."
   ]
  },
  {
   "cell_type": "code",
   "execution_count": null,
   "metadata": {},
   "outputs": [],
   "source": [
    "def conwater(hgs):\n",
    "    l = 0\n",
    "    r = len(hgs)-1\n",
    "    sum = 0\n",
    "    while l < r:\n",
    "        w = l - r\n",
    "        h = min(hgs[l],hgs[r])\n",
    "        area = w * h\n",
    "        sum = max(sum,area)\n",
    "        if hgs[l] < hgs[r]:\n",
    "            l += 1\n",
    "        if hgs[l] > hgs[r]:\n",
    "            r -= 1\n",
    "        else:\n",
    "            l += 1\n",
    "            r -= 1\n",
    "    return sum  "
   ]
  },
  {
   "cell_type": "markdown",
   "metadata": {},
   "source": [
    "12. Subarray Product Less Than K\n",
    "\n",
    "Given an array of integers nums and an integer k, return the number of contiguous subarrays where the product of all the elements in the subarray is strictly less than k.\n",
    "Pattern and Logic\n",
    "\n",
    "To solve this problem efficiently, we can use a sliding window (or two pointers) approach. The idea is to maintain a window of subarrays where the product of all elements is less than k. If at any point the product becomes equal to or greater than k, we shrink the window from the left until the product is less than k again. The key here is to count all valid subarrays ending at each position as we expand the window to the right."
   ]
  },
  {
   "cell_type": "markdown",
   "metadata": {},
   "source": [
    "PseudoCode :\n",
    "function numSubarrayProductLessThanK(nums, k):\n",
    "    if k <= 1:\n",
    "        return 0\n",
    "\n",
    "    product = 1\n",
    "    left = 0\n",
    "    count = 0\n",
    "\n",
    "    for right in range(0, len(nums)):\n",
    "        product = product * nums[right]\n",
    "        while product >= k:\n",
    "            product = product // nums[left]\n",
    "            left = left + 1\n",
    "        count = count + (right - left + 1)\n",
    "\n",
    "    return count"
   ]
  },
  {
   "cell_type": "code",
   "execution_count": null,
   "metadata": {},
   "outputs": [],
   "source": [
    "class Solution:\n",
    "    def numSubarrayProductLessThanK(nums,k) -> int:\n",
    "        if k <= 1:\n",
    "            return 0\n",
    "        left, right, product, count = 0, 0, 1, 0\n",
    "        n = len(nums)\n",
    "        while right < n:\n",
    "            product *= nums[right]\n",
    "            while product >= k:\n",
    "                product //= nums[left]\n",
    "                left += 1\n",
    "            count += 1 + (right - left)\n",
    "            right += 1\n",
    "        return count"
   ]
  },
  {
   "cell_type": "markdown",
   "metadata": {},
   "source": [
    "13. Backspace String Character"
   ]
  },
  {
   "cell_type": "code",
   "execution_count": null,
   "metadata": {},
   "outputs": [],
   "source": [
    "class Solution:\n",
    "    def buildString(self, string):\n",
    "        stack = []\n",
    "        for char in string:\n",
    "            if char != '#':\n",
    "                stack.append(char)\n",
    "            elif stack:\n",
    "                stack.pop()\n",
    "        return ''.join(stack)\n",
    "\n",
    "    def backspaceCompare(self, s: str, t: str) -> bool:\n",
    "        return self.buildString(s) == self.buildString(t)"
   ]
  }
 ],
 "metadata": {
  "kernelspec": {
   "display_name": "Python 3",
   "language": "python",
   "name": "python3"
  },
  "language_info": {
   "codemirror_mode": {
    "name": "ipython",
    "version": 3
   },
   "file_extension": ".py",
   "mimetype": "text/x-python",
   "name": "python",
   "nbconvert_exporter": "python",
   "pygments_lexer": "ipython3",
   "version": "3.11.8"
  }
 },
 "nbformat": 4,
 "nbformat_minor": 2
}
