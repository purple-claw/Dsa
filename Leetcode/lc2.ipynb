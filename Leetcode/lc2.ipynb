{
 "cells": [
  {
   "cell_type": "markdown",
   "metadata": {},
   "source": [
    "Sliding Window Maximum"
   ]
  },
  {
   "cell_type": "code",
   "execution_count": 1,
   "metadata": {},
   "outputs": [
    {
     "name": "stdout",
     "output_type": "stream",
     "text": [
      "[3, 3, 5, 5, 6, 7]\n"
     ]
    }
   ],
   "source": [
    "def slidingWindow(nums,k):\n",
    "    l,r=0,0\n",
    "    res = []\n",
    "    q = []\n",
    "    \n",
    "    while r < len(nums):\n",
    "        while q and nums[r] > nums[q[-1]]:\n",
    "            q.pop()\n",
    "        q.append(r)\n",
    "        \n",
    "        if l > q[0]:\n",
    "            q.popleft()\n",
    "        \n",
    "        if r+1>=k:\n",
    "            res.append(nums[q[0]])\n",
    "            l+=1\n",
    "        r+=1\n",
    "    return res\n",
    "nums = [1,3,-1,-3,5,3,6,7]\n",
    "k = 3\n",
    "print(slidingWindow(nums,k))"
   ]
  },
  {
   "cell_type": "markdown",
   "metadata": {},
   "source": [
    "Two Sum"
   ]
  },
  {
   "cell_type": "code",
   "execution_count": 2,
   "metadata": {},
   "outputs": [
    {
     "name": "stdout",
     "output_type": "stream",
     "text": [
      "(1, 4)\n"
     ]
    }
   ],
   "source": [
    "def twoSum(nums,target):\n",
    "    for i in range(len(nums)):\n",
    "        for j in range(i+1,len(nums)):\n",
    "            if nums[i]+nums[j] == target:\n",
    "                return i,j\n",
    "\n",
    "nums = [1,2,4,6,8,3,4,2]\n",
    "target = 10\n",
    "print(twoSum(nums,target))"
   ]
  },
  {
   "cell_type": "markdown",
   "metadata": {},
   "source": [
    "ThreeSum "
   ]
  },
  {
   "cell_type": "code",
   "execution_count": 7,
   "metadata": {},
   "outputs": [
    {
     "name": "stdout",
     "output_type": "stream",
     "text": [
      "[[-1, -1, 2], [-1, 0, 1]]\n"
     ]
    }
   ],
   "source": [
    "def threesum(nums):\n",
    "    res = []\n",
    "    nums.sort()\n",
    "    for i in range(len(nums)):\n",
    "        if i>0 and nums[i]==nums[i-1]:\n",
    "            continue\n",
    "        j = i+1\n",
    "        k = len(nums)-1\n",
    "        \n",
    "        while j<k:\n",
    "            total = nums[i] + nums[j] + nums[k]\n",
    "            \n",
    "            if total > 0:\n",
    "                k-=1\n",
    "            elif total < 0:\n",
    "                j +=1\n",
    "            else:\n",
    "                res.append([nums[i],nums[j],nums[k]])\n",
    "                j+=1\n",
    "                while nums[j] == nums[j-1] and j < k:\n",
    "                    j +=1\n",
    "    return res\n",
    "\n",
    "nums = [-1,0,1,2,-1,-4]\n",
    "print(threesum(nums))"
   ]
  },
  {
   "cell_type": "markdown",
   "metadata": {},
   "source": [
    "4 Sum"
   ]
  },
  {
   "cell_type": "code",
   "execution_count": 5,
   "metadata": {},
   "outputs": [
    {
     "name": "stdout",
     "output_type": "stream",
     "text": [
      "[(-2, -1, 1, 2), (-1, 0, 0, 1), (-2, 0, 0, 2)]\n"
     ]
    }
   ],
   "source": [
    "def foursum(nums,tar):\n",
    "    res = []\n",
    "    nums.sort()\n",
    "    s = set()\n",
    "    for i in range(len(nums)):\n",
    "        for j in range(i+1,len(nums)):\n",
    "            k = j+1\n",
    "            l = len(nums)-1\n",
    "            while k<l:\n",
    "                t = nums[i]+nums[j]+nums[k]+nums[l]\n",
    "                if t == target:\n",
    "                    s.add((nums[i],nums[j],nums[k],nums[l]))\n",
    "                    k+=1\n",
    "                    j-=1\n",
    "                elif t < target:\n",
    "                    k+=1\n",
    "                else:\n",
    "                    l -= 1\n",
    "        res = list(s)\n",
    "    return res\n",
    "nums = [1,0,-1,0,-2,2]\n",
    "target = 0\n",
    "print(foursum(nums,target))"
   ]
  },
  {
   "cell_type": "markdown",
   "metadata": {},
   "source": [
    "Product Of Array Except Self"
   ]
  },
  {
   "cell_type": "code",
   "execution_count": 3,
   "metadata": {},
   "outputs": [
    {
     "name": "stdout",
     "output_type": "stream",
     "text": [
      "[280, 112, 80, 70]\n"
     ]
    }
   ],
   "source": [
    "def poas(nums):\n",
    "    n = len(nums)\n",
    "    p = [1] * n\n",
    "    s = [1] * n\n",
    "    prod = 1\n",
    "    for i in range(n):\n",
    "        p[i] = prod\n",
    "        prod *= nums[i]\n",
    "    prod = 1\n",
    "    for i in range(n-1,-1,-1):\n",
    "        s[i] = prod\n",
    "        prod *= nums[i]\n",
    "    ans = [p[i] * s[i] for i in range(n)]\n",
    "    return ans\n",
    "\n",
    "nums = [2,5,7,8]\n",
    "print(poas(nums))"
   ]
  },
  {
   "cell_type": "markdown",
   "metadata": {},
   "source": [
    "Sort Colurs"
   ]
  },
  {
   "cell_type": "code",
   "execution_count": 8,
   "metadata": {},
   "outputs": [
    {
     "name": "stdout",
     "output_type": "stream",
     "text": [
      "[0, 1, 2, 2, 3, 6, 7, 9]\n"
     ]
    }
   ],
   "source": [
    "def bubbleSort(arr,n):\n",
    "    last = n-1\n",
    "    while last > 0:\n",
    "        for idx in range(last):\n",
    "            if arr[idx] > arr[idx+1]:\n",
    "                temp = arr[idx]\n",
    "                arr[idx] = arr[idx+1]\n",
    "                arr[idx+1] = temp\n",
    "        last -= 1\n",
    "\n",
    "arr = [9,3,2,6,1,2,7,0]\n",
    "n = len(arr)\n",
    "bubbleSort(arr,n)\n",
    "print(arr)"
   ]
  },
  {
   "cell_type": "markdown",
   "metadata": {},
   "source": [
    "Longest Subsequence without repeating Characters"
   ]
  },
  {
   "cell_type": "code",
   "execution_count": 9,
   "metadata": {},
   "outputs": [
    {
     "name": "stdout",
     "output_type": "stream",
     "text": [
      "1\n"
     ]
    }
   ],
   "source": [
    "def lswrc(s):\n",
    "    l=r=0\n",
    "    ns = set()\n",
    "    res = 0\n",
    "    while r < len(s):\n",
    "        if s[r] not in ns:\n",
    "            ns.add(s[r])\n",
    "            res = max(res,len(ns))\n",
    "            r+=1\n",
    "        else:\n",
    "            ns.remove(s[l])\n",
    "            l += 1\n",
    "    return res\n",
    "s = 'bbbbbbbb'    \n",
    "print(lswrc(s))"
   ]
  },
  {
   "cell_type": "markdown",
   "metadata": {},
   "source": [
    "Longest Consecutive Sequence"
   ]
  },
  {
   "cell_type": "code",
   "execution_count": 10,
   "metadata": {},
   "outputs": [
    {
     "name": "stdout",
     "output_type": "stream",
     "text": [
      "4\n"
     ]
    }
   ],
   "source": [
    "def lcs(nums):\n",
    "    if not nums:\n",
    "        return 0\n",
    "    leng = 0\n",
    "    sets = set(nums)\n",
    "    for i in nums:\n",
    "        if i-1 not in sets:\n",
    "            end = i+1\n",
    "            while end in sets:\n",
    "                end +=1\n",
    "            leng = max(leng,end-i)\n",
    "    return leng\n",
    "\n",
    "nums = [9,3,2,6,1,2,7,0]\n",
    "print(lcs(nums))"
   ]
  },
  {
   "cell_type": "markdown",
   "metadata": {},
   "source": [
    "Group Anagrams"
   ]
  },
  {
   "cell_type": "code",
   "execution_count": 11,
   "metadata": {},
   "outputs": [
    {
     "name": "stdout",
     "output_type": "stream",
     "text": [
      "[['eat', 'tea', 'ate'], ['tan', 'nat'], ['bat']]\n"
     ]
    }
   ],
   "source": [
    "def ga(s):\n",
    "    map = {}\n",
    "    for word in s:\n",
    "        string = ''.join(sorted(word))\n",
    "        if string in map:\n",
    "            map[string].append(word)\n",
    "        else:\n",
    "            map[string]=[word]\n",
    "    return list(map.values())\n",
    "s = [\"eat\",\"tea\",\"tan\",\"ate\",\"nat\",\"bat\"]\n",
    "print(ga(s))"
   ]
  },
  {
   "cell_type": "markdown",
   "metadata": {},
   "source": [
    "valid Palindrome"
   ]
  },
  {
   "cell_type": "code",
   "execution_count": 12,
   "metadata": {},
   "outputs": [
    {
     "name": "stdout",
     "output_type": "stream",
     "text": [
      "True\n"
     ]
    }
   ],
   "source": [
    "def vp(s):\n",
    "    l = 0\n",
    "    r = len(s)-1\n",
    "    while l<r:\n",
    "        if not s[l].isalnum():\n",
    "            l+=1\n",
    "        elif not s[r].isalnum():\n",
    "            r-=1\n",
    "        elif s[l].lower() == s[r].lower():\n",
    "            l+=1\n",
    "            r-=1\n",
    "        else:\n",
    "            return False\n",
    "    return True\n",
    "s = \"A man, a plan, a canal: Panama\"\n",
    "print(vp(s))"
   ]
  },
  {
   "cell_type": "markdown",
   "metadata": {},
   "source": [
    "STring to Integer"
   ]
  },
  {
   "cell_type": "code",
   "execution_count": 1,
   "metadata": {},
   "outputs": [
    {
     "name": "stdout",
     "output_type": "stream",
     "text": [
      "42\n",
      "-42\n",
      "4193\n",
      "0\n",
      "-2147483648\n"
     ]
    }
   ],
   "source": [
    "def myAtoi(s: str) -> int:\n",
    "    INT_MAX = 2**31 - 1\n",
    "    INT_MIN = -2**31\n",
    "    \n",
    "    def recursiveParse(s, index, sign, result, sign_processed):\n",
    "        # Base case: if index is out of bounds or non-digit character encountered after processing sign\n",
    "        if index == len(s) or (sign_processed and not s[index].isdigit()):\n",
    "            return sign * result\n",
    "\n",
    "        # Skip whitespace\n",
    "        if not sign_processed and s[index] == ' ':\n",
    "            return recursiveParse(s, index + 1, sign, result, sign_processed)\n",
    "        \n",
    "        # Handle sign if not yet processed\n",
    "        if not sign_processed and (s[index] == '-' or s[index] == '+'):\n",
    "            sign = -1 if s[index] == '-' else 1\n",
    "            return recursiveParse(s, index + 1, sign, result, True)\n",
    "        \n",
    "        # Process digits\n",
    "        if s[index].isdigit():\n",
    "            result = result * 10 + int(s[index])\n",
    "            # Clamp the result within 32-bit signed integer range\n",
    "            if sign * result < INT_MIN:\n",
    "                return INT_MIN\n",
    "            if sign * result > INT_MAX:\n",
    "                return INT_MAX\n",
    "            return recursiveParse(s, index + 1, sign, result, True)\n",
    "        \n",
    "        # Return 0 if no valid conversion could be performed\n",
    "        return 0\n",
    "\n",
    "    # Start recursive parsing from index 0\n",
    "    return recursiveParse(s, 0, 1, 0, False)\n",
    "\n",
    "# Example usage\n",
    "print(myAtoi(\"42\"))            # Output: 42\n",
    "print(myAtoi(\"   -42\"))        # Output: -42\n",
    "print(myAtoi(\"4193 with words\")) # Output: 4193\n",
    "print(myAtoi(\"words and 987\"))   # Output: 0\n",
    "print(myAtoi(\"-91283472332\"))   # Output: -2147483648"
   ]
  },
  {
   "cell_type": "markdown",
   "metadata": {},
   "source": [
    "Pow(x,n)"
   ]
  },
  {
   "cell_type": "code",
   "execution_count": 2,
   "metadata": {},
   "outputs": [
    {
     "name": "stdout",
     "output_type": "stream",
     "text": [
      "32\n"
     ]
    }
   ],
   "source": [
    "from functools import cache\n",
    "\n",
    "class Solution:\n",
    "    @cache\n",
    "    def myPow(self, x: float, n: int) -> float:\n",
    "        # Base cases\n",
    "        if n == 0:\n",
    "            return 1\n",
    "        elif n == 1:\n",
    "            return x\n",
    "        elif n == -1:\n",
    "            return 1 / x\n",
    "        \n",
    "        # Recursive case\n",
    "        half = self.myPow(x, n // 2)\n",
    "        if n % 2 == 0:\n",
    "            return half * half\n",
    "        else:\n",
    "            return half * half * (x if n > 0 else 1 / x)\n",
    "\n",
    "# Example usage\n",
    "sol = Solution()\n",
    "print(sol.myPow(2, 5))  # Output: 32"
   ]
  },
  {
   "cell_type": "markdown",
   "metadata": {},
   "source": [
    "Count Good Numbers"
   ]
  },
  {
   "cell_type": "code",
   "execution_count": null,
   "metadata": {},
   "outputs": [],
   "source": [
    "MOD = 10**9 + 7\n",
    "EVEN_DIGITS = ['0', '2', '4', '6', '8']\n",
    "PRIME_DIGITS = ['2', '3', '5', '7']\n",
    "\n",
    "from functools import lru_cache\n",
    "\n",
    "class Solution:\n",
    "    def countGoodNumbers(self, n: int) -> int:\n",
    "        @lru_cache(None)\n",
    "        def count(index):\n",
    "            if index == n:\n",
    "                return 1\n",
    "            if index % 2 == 0:\n",
    "                # If the index is even, we must choose an even digit\n",
    "                return sum(count(index + 1) for digit in EVEN_DIGITS) % MOD\n",
    "            else:\n",
    "                # If the index is odd, we must choose a prime digit\n",
    "                return sum(count(index + 1) for digit in PRIME_DIGITS) % MOD\n",
    "        \n",
    "        return count(0)"
   ]
  },
  {
   "cell_type": "markdown",
   "metadata": {},
   "source": [
    "Koko Eating Bananas"
   ]
  },
  {
   "cell_type": "code",
   "execution_count": 2,
   "metadata": {},
   "outputs": [],
   "source": [
    "class Solution:\n",
    "    def minEatingSpeed(piles,h):\n",
    "        n = len(piles)\n",
    "        mins = 1\n",
    "        maxs = max(piles)\n",
    "        def isPossible(val):\n",
    "            hours = h\n",
    "            for ele in piles:\n",
    "                if ele <= val:\n",
    "                    hours -= 1\n",
    "                else:\n",
    "                    hours -= (ele // val)\n",
    "                    if ele % val != 0:\n",
    "                        hours -= 1\n",
    "                if hours < 0:\n",
    "                    return False\n",
    "            return True\n",
    "        low = mins\n",
    "        high = maxs\n",
    "        res = -1\n",
    "        while low <= high:\n",
    "            mid = (low+high)//2\n",
    "            if isPossible(mid):\n",
    "                res = mid\n",
    "                high = mid -1\n",
    "            else:\n",
    "                low = mid + 1\n",
    "        return res\n"
   ]
  },
  {
   "cell_type": "markdown",
   "metadata": {},
   "source": [
    "Shipping Container"
   ]
  },
  {
   "cell_type": "code",
   "execution_count": 3,
   "metadata": {},
   "outputs": [],
   "source": [
    "class Solution:\n",
    "    def shipWithinDays(weights, days):\n",
    "        mins = max(weights)\n",
    "        maxs = sum(weights)\n",
    "\n",
    "        def isPossible(val):\n",
    "            curr = 0\n",
    "            left = days - 1\n",
    "            for pak in weights:\n",
    "                if pak > val:\n",
    "                    return False\n",
    "                if pak + curr > val:\n",
    "                    curr = pak\n",
    "                    left -= 1\n",
    "                    if left < 0:\n",
    "                        return False\n",
    "                else:\n",
    "                    curr += pak\n",
    "            return True\n",
    "\n",
    "        low = mins\n",
    "        high = maxs\n",
    "        res = -1\n",
    "        while low <= high:\n",
    "            mid = (low + high) // 2\n",
    "            if isPossible(mid):\n",
    "                res = mid\n",
    "                high = mid - 1\n",
    "            else:\n",
    "                low = mid + 1\n",
    "        return res"
   ]
  },
  {
   "cell_type": "markdown",
   "metadata": {},
   "source": [
    "Painters Partition"
   ]
  },
  {
   "cell_type": "code",
   "execution_count": 4,
   "metadata": {},
   "outputs": [],
   "source": [
    "class Solution:\n",
    "    def minTime (self, arr, n, k):\n",
    "        # if the 'k' matches with 'n', then each painter can paint one board\n",
    "        minPossibleTime = max(arr)\n",
    "        \n",
    "        # if there is one painter avaibale, then he takes the below amount of time to complete\n",
    "        maxPossibleTime = sum(arr)\n",
    "        \n",
    "        def isPossible(value):\n",
    "            paintersCount = 1 \n",
    "            currSum = 0 \n",
    "            for ele in arr:\n",
    "                if ele > value:\n",
    "                    return False \n",
    "                elif currSum + ele > value:\n",
    "                    currSum = ele \n",
    "                    paintersCount += 1 \n",
    "                    if paintersCount > k:\n",
    "                        return False \n",
    "                else:\n",
    "                    currSum += ele \n",
    "            return True\n",
    "        \n",
    "        left, right = minPossibleTime, maxPossibleTime\n",
    "        result = -1\n",
    "        while left <= right:\n",
    "            mid = (left + right) // 2 \n",
    "            if isPossible(mid):\n",
    "                result = mid \n",
    "                # Since we need to find minimum time, so reducing further\n",
    "                right = mid - 1 \n",
    "            else:\n",
    "                left = mid + 1 \n",
    "        return result"
   ]
  },
  {
   "cell_type": "markdown",
   "metadata": {},
   "source": [
    "Grumpy Store Owner"
   ]
  },
  {
   "cell_type": "code",
   "execution_count": 1,
   "metadata": {},
   "outputs": [],
   "source": [
    "class Solution(object):\n",
    "    def maxSatisfied(self, customers, grumpy, minutes):\n",
    "        n = len(customers)\n",
    "        rightSideGrumpy = [0] * (n + 1)\n",
    "        leftSideGrumpy = [0] * (n + 1) \n",
    "        for index in range(n):\n",
    "            if grumpy[index] == 0:\n",
    "                leftSideGrumpy[index] = customers[index]\n",
    "            if index > 0:\n",
    "                leftSideGrumpy[index] += leftSideGrumpy[index - 1]\n",
    "\n",
    "        for index in range(n - 1, -1, -1):\n",
    "            if grumpy[index] == 0:\n",
    "                rightSideGrumpy[index] = customers[index]\n",
    "            if index < n - 1:\n",
    "                rightSideGrumpy[index] += rightSideGrumpy[index + 1]\n",
    "\n",
    "        result = 0 \n",
    "        currSum = sum(customers[:minutes]) \n",
    "        result = currSum + rightSideGrumpy[minutes]\n",
    "        left, right = 0, minutes\n",
    "\n",
    "        while right < n:\n",
    "            currSum -= customers[left]\n",
    "            currSum += customers[right]\n",
    "            currentResult = currSum + rightSideGrumpy[right + 1] + leftSideGrumpy[left]\n",
    "            result = max(result, currentResult)\n",
    "            left += 1 \n",
    "            right += 1\n",
    "        \n",
    "        return result"
   ]
  },
  {
   "cell_type": "markdown",
   "metadata": {},
   "source": [
    "Combination Sum - I"
   ]
  },
  {
   "cell_type": "code",
   "execution_count": null,
   "metadata": {},
   "outputs": [],
   "source": [
    "class Solution:\n",
    "    def combinationSum(self, candidates, target):\n",
    "        result = []\n",
    "\n",
    "        def backtrack(remain, combo, start):\n",
    "            if remain == 0:\n",
    "                # If remain is zero, it means we've found a valid combination\n",
    "                result.append(list(combo))\n",
    "                return\n",
    "            elif remain < 0:\n",
    "                # If remain is negative, it means the current combination exceeds the target\n",
    "                return\n",
    "\n",
    "            for i in range(start, len(candidates)):\n",
    "                # Include the candidate[i] in the current combination\n",
    "                combo.append(candidates[i])\n",
    "                # Recursively call backtrack with updated remaining sum and same starting index (i) to allow repeated use\n",
    "                backtrack(remain - candidates[i], combo, i)\n",
    "                # Backtrack: remove the last added candidate to explore other possibilities\n",
    "                combo.pop()\n",
    "\n",
    "        backtrack(target, [], 0)\n",
    "        return result\n",
    "\n",
    "# Example usage\n",
    "solution = Solution()\n",
    "print(solution.combinationSum([2, 3, 6, 7], 7))  # Output: [[2, 2, 3], [7]]\n",
    "print(solution.combinationSum([2, 3, 5], 8))    # Output: [[2, 2, 2, 2], [2, 3, 3], [3, 5]]\n",
    "print(solution.combinationSum([2], 1))          # Output: []"
   ]
  },
  {
   "cell_type": "markdown",
   "metadata": {},
   "source": [
    "Combination Sum - II"
   ]
  },
  {
   "cell_type": "code",
   "execution_count": null,
   "metadata": {},
   "outputs": [],
   "source": [
    "class Solution:\n",
    "    def combinationSum2(self, candidates, target):\n",
    "        candidates.sort() \n",
    "        result = []\n",
    "\n",
    "        def backtrack(remain, combo, start):\n",
    "            if remain == 0:\n",
    "                result.append(list(combo))\n",
    "                return\n",
    "            elif remain < 0:\n",
    "                return\n",
    "\n",
    "            for i in range(start, len(candidates)):\n",
    "                # Skip duplicate elements\n",
    "                if i > start and candidates[i] == candidates[i - 1]:\n",
    "                    continue\n",
    "\n",
    "                combo.append(candidates[i])\n",
    "                backtrack(remain - candidates[i], combo, i + 1)\n",
    "                combo.pop()\n",
    "\n",
    "        backtrack(target, [], 0)\n",
    "        return result\n",
    "\n",
    "solution = Solution()\n",
    "print(solution.combinationSum2([10,1,2,7,6,1,5], 8)) \n",
    "print(solution.combinationSum2([2,5,2,1,2], 5))       "
   ]
  },
  {
   "cell_type": "markdown",
   "metadata": {},
   "source": [
    "Combination Sum - III"
   ]
  },
  {
   "cell_type": "code",
   "execution_count": null,
   "metadata": {},
   "outputs": [],
   "source": [
    "class Solution:\n",
    "    def combinationSum3(self, k: int, n: int):\n",
    "        result = []\n",
    "\n",
    "        def backtrack(start, remaining_k, remaining_n, path):\n",
    "            # Base case: if the combination is valid\n",
    "            if remaining_k == 0 and remaining_n == 0:\n",
    "                result.append(path)\n",
    "                return\n",
    "            # If the combination is invalid\n",
    "            if remaining_k < 0 or remaining_n < 0:\n",
    "                return\n",
    "\n",
    "            # Try each number from 'start' to 9\n",
    "            for i in range(start, 10):\n",
    "                backtrack(i + 1, remaining_k - 1, remaining_n - i, path + [i])\n",
    "\n",
    "        backtrack(1, k, n, [])\n",
    "        return result\n",
    "\n",
    "# Example usage\n",
    "solution = Solution()\n",
    "print(solution.combinationSum3(3, 7))  # Output: [[1, 2, 4]]\n",
    "print(solution.combinationSum3(3, 9))  # Output: [[1, 2, 6], [1, 3, 5], [2, 3, 4]]\n",
    "print(solution.combinationSum3(4, 1))  # Output: []"
   ]
  },
  {
   "cell_type": "markdown",
   "metadata": {},
   "source": [
    "Subset Sum - II"
   ]
  },
  {
   "cell_type": "code",
   "execution_count": null,
   "metadata": {},
   "outputs": [],
   "source": [
    "class Solution:\n",
    "    def subsetsWithDup(self, nums):\n",
    "        def backtrack(start, path):\n",
    "            # Add the current subset to the result\n",
    "            result.append(list(path))\n",
    "            for i in range(start, len(nums)):\n",
    "                # If the current element is the same as the previous one, skip it to avoid duplicates\n",
    "                if i > start and nums[i] == nums[i - 1]:\n",
    "                    continue\n",
    "                # Include the current element in the subset\n",
    "                path.append(nums[i])\n",
    "                # Recur with the next element\n",
    "                backtrack(i + 1, path)\n",
    "                # Backtrack by removing the current element\n",
    "                path.pop()\n",
    "        \n",
    "        # Sort the array to handle duplicates easily\n",
    "        nums.sort()\n",
    "        result = []\n",
    "        # Start the backtracking process\n",
    "        backtrack(0, [])\n",
    "        return result"
   ]
  },
  {
   "cell_type": "markdown",
   "metadata": {},
   "source": [
    "Substrings Containing All Three Characters"
   ]
  },
  {
   "cell_type": "code",
   "execution_count": 2,
   "metadata": {},
   "outputs": [],
   "source": [
    "class Solution(object):\n",
    "    def numberOfSubstrings(self, s):\n",
    "        store = dict()\n",
    "        store['a'] = 0 \n",
    "        store['b'] = 0 \n",
    "        store['c'] = 0 \n",
    "        left, right = 0, 0 \n",
    "        n = len(s)\n",
    "        result = 0\n",
    "        while right < n:\n",
    "            store[s[right]] += 1 \n",
    "            while store['a'] > 0 and store['b'] > 0 and store['c'] > 0:\n",
    "                result += (n - right)\n",
    "                store[s[left]] -= 1 \n",
    "                left += 1\n",
    "            right += 1 \n",
    "        return result"
   ]
  },
  {
   "cell_type": "markdown",
   "metadata": {},
   "source": [
    "Merge 2 Sorted Linked Lists"
   ]
  },
  {
   "cell_type": "code",
   "execution_count": null,
   "metadata": {},
   "outputs": [],
   "source": [
    "class Solution:\n",
    "    def mergeTwoLists(self, list1: Optional[ListNode], list2: Optional[ListNode]) -> Optional[ListNode]:\n",
    "        dummy = ListNode()\n",
    "        cur = dummy\n",
    "        while list1 and list2:\n",
    "            if list1.val > list2.val:\n",
    "                cur.next = list2\n",
    "                list2 = list2.next\n",
    "            else:\n",
    "                cur.next = list1\n",
    "                list1 = list1.next       \n",
    "            cur = cur.next   \n",
    "        if list1:\n",
    "            cur.next = list1\n",
    "        else:\n",
    "            cur.next = list2\n",
    "        return dummy.next"
   ]
  },
  {
   "cell_type": "markdown",
   "metadata": {},
   "source": [
    "Merge K Sorted Linked Lists"
   ]
  },
  {
   "cell_type": "code",
   "execution_count": null,
   "metadata": {},
   "outputs": [],
   "source": []
  }
 ],
 "metadata": {
  "kernelspec": {
   "display_name": "Python 3",
   "language": "python",
   "name": "python3"
  },
  "language_info": {
   "codemirror_mode": {
    "name": "ipython",
    "version": 3
   },
   "file_extension": ".py",
   "mimetype": "text/x-python",
   "name": "python",
   "nbconvert_exporter": "python",
   "pygments_lexer": "ipython3",
   "version": "3.11.8"
  }
 },
 "nbformat": 4,
 "nbformat_minor": 2
}
