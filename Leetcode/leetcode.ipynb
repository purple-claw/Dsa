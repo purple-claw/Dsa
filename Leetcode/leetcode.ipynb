{
 "cells": [
  {
   "cell_type": "markdown",
   "metadata": {},
   "source": [
    "Sliding Window Maximum"
   ]
  },
  {
   "cell_type": "code",
   "execution_count": 1,
   "metadata": {},
   "outputs": [
    {
     "name": "stdout",
     "output_type": "stream",
     "text": [
      "[3, 3, 5, 5, 6, 7]\n"
     ]
    }
   ],
   "source": [
    "def slidingWindow(nums,k):\n",
    "    l,r=0,0\n",
    "    res = []\n",
    "    q = []\n",
    "    \n",
    "    while r < len(nums):\n",
    "        while q and nums[r] > nums[q[-1]]:\n",
    "            q.pop()\n",
    "        q.append(r)\n",
    "        \n",
    "        if l > q[0]:\n",
    "            q.popleft()\n",
    "        \n",
    "        if r+1>=k:\n",
    "            res.append(nums[q[0]])\n",
    "            l+=1\n",
    "        r+=1\n",
    "    return res\n",
    "nums = [1,3,-1,-3,5,3,6,7]\n",
    "k = 3\n",
    "print(slidingWindow(nums,k))"
   ]
  },
  {
   "cell_type": "markdown",
   "metadata": {},
   "source": [
    "Two Sum"
   ]
  },
  {
   "cell_type": "code",
   "execution_count": 2,
   "metadata": {},
   "outputs": [
    {
     "name": "stdout",
     "output_type": "stream",
     "text": [
      "(1, 4)\n"
     ]
    }
   ],
   "source": [
    "def twoSum(nums,target):\n",
    "    for i in range(len(nums)):\n",
    "        for j in range(i+1,len(nums)):\n",
    "            if nums[i]+nums[j] == target:\n",
    "                return i,j\n",
    "\n",
    "nums = [1,2,4,6,8,3,4,2]\n",
    "target = 10\n",
    "print(twoSum(nums,target))"
   ]
  },
  {
   "cell_type": "markdown",
   "metadata": {},
   "source": [
    "Product Of Array Except Self"
   ]
  },
  {
   "cell_type": "code",
   "execution_count": 3,
   "metadata": {},
   "outputs": [
    {
     "name": "stdout",
     "output_type": "stream",
     "text": [
      "[280, 112, 80, 70]\n"
     ]
    }
   ],
   "source": [
    "def poas(nums):\n",
    "    n = len(nums)\n",
    "    p = [1] * n\n",
    "    s = [1] * n\n",
    "    prod = 1\n",
    "    for i in range(n):\n",
    "        p[i] = prod\n",
    "        prod *= nums[i]\n",
    "    prod = 1\n",
    "    for i in range(n-1,-1,-1):\n",
    "        s[i] = prod\n",
    "        prod *= nums[i]\n",
    "    ans = [p[i] * s[i] for i in range(n)]\n",
    "    return ans\n",
    "\n",
    "nums = [2,5,7,8]\n",
    "print(poas(nums))"
   ]
  },
  {
   "cell_type": "markdown",
   "metadata": {},
   "source": [
    "Sort Colurs"
   ]
  },
  {
   "cell_type": "code",
   "execution_count": 8,
   "metadata": {},
   "outputs": [
    {
     "name": "stdout",
     "output_type": "stream",
     "text": [
      "[0, 1, 2, 2, 3, 6, 7, 9]\n"
     ]
    }
   ],
   "source": [
    "def bubbleSort(arr,n):\n",
    "    last = n-1\n",
    "    while last > 0:\n",
    "        for idx in range(last):\n",
    "            if arr[idx] > arr[idx+1]:\n",
    "                temp = arr[idx]\n",
    "                arr[idx] = arr[idx+1]\n",
    "                arr[idx+1] = temp\n",
    "        last -= 1\n",
    "\n",
    "arr = [9,3,2,6,1,2,7,0]\n",
    "n = len(arr)\n",
    "bubbleSort(arr,n)\n",
    "print(arr)"
   ]
  },
  {
   "cell_type": "markdown",
   "metadata": {},
   "source": [
    "Longest Subsequence without repeating Characters"
   ]
  },
  {
   "cell_type": "code",
   "execution_count": 9,
   "metadata": {},
   "outputs": [
    {
     "name": "stdout",
     "output_type": "stream",
     "text": [
      "1\n"
     ]
    }
   ],
   "source": [
    "def lswrc(s):\n",
    "    l=r=0\n",
    "    ns = set()\n",
    "    res = 0\n",
    "    while r < len(s):\n",
    "        if s[r] not in ns:\n",
    "            ns.add(s[r])\n",
    "            res = max(res,len(ns))\n",
    "            r+=1\n",
    "        else:\n",
    "            ns.remove(s[l])\n",
    "            l += 1\n",
    "    return res\n",
    "s = 'bbbbbbbb'    \n",
    "print(lswrc(s))"
   ]
  },
  {
   "cell_type": "markdown",
   "metadata": {},
   "source": [
    "Longest Consecutive Sequence"
   ]
  },
  {
   "cell_type": "code",
   "execution_count": 10,
   "metadata": {},
   "outputs": [
    {
     "name": "stdout",
     "output_type": "stream",
     "text": [
      "4\n"
     ]
    }
   ],
   "source": [
    "def lcs(nums):\n",
    "    if not nums:\n",
    "        return 0\n",
    "    leng = 0\n",
    "    sets = set(nums)\n",
    "    for i in nums:\n",
    "        if i-1 not in sets:\n",
    "            end = i+1\n",
    "            while end in sets:\n",
    "                end +=1\n",
    "            leng = max(leng,end-i)\n",
    "    return leng\n",
    "\n",
    "nums = [9,3,2,6,1,2,7,0]\n",
    "print(lcs(nums))"
   ]
  },
  {
   "cell_type": "markdown",
   "metadata": {},
   "source": [
    "Group Anagrams"
   ]
  },
  {
   "cell_type": "code",
   "execution_count": 11,
   "metadata": {},
   "outputs": [
    {
     "name": "stdout",
     "output_type": "stream",
     "text": [
      "[['eat', 'tea', 'ate'], ['tan', 'nat'], ['bat']]\n"
     ]
    }
   ],
   "source": [
    "def ga(s):\n",
    "    map = {}\n",
    "    for word in s:\n",
    "        string = ''.join(sorted(word))\n",
    "        if string in map:\n",
    "            map[string].append(word)\n",
    "        else:\n",
    "            map[string]=[word]\n",
    "    return list(map.values())\n",
    "s = [\"eat\",\"tea\",\"tan\",\"ate\",\"nat\",\"bat\"]\n",
    "print(ga(s))"
   ]
  },
  {
   "cell_type": "markdown",
   "metadata": {},
   "source": [
    "valid Palindrome"
   ]
  },
  {
   "cell_type": "code",
   "execution_count": 12,
   "metadata": {},
   "outputs": [
    {
     "name": "stdout",
     "output_type": "stream",
     "text": [
      "True\n"
     ]
    }
   ],
   "source": [
    "def vp(s):\n",
    "    l = 0\n",
    "    r = len(s)-1\n",
    "    while l<r:\n",
    "        if not s[l].isalnum():\n",
    "            l+=1\n",
    "        elif not s[r].isalnum():\n",
    "            r-=1\n",
    "        elif s[l].lower() == s[r].lower():\n",
    "            l+=1\n",
    "            r-=1\n",
    "        else:\n",
    "            return False\n",
    "    return True\n",
    "s = \"A man, a plan, a canal: Panama\"\n",
    "print(vp(s))"
   ]
  },
  {
   "cell_type": "markdown",
   "metadata": {},
   "source": [
    "Combination Sum"
   ]
  },
  {
   "cell_type": "code",
   "execution_count": 1,
   "metadata": {},
   "outputs": [
    {
     "name": "stdout",
     "output_type": "stream",
     "text": [
      "[[2, 2, 3], [7]]\n",
      "[[2, 2, 2, 2], [2, 3, 3], [3, 5]]\n",
      "[]\n"
     ]
    }
   ],
   "source": [
    "class Solution:\n",
    "    def combinationSum(self, candidates, target):\n",
    "        result = []\n",
    "\n",
    "        def backtrack(remain, combo, start):\n",
    "            if remain == 0:\n",
    "                # If remain is zero, it means we've found a valid combination\n",
    "                result.append(list(combo))\n",
    "                return\n",
    "            elif remain < 0:\n",
    "                # If remain is negative, it means the current combination exceeds the target\n",
    "                return\n",
    "\n",
    "            for i in range(start, len(candidates)):\n",
    "                # Include the candidate[i] in the current combination\n",
    "                combo.append(candidates[i])\n",
    "                # Recursively call backtrack with updated remaining sum and same starting index (i) to allow repeated use\n",
    "                backtrack(remain - candidates[i], combo, i)\n",
    "                # Backtrack: remove the last added candidate to explore other possibilities\n",
    "                combo.pop()\n",
    "\n",
    "        backtrack(target, [], 0)\n",
    "        return result\n",
    "\n",
    "# Example usage\n",
    "solution = Solution()\n",
    "print(solution.combinationSum([2, 3, 6, 7], 7))  # Output: [[2, 2, 3], [7]]\n",
    "print(solution.combinationSum([2, 3, 5], 8))    # Output: [[2, 2, 2, 2], [2, 3, 3], [3, 5]]\n",
    "print(solution.combinationSum([2], 1))          # Output: []"
   ]
  },
  {
   "cell_type": "markdown",
   "metadata": {},
   "source": [
    "Combination Sum - II"
   ]
  },
  {
   "cell_type": "code",
   "execution_count": 2,
   "metadata": {},
   "outputs": [
    {
     "name": "stdout",
     "output_type": "stream",
     "text": [
      "[[1, 1, 6], [1, 2, 5], [1, 7], [2, 6]]\n",
      "[[1, 2, 2], [5]]\n"
     ]
    }
   ],
   "source": [
    "class Solution:\n",
    "    def combinationSum2(self, candidates, target):\n",
    "        candidates.sort() \n",
    "        result = []\n",
    "\n",
    "        def backtrack(remain, combo, start):\n",
    "            if remain == 0:\n",
    "                result.append(list(combo))\n",
    "                return\n",
    "            elif remain < 0:\n",
    "                return\n",
    "\n",
    "            for i in range(start, len(candidates)):\n",
    "                # Skip duplicate elements\n",
    "                if i > start and candidates[i] == candidates[i - 1]:\n",
    "                    continue\n",
    "\n",
    "                combo.append(candidates[i])\n",
    "                backtrack(remain - candidates[i], combo, i + 1)\n",
    "                combo.pop()\n",
    "\n",
    "        backtrack(target, [], 0)\n",
    "        return result\n",
    "\n",
    "solution = Solution()\n",
    "print(solution.combinationSum2([10,1,2,7,6,1,5], 8)) \n",
    "print(solution.combinationSum2([2,5,2,1,2], 5))       "
   ]
  },
  {
   "cell_type": "markdown",
   "metadata": {},
   "source": [
    "Combination Sum"
   ]
  },
  {
   "cell_type": "code",
   "execution_count": 3,
   "metadata": {},
   "outputs": [
    {
     "name": "stdout",
     "output_type": "stream",
     "text": [
      "[[1, 2, 4]]\n",
      "[[1, 2, 6], [1, 3, 5], [2, 3, 4]]\n",
      "[]\n"
     ]
    }
   ],
   "source": [
    "class Solution:\n",
    "    def combinationSum3(self, k: int, n: int):\n",
    "        result = []\n",
    "\n",
    "        def backtrack(start, remaining_k, remaining_n, path):\n",
    "            # Base case: if the combination is valid\n",
    "            if remaining_k == 0 and remaining_n == 0:\n",
    "                result.append(path)\n",
    "                return\n",
    "            # If the combination is invalid\n",
    "            if remaining_k < 0 or remaining_n < 0:\n",
    "                return\n",
    "\n",
    "            # Try each number from 'start' to 9\n",
    "            for i in range(start, 10):\n",
    "                backtrack(i + 1, remaining_k - 1, remaining_n - i, path + [i])\n",
    "\n",
    "        backtrack(1, k, n, [])\n",
    "        return result\n",
    "\n",
    "# Example usage\n",
    "solution = Solution()\n",
    "print(solution.combinationSum3(3, 7))  # Output: [[1, 2, 4]]\n",
    "print(solution.combinationSum3(3, 9))  # Output: [[1, 2, 6], [1, 3, 5], [2, 3, 4]]\n",
    "print(solution.combinationSum3(4, 1))  # Output: []"
   ]
  },
  {
   "cell_type": "markdown",
   "metadata": {},
   "source": [
    "Subset Sum - II"
   ]
  },
  {
   "cell_type": "code",
   "execution_count": 4,
   "metadata": {},
   "outputs": [],
   "source": [
    "class Solution:\n",
    "    def subsetsWithDup(self, nums):\n",
    "        def backtrack(start, path):\n",
    "            # Add the current subset to the result\n",
    "            result.append(list(path))\n",
    "            for i in range(start, len(nums)):\n",
    "                # If the current element is the same as the previous one, skip it to avoid duplicates\n",
    "                if i > start and nums[i] == nums[i - 1]:\n",
    "                    continue\n",
    "                # Include the current element in the subset\n",
    "                path.append(nums[i])\n",
    "                # Recur with the next element\n",
    "                backtrack(i + 1, path)\n",
    "                # Backtrack by removing the current element\n",
    "                path.pop()\n",
    "        \n",
    "        # Sort the array to handle duplicates easily\n",
    "        nums.sort()\n",
    "        result = []\n",
    "        # Start the backtracking process\n",
    "        backtrack(0, [])\n",
    "        return result"
   ]
  }
 ],
 "metadata": {
  "kernelspec": {
   "display_name": "Python 3",
   "language": "python",
   "name": "python3"
  },
  "language_info": {
   "codemirror_mode": {
    "name": "ipython",
    "version": 3
   },
   "file_extension": ".py",
   "mimetype": "text/x-python",
   "name": "python",
   "nbconvert_exporter": "python",
   "pygments_lexer": "ipython3",
   "version": "3.11.8"
  }
 },
 "nbformat": 4,
 "nbformat_minor": 2
}
