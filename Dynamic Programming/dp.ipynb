{
 "cells": [
  {
   "cell_type": "markdown",
   "metadata": {},
   "source": [
    "Ninja and his friends - 3D Dp"
   ]
  },
  {
   "cell_type": "code",
   "execution_count": 4,
   "metadata": {},
   "outputs": [],
   "source": [
    "def ninjaFrnds(n,m,mat):\n",
    "    def recursive(i,j1,j2):\n",
    "        #base case 1\n",
    "        if i<0 or j1>=m or j2>m:\n",
    "            return -100000000\n",
    "        #Edge Case\n",
    "        if i == n-1:\n",
    "            if j1==j2:\n",
    "                return mat[i][j1]\n",
    "            else:\n",
    "                return mat[i][j1] + mat[i][j2]\n",
    "        \n",
    "        #Recursive Case\n",
    "        res = -1000000000\n",
    "        dj = [-1,0,1]\n",
    "        for dj1 in dj:\n",
    "            for dj2 in dj:\n",
    "                if j1==j2:\n",
    "                    value = mat[i][j1] + recursive(i+1,j1+dj1,j2+dj2)\n",
    "                else:\n",
    "                    value = mat[i][j1] + mat[i][j2] + recursive(i+1,j1+dj1,j2+dj2)\n",
    "            res = max(res,value)\n",
    "        return res\n",
    "    return recursive(0,0,m-1)\n",
    "\n",
    "\n",
    "mat = [[3,1,1],[2,5,1],[1,5,5],[2,1,1]]\n",
    "n = len(mat)\n",
    "m = len(mat[0])"
   ]
  },
  {
   "cell_type": "markdown",
   "metadata": {},
   "source": [
    "Tabulation"
   ]
  },
  {
   "cell_type": "code",
   "execution_count": 5,
   "metadata": {},
   "outputs": [],
   "source": [
    "class Solution:\n",
    "    def solve(self, n, m, grid):\n",
    "        # Create a 3D DP table\n",
    "        dp = [[[-100000000 for _ in range(m)] for _ in range(m)] for _ in range(n)]\n",
    "        \n",
    "        # Base case: fill the last row values\n",
    "        for j1 in range(m):\n",
    "            for j2 in range(m):\n",
    "                if j1 == j2:\n",
    "                    dp[n-1][j1][j2] = grid[n-1][j1]\n",
    "                else:\n",
    "                    dp[n-1][j1][j2] = grid[n-1][j1] + grid[n-1][j2]\n",
    "\n",
    "        # Fill the DP table from bottom to top\n",
    "        for i in range(n-2, -1, -1):\n",
    "            for j1 in range(m):\n",
    "                for j2 in range(m):\n",
    "                    max_val = -100000000\n",
    "                    for dj1 in [-1, 0, 1]:\n",
    "                        for dj2 in [-1, 0, 1]:\n",
    "                            new_j1, new_j2 = j1 + dj1, j2 + dj2\n",
    "                            if 0 <= new_j1 < m and 0 <= new_j2 < m:\n",
    "                                if j1 == j2:\n",
    "                                    val = grid[i][j1] + dp[i+1][new_j1][new_j2]\n",
    "                                else:\n",
    "                                    val = grid[i][j1] + grid[i][j2] + dp[i+1][new_j1][new_j2]\n",
    "                                max_val = max(max_val, val)\n",
    "                    dp[i][j1][j2] = max_val\n",
    "\n",
    "        return dp[0][0][m-1]"
   ]
  },
  {
   "cell_type": "markdown",
   "metadata": {},
   "source": [
    "Buy and sell stocks - 4"
   ]
  },
  {
   "cell_type": "code",
   "execution_count": null,
   "metadata": {},
   "outputs": [],
   "source": [
    "class Solution:\n",
    "    def maxProfit(self, k: int, prices: List[int]) -> int:\n",
    "        n = len(prices)\n",
    "        def recur(day,k,buy):\n",
    "            if day==n or k==0:\n",
    "                return 0\n",
    "\n",
    "            max_profit = 0\n",
    "            if buy == 0:\n",
    "                buynow = -prices[day] + recur(day+1,k,1)\n",
    "                dontbuy = recur(day+1,k,0)\n",
    "                max_profit = max(buynow,dontbuy)\n",
    "            else:\n",
    "                sellnow = prices[day] + recur(day+1,k-1,0)\n",
    "                dontsell = recur(day+1,k,1)\n",
    "                max_profit = max(sellnow,dontsell)\n",
    "            return max_profit\n",
    "        return recur(0,k,0)"
   ]
  }
 ],
 "metadata": {
  "kernelspec": {
   "display_name": "Python 3",
   "language": "python",
   "name": "python3"
  },
  "language_info": {
   "codemirror_mode": {
    "name": "ipython",
    "version": 3
   },
   "file_extension": ".py",
   "mimetype": "text/x-python",
   "name": "python",
   "nbconvert_exporter": "python",
   "pygments_lexer": "ipython3",
   "version": "3.11.8"
  }
 },
 "nbformat": 4,
 "nbformat_minor": 2
}
