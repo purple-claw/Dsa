{
 "cells": [
  {
   "cell_type": "markdown",
   "metadata": {},
   "source": [
    "BFS"
   ]
  },
  {
   "cell_type": "code",
   "execution_count": null,
   "metadata": {},
   "outputs": [],
   "source": [
    "from collections import deque\n",
    "\n",
    "def bfs(graph, start):\n",
    "    n = len(graph)\n",
    "    visited = [0] * (n + 1)  # Initialize visited array with all items as unvisited\n",
    "    \n",
    "    visited[start] = 1  # Mark the start node as visited\n",
    "    queue = deque([start])\n",
    "    while queue:\n",
    "        node = queue.popleft()\n",
    "        print(node)\n",
    "        for neighbor in graph[node]:\n",
    "            if visited[neighbor] == 0:  # Check if neighbor is unvisited\n",
    "                visited[neighbor] = 1  # Mark neighbor as visited\n",
    "                queue.append(neighbor)"
   ]
  },
  {
   "cell_type": "code",
   "execution_count": null,
   "metadata": {},
   "outputs": [],
   "source": [
    "class Solution:\n",
    "    #Function to return Breadth First Traversal of given graph.\n",
    "    def bfsOfGraph(V,graph):\n",
    "        # code here\n",
    "        queue = deque()\n",
    "        queue.append(0)\n",
    "        visited = set()\n",
    "        visited.add(0)\n",
    "        res = [0]\n",
    "        \n",
    "        while queue:\n",
    "            node = queue.popleft()\n",
    "            for neighbour in graph[node]:\n",
    "                if neighbour not in visited:\n",
    "                    visited.add(neighbour)\n",
    "                    queue.append(neighbour)\n",
    "                    bfs.append(neighbour)\n",
    "        return res   "
   ]
  },
  {
   "cell_type": "markdown",
   "metadata": {},
   "source": [
    "DFS"
   ]
  },
  {
   "cell_type": "code",
   "execution_count": null,
   "metadata": {},
   "outputs": [],
   "source": [
    "def dfs(graph, start, visited=None):\n",
    "    if visited is None:\n",
    "        visited = set()\n",
    "    visited.add(start)\n",
    "    print(start)\n",
    "    for neighbor in graph[start]:\n",
    "        if neighbor not in visited:\n",
    "            dfs(graph, neighbor, visited)"
   ]
  },
  {
   "cell_type": "code",
   "execution_count": null,
   "metadata": {},
   "outputs": [],
   "source": [
    "def dfsOfGraph(self, V, adj):\n",
    "        res  = []\n",
    "        visited = set()\n",
    "        def recur(node):\n",
    "            visited.add(node)\n",
    "            res.append(node)\n",
    "            for n in adj[node]:\n",
    "                if n not in visited:\n",
    "                    recur(n) \n",
    "        recur(0)\n",
    "        return res"
   ]
  },
  {
   "cell_type": "markdown",
   "metadata": {},
   "source": [
    "## Problems"
   ]
  },
  {
   "cell_type": "markdown",
   "metadata": {},
   "source": [
    "Number of Provinces"
   ]
  },
  {
   "cell_type": "code",
   "execution_count": null,
   "metadata": {},
   "outputs": [],
   "source": [
    "class Solution:\n",
    "    def findCircleNum(isConnected):\n",
    "        def dfs(i):\n",
    "            visited.add(i)\n",
    "            for j in range(n):\n",
    "                if isConnected[i][j] == 1 and j not in visited:\n",
    "                    dfs(j)\n",
    "            \n",
    "        n = len(isConnected)\n",
    "        visited = set()\n",
    "        province_count = 0\n",
    "        for i in range(n):\n",
    "            if i not in visited:\n",
    "                dfs(i)\n",
    "                province_count += 1\n",
    "        return province_count"
   ]
  },
  {
   "cell_type": "markdown",
   "metadata": {},
   "source": [
    "Rotting Oranges"
   ]
  },
  {
   "cell_type": "code",
   "execution_count": null,
   "metadata": {},
   "outputs": [],
   "source": [
    "class Solution:\n",
    "    def orangesRotting(self, grid):\n",
    "        m = len(grid)\n",
    "        n = len(grid[0])\n",
    "        freshOranges = 0 \n",
    "        Q = []\n",
    "        for row in range(m):\n",
    "            for col in range(n):\n",
    "                if grid[row][col] == 1:\n",
    "                    freshOranges += 1 \n",
    "                elif grid[row][col] == 2:\n",
    "                    Q.append([row, col, 0])\n",
    "        \n",
    "        dx = [-1, 1, 0, 0]\n",
    "        dy = [0, 0, -1, 1]\n",
    "        result = 0\n",
    "\n",
    "        while Q:\n",
    "            curr = Q.pop(0)\n",
    "            result = max(result, curr[2])\n",
    "\n",
    "            for index in range(4):\n",
    "                newRow = curr[0] + dx[index]\n",
    "                newCol = curr[1] + dy[index] \n",
    "                if newRow < 0 or newCol < 0 or newRow >= m or newCol >= n or grid[newRow][newCol] == 2 or grid[newRow][newCol] == 0:\n",
    "                    continue \n",
    "                grid[newRow][newCol] = 2 \n",
    "                freshOranges -= 1\n",
    "                Q.append([newRow, newCol, curr[2] + 1])\n",
    "        \n",
    "        if freshOranges > 0:\n",
    "            return -1 \n",
    "        return result"
   ]
  },
  {
   "cell_type": "markdown",
   "metadata": {},
   "source": [
    "FloodFill"
   ]
  },
  {
   "cell_type": "code",
   "execution_count": null,
   "metadata": {},
   "outputs": [],
   "source": [
    "class Solution:\n",
    "    def floodFill(self, image,color,sr,sc):\n",
    "        m = len(image)\n",
    "        n = len(image[0])\n",
    "\n",
    "        original = image[sr][sc]\n",
    "        if original == color:\n",
    "            return image\n",
    "        \n",
    "        queue = deque([(sr,sc)])\n",
    "\n",
    "        dirs = [(-1,0),(1,0),(0,-1),(0,1)]\n",
    "        while queue:\n",
    "            x,y = queue.popleft()\n",
    "            image[x][y] = color\n",
    "            \n",
    "            for dx,dy in dirs:\n",
    "                newx, newy = x + dx, y + dy\n",
    "                if 0 <= newx < m and 0 <= newy < n and image[newx][newy] == original:\n",
    "                    queue.append((newx,newy))\n",
    "        return image"
   ]
  },
  {
   "cell_type": "markdown",
   "metadata": {},
   "source": [
    "Course Schedule II\n",
    "\n",
    "You are given numCourses, the number of courses you need to take, labeled from 0 to numCourses - 1. You are also given a list of prerequisite pairs, where prerequisites[i] = [ai, bi] means you must take course bi before taking course ai.\n",
    "\n",
    "You need to determine the order in which to take the courses to finish all of them. If there are multiple valid answers, return any one of them. If it is impossible to finish all courses, return an empty array.\n",
    "Approach\n",
    "\n",
    "This problem can be modeled as a directed graph, where each course is a node, and each prerequisite pair [ai, bi] is a directed edge from bi to ai. The task is to find a topological ordering of this directed graph."
   ]
  },
  {
   "cell_type": "code",
   "execution_count": null,
   "metadata": {},
   "outputs": [],
   "source": [
    "from collections import deque, defaultdict\n",
    "\n",
    "class Solution:\n",
    "    def findOrder(self, numCourses: int, prerequisites):\n",
    "        # Create adjacency list and in-degree array\n",
    "        graph = defaultdict(list)\n",
    "        in_degree = [0] * numCourses\n",
    "        \n",
    "        # Build the graph and populate in-degree array\n",
    "        for dest, src in prerequisites:\n",
    "            graph[src].append(dest)\n",
    "            in_degree[dest] += 1\n",
    "        \n",
    "        # Initialize the queue with all nodes having zero in-degree\n",
    "        queue = deque([i for i in range(numCourses) if in_degree[i] == 0])\n",
    "        \n",
    "        # List to store the topological order\n",
    "        topo_order = []\n",
    "        \n",
    "        while queue:\n",
    "            node = queue.popleft()\n",
    "            topo_order.append(node)\n",
    "            \n",
    "            # Reduce the in-degree of each neighbor by 1\n",
    "            for neighbor in graph[node]:\n",
    "                in_degree[neighbor] -= 1\n",
    "                # If in-degree becomes zero, add it to the queue\n",
    "                if in_degree[neighbor] == 0:\n",
    "                    queue.append(neighbor)\n",
    "        \n",
    "        # If the topological order contains all courses, return it\n",
    "        if len(topo_order) == numCourses:\n",
    "            return topo_order\n",
    "        else:\n",
    "            return []"
   ]
  },
  {
   "cell_type": "markdown",
   "metadata": {},
   "source": [
    "Biparitte Graph\n",
    "\n",
    "A graph is bipartite if its vertices can be divided into two disjoint sets AA and BB such that every edge connects a vertex in AA to a vertex in BB. In other words, there are no edges between vertices within the same set.\n",
    "\n",
    "Given an undirected graph represented as an adjacency list, determine if the graph is bipartite.\n"
   ]
  },
  {
   "cell_type": "code",
   "execution_count": null,
   "metadata": {},
   "outputs": [],
   "source": [
    "from collections import deque\n",
    "\n",
    "class Solution:\n",
    "    def isBipartite(self, graph):\n",
    "        # Initialize a color array to store colors of all vertices.\n",
    "        # -1 means the vertex is not colored yet\n",
    "        color = [-1] * len(graph)\n",
    "\n",
    "        # Process each component of the graph\n",
    "        for start in range(len(graph)):\n",
    "            # If this node is already colored, then skip it\n",
    "            if color[start] != -1:\n",
    "                continue\n",
    "\n",
    "            # Start coloring this component using BFS\n",
    "            queue = deque([start])\n",
    "            color[start] = 0  # Start coloring with 0\n",
    "\n",
    "            while queue:\n",
    "                node = queue.popleft()\n",
    "                for neighbor in graph[node]:\n",
    "                    if color[neighbor] == -1:\n",
    "                        # If the neighbor is not colored, color it with alternate color\n",
    "                        color[neighbor] = 1 - color[node]\n",
    "                        queue.append(neighbor)\n",
    "                    elif color[neighbor] == color[node]:\n",
    "                        # If the neighbor is colored with the same color as the current node, then it's not bipartite\n",
    "                        return False\n",
    "\n",
    "        return True"
   ]
  },
  {
   "cell_type": "markdown",
   "metadata": {},
   "source": [
    "Number of Distinct Islands"
   ]
  },
  {
   "cell_type": "code",
   "execution_count": null,
   "metadata": {},
   "outputs": [],
   "source": [
    "def numIslands(grid):\n",
    "    if not grid:\n",
    "        return 0\n",
    "    \n",
    "    def dfs(row,col,grid):\n",
    "        if row < 0 or row >= len(grid) or col < 0 or col >= len(grid[0]) or grid[row][col] == '0':\n",
    "            return\n",
    "        grid[row][col] = '0'\n",
    "        dirs = [(-1, 0), (1, 0), (0, -1), (0, 1), (-1, -1), (-1, 1), (1, -1), (1, 1)]\n",
    "        for dx,dy in dirs:\n",
    "            dfs(row + dx, col + dy, grid)\n",
    "            \n",
    "    num_islands= 0\n",
    "    for i in range(len(grid)):\n",
    "        for j in range(len(grid[0])):\n",
    "            if grid[i][j] == '1':\n",
    "                dfs(i,j,grid)\n",
    "                num_islands += 1\n",
    "    \n",
    "    return num_islands"
   ]
  },
  {
   "cell_type": "markdown",
   "metadata": {},
   "source": [
    "Word Ladder 1"
   ]
  },
  {
   "cell_type": "code",
   "execution_count": null,
   "metadata": {},
   "outputs": [],
   "source": [
    "from collections import deque\n",
    "\n",
    "class Solution:\n",
    "    def ladderLength(self, beginWord: str, endWord: str, wordList: list[str]) -> int:\n",
    "        wordSet = set(wordList)  # Convert list to set for O(1) lookups\n",
    "        if endWord not in wordSet:\n",
    "            return 0\n",
    "        \n",
    "        queue = deque([(beginWord, 1)])  # Queue of (current_word, current_length)\n",
    "        visited = set([beginWord])  # Set of visited words to prevent cycles\n",
    "        \n",
    "        while queue:\n",
    "            current_word, current_length = queue.popleft()\n",
    "            \n",
    "            # Check each character position\n",
    "            for i in range(len(current_word)):\n",
    "                # Try every possible character from 'a' to 'z'\n",
    "                for char in 'abcdefghijklmnopqrstuvwxyz':\n",
    "                    if char == current_word[i]:\n",
    "                        continue\n",
    "                    next_word = current_word[:i] + char + current_word[i+1:]\n",
    "                    \n",
    "                    if next_word == endWord:\n",
    "                        return current_length + 1\n",
    "                    \n",
    "                    if next_word in wordSet and next_word not in visited:\n",
    "                        visited.add(next_word)\n",
    "                        queue.append((next_word, current_length + 1))\n",
    "        \n",
    "        return 0  # No transformation found"
   ]
  },
  {
   "cell_type": "markdown",
   "metadata": {},
   "source": [
    "Word Ladder II\n",
    "\n"
   ]
  },
  {
   "cell_type": "code",
   "execution_count": null,
   "metadata": {},
   "outputs": [],
   "source": [
    "from collections import deque, defaultdict\n",
    "\n",
    "class Solution:\n",
    "    def findLadders(self, beginWord, endWord, wordList):\n",
    "        if endWord not in wordList:\n",
    "            return []\n",
    "        \n",
    "        wordSet = set(wordList)\n",
    "        queue = deque([(beginWord, [beginWord])])\n",
    "        visited = set([beginWord])\n",
    "        shortest_paths = []\n",
    "        found_shortest_path = False\n",
    "        levels_visited = set()\n",
    "        \n",
    "        while queue and not found_shortest_path:\n",
    "            current_level_visited = set()\n",
    "            for _ in range(len(queue)):\n",
    "                current_word, path = queue.popleft()\n",
    "                for i in range(len(current_word)):\n",
    "                    for char in 'abcdefghijklmnopqrstuvwxyz':\n",
    "                        next_word = current_word[:i] + char + current_word[i + 1:]\n",
    "                        if next_word == endWord:\n",
    "                            shortest_paths.append(path + [next_word])\n",
    "                            found_shortest_path = True\n",
    "                        if next_word in wordSet and next_word not in visited:\n",
    "                            current_level_visited.add(next_word)\n",
    "                            queue.append((next_word, path + [next_word]))\n",
    "            visited.update(current_level_visited)\n",
    "        \n",
    "        return shortest_paths"
   ]
  },
  {
   "cell_type": "code",
   "execution_count": 1,
   "metadata": {},
   "outputs": [
    {
     "name": "stdout",
     "output_type": "stream",
     "text": [
      "[['cog', 'dog', 'dot', 'hot', 'hit'], ['cog', 'log', 'lot', 'hot', 'hit']]\n"
     ]
    }
   ],
   "source": [
    "from collections import defaultdict, deque\n",
    "\n",
    "class Solution:\n",
    "    def findLadders(self, beginWord, endWord, wordList):\n",
    "        if endWord not in wordList:\n",
    "            return []\n",
    "        \n",
    "        wordSet = set(wordList)\n",
    "        if beginWord in wordSet:\n",
    "            wordSet.remove(beginWord)\n",
    "        \n",
    "        # Bidirectional BFS initialization\n",
    "        front_queue = deque([(beginWord, [beginWord])])\n",
    "        back_queue = deque([(endWord, [endWord])])\n",
    "        front_visited = {beginWord: [beginWord]}\n",
    "        back_visited = {endWord: [endWord]}\n",
    "        word_len = len(beginWord)\n",
    "        found = False\n",
    "        result = []\n",
    "        \n",
    "        while front_queue and back_queue and not found:\n",
    "            # Alternate between the two queues for balanced BFS\n",
    "            if len(front_queue) > len(back_queue):\n",
    "                front_queue, back_queue = back_queue, front_queue\n",
    "                front_visited, back_visited = back_visited, front_visited\n",
    "            \n",
    "            for _ in range(len(front_queue)):\n",
    "                current_word, path = front_queue.popleft()\n",
    "                \n",
    "                for i in range(word_len):\n",
    "                    for char in 'abcdefghijklmnopqrstuvwxyz':\n",
    "                        if char == current_word[i]:\n",
    "                            continue\n",
    "                        next_word = current_word[:i] + char + current_word[i + 1:]\n",
    "                        \n",
    "                        if next_word in back_visited:\n",
    "                            found = True\n",
    "                            if front_visited is back_visited:\n",
    "                                result.append(path + back_visited[next_word][::-1])\n",
    "                            else:\n",
    "                                result.append(path + back_visited[next_word][::-1])\n",
    "                        \n",
    "                        if next_word in wordSet and next_word not in front_visited:\n",
    "                            front_visited[next_word] = path + [next_word]\n",
    "                            front_queue.append((next_word, path + [next_word]))\n",
    "            \n",
    "            wordSet -= set(front_visited.keys())\n",
    "        \n",
    "        return result\n",
    "\n",
    "# Example usage:\n",
    "beginWord = \"hit\"\n",
    "endWord = \"cog\"\n",
    "wordList = [\"hot\",\"dot\",\"dog\",\"lot\",\"log\",\"cog\"]\n",
    "solution = Solution()\n",
    "print(solution.findLadders(beginWord, endWord, wordList))"
   ]
  },
  {
   "cell_type": "markdown",
   "metadata": {},
   "source": [
    "Topological Sort or Kahn's Algorithm"
   ]
  },
  {
   "cell_type": "code",
   "execution_count": 1,
   "metadata": {},
   "outputs": [
    {
     "name": "stdout",
     "output_type": "stream",
     "text": [
      "[0, 1, 2, 3, 4, 5]\n"
     ]
    }
   ],
   "source": [
    "from collections import deque, defaultdict\n",
    "\n",
    "def topological_sort_kahns(V, adj_list):\n",
    "    in_degree = [0] * V\n",
    "    \n",
    "    for u in range(V):\n",
    "        for v in adj_list[u]:\n",
    "            in_degree[v] += 1\n",
    "    \n",
    "    queue = deque([u for u in range(V) if in_degree[u] == 0])\n",
    "    topo_order = []\n",
    "    \n",
    "    while queue:\n",
    "        u = queue.popleft()\n",
    "        topo_order.append(u)\n",
    "        \n",
    "        for v in adj_list[u]:\n",
    "            in_degree[v] -= 1\n",
    "            if in_degree[v] == 0:\n",
    "                queue.append(v)\n",
    "    \n",
    "    if len(topo_order) == V:\n",
    "        return topo_order\n",
    "    else:\n",
    "        return []  # Graph has a cycle\n",
    "\n",
    "# Example usage:\n",
    "V = 6\n",
    "adj_list = [[2, 3], [3, 4], [], [5], [], []]\n",
    "print(topological_sort_kahns(V, adj_list))"
   ]
  },
  {
   "cell_type": "markdown",
   "metadata": {},
   "source": [
    "Cycle Detection For a Directed Graph Uisng Double Queue DFS"
   ]
  },
  {
   "cell_type": "code",
   "execution_count": 2,
   "metadata": {},
   "outputs": [
    {
     "name": "stdout",
     "output_type": "stream",
     "text": [
      "True\n"
     ]
    }
   ],
   "source": [
    "def is_cyclic_util(v, visited, rec_stack, adj_list):\n",
    "    visited[v] = True\n",
    "    rec_stack[v] = True\n",
    "    \n",
    "    for neighbor in adj_list[v]:\n",
    "        if not visited[neighbor]:\n",
    "            if is_cyclic_util(neighbor, visited, rec_stack, adj_list):\n",
    "                return True\n",
    "        elif rec_stack[neighbor]:\n",
    "            return True\n",
    "    \n",
    "    rec_stack[v] = False\n",
    "    return False\n",
    "\n",
    "def is_cyclic(V, adj_list):\n",
    "    visited = [False] * V\n",
    "    rec_stack = [False] * V\n",
    "    \n",
    "    for node in range(V):\n",
    "        if not visited[node]:\n",
    "            if is_cyclic_util(node, visited, rec_stack, adj_list):\n",
    "                return True\n",
    "    \n",
    "    return False\n",
    "\n",
    "# Example usage:\n",
    "V = 4\n",
    "adj_list = [[1], [2], [3], [1]]  # This graph contains a cycle: 1 -> 2 -> 3 -> 1\n",
    "print(is_cyclic(V, adj_list))  # Output: True"
   ]
  },
  {
   "cell_type": "markdown",
   "metadata": {},
   "source": [
    "Course Schedule I\n",
    "\n",
    "There are a total of numCourses courses you have to take, labeled from 0 to numCourses - 1. You are given an array prerequisites where prerequisites[i] = [ai, bi] indicates that you must take course bi first if you want to take course ai.\n",
    "\n",
    "    For example, the pair [0, 1], indicates that to take course 0 you have to first take course 1.\n",
    "\n",
    "Return true if you can finish all courses. Otherwise, return false."
   ]
  },
  {
   "cell_type": "code",
   "execution_count": null,
   "metadata": {},
   "outputs": [],
   "source": [
    "from collections import deque, defaultdict\n",
    "class Solution:\n",
    "    def canFinish(self, numCourses: int, prerequisites):\n",
    "        graph = defaultdict(list)\n",
    "        deg = [0] * numCourses\n",
    "\n",
    "        for dest,src in prerequisites:\n",
    "            graph[src].append(dest)\n",
    "            deg[dest] += 1\n",
    "\n",
    "        queue = deque([i for i in range(numCourses) if deg[i]==0])\n",
    "        topo = []\n",
    "\n",
    "        while queue:\n",
    "            node = queue.popleft()\n",
    "            topo.append(node)\n",
    "\n",
    "            for n in graph[node]:\n",
    "                deg[n] -= 1\n",
    "\n",
    "                if deg[n] == 0:\n",
    "                    queue.append(n)\n",
    "        \n",
    "        return len(topo) == numCourses"
   ]
  },
  {
   "cell_type": "markdown",
   "metadata": {},
   "source": [
    "Find Evenual Nodes\n",
    "\n",
    "You are given a directed graph with n nodes, labeled from 0 to n-1. The graph is represented as a 2D integer array graph, where graph[i] is an array of nodes adjacent to node i. This means there is a directed edge from node i to each node in graph[i].\n",
    "\n",
    "    A terminal node is a node that has no outgoing edges.\n",
    "    A safe node is a node from which every possible path leads to a terminal node (or another safe node).\n",
    "\n",
    "The task is to find and return an array of all safe nodes in the graph, sorted in ascending order."
   ]
  },
  {
   "cell_type": "code",
   "execution_count": null,
   "metadata": {},
   "outputs": [],
   "source": [
    "from collections import deque, defaultdict\n",
    "from typing import List\n",
    "\n",
    "class Solution:\n",
    "    def eventualSafeNodes(self, graph: List[List[int]]) -> List[int]:\n",
    "        n = len(graph)\n",
    "        reverse_graph = defaultdict(list)\n",
    "        in_degree = [0] * n\n",
    "\n",
    "        # Build the reverse graph and compute in-degrees\n",
    "        for src in range(n):\n",
    "            for dest in graph[src]:\n",
    "                reverse_graph[dest].append(src)\n",
    "                in_degree[src] += 1\n",
    "\n",
    "        # Initialize the queue with all terminal nodes (nodes with 0 in-degree)\n",
    "        queue = deque([i for i in range(n) if in_degree[i] == 0])\n",
    "        safe_nodes = []\n",
    "\n",
    "        # Perform topological sorting\n",
    "        while queue:\n",
    "            node = queue.popleft()\n",
    "            safe_nodes.append(node)\n",
    "            for neighbor in reverse_graph[node]:\n",
    "                in_degree[neighbor] -= 1\n",
    "                if in_degree[neighbor] == 0:\n",
    "                    queue.append(neighbor)\n",
    "\n",
    "        # Sort the safe nodes in ascending order before returning\n",
    "        safe_nodes.sort()\n",
    "        return safe_nodes"
   ]
  },
  {
   "cell_type": "markdown",
   "metadata": {},
   "source": [
    "Shortest Path in DAG\n",
    "\n",
    "Given a Directed Acyclic Graph (DAG) with N vertices numbered from 0 to N-1, and a list of edges represented by a 2D integer array edges of length M, where each edge edges[i] is a triplet [u, v, w] indicating a directed edge from vertex u to vertex v with a weight w, find the shortest path from a source vertex 0 to all other vertices. If it is impossible to reach any vertex, return -1 for that vertex.\n",
    "Approach\n",
    "\n",
    "To find the shortest paths in a DAG, we can use the following approach:\n",
    "\n",
    "    Topological Sort: Perform a topological sort of the vertices. This ensures that for every directed edge u -> v, vertex u comes before vertex v in the ordering.\n",
    "    Relaxation: Use the topologically sorted order to relax the edges. For each vertex u in the topologically sorted order, update the shortest path estimates of all its adjacent vertices v."
   ]
  },
  {
   "cell_type": "code",
   "execution_count": null,
   "metadata": {},
   "outputs": [],
   "source": [
    "from collections import defaultdict, deque\n",
    "import heapq\n",
    "\n",
    "def shortest_path_in_dag(N, edges):\n",
    "    graph = defaultdict(list)\n",
    "    deg = [0] * N\n",
    "    \n",
    "    for u,v,w in edges:\n",
    "        graph[u].append((v,w))\n",
    "        deg[v] += 1\n",
    "    \n",
    "    queue = deque([i for i in range(N) if deg[i]==0])\n",
    "    topo = []\n",
    "    \n",
    "    while queue:\n",
    "        node = queue.popleft()\n",
    "        topo.append(node)\n",
    "        \n",
    "        for n, w in graph[node]:\n",
    "            deg[n] -= 1\n",
    "            if deg[n] == 0:\n",
    "                queue.append(n)\n",
    "        \n",
    "    if len(topo) != N:\n",
    "        return [-1] * N\n",
    "    \n",
    "    # Distance Calculatrion and Relaxation\n",
    "    dis = [float('inf')] * N\n",
    "    dis[0] = 0\n",
    "    \n",
    "    for u in topo:\n",
    "        if dis[u] != float('inf'):\n",
    "            for u,w in graph:\n",
    "                if dis[u] + w < dis[v]:\n",
    "                    dis[v] = dis[u] + w\n",
    "    \n",
    "    return [d if d!=float('inf') else -1 for d in dis]"
   ]
  },
  {
   "cell_type": "markdown",
   "metadata": {},
   "source": [
    "Dijstra Algorithm\n",
    "\n",
    "Problem Statement\n",
    "\n",
    "You are given:\n",
    "\n",
    "    A weighted, undirected, and connected graph with VV vertices.\n",
    "    An adjacency list adjadj where adj[i]adj[i] contains a list of lists. Each sublist has two integers, where the first integer denotes a node jj and the second integer is the weight of the edge between node ii and node jj.\n",
    "    A source vertex SS.\n",
    "\n",
    "You need to find the shortest distance from the source vertex SS to all other vertices in the graph and return a list of these distances."
   ]
  },
  {
   "cell_type": "code",
   "execution_count": 1,
   "metadata": {},
   "outputs": [
    {
     "name": "stdout",
     "output_type": "stream",
     "text": [
      "[0, 2, 3, 5, 6]\n"
     ]
    }
   ],
   "source": [
    "import heapq\n",
    "\n",
    "def dijkstra(V, adj, S):\n",
    "    # Initialize distance array with infinity\n",
    "    distances = [float('inf')] * V\n",
    "    distances[S] = 0\n",
    "    \n",
    "    # Min-heap priority queue\n",
    "    min_heap = [(0, S)]  # (distance, vertex)\n",
    "    \n",
    "    while min_heap:\n",
    "        current_distance, u = heapq.heappop(min_heap)\n",
    "        \n",
    "        # If we find a larger distance in heap, we skip processing it\n",
    "        if current_distance > distances[u]:\n",
    "            continue\n",
    "        \n",
    "        # Explore neighbors\n",
    "        for neighbor, weight in adj[u]:\n",
    "            distance = current_distance + weight\n",
    "            \n",
    "            # If a shorter path to neighbor is found\n",
    "            if distance < distances[neighbor]:\n",
    "                distances[neighbor] = distance\n",
    "                heapq.heappush(min_heap, (distance, neighbor))\n",
    "    \n",
    "    return distances\n",
    "\n",
    "# Example usage\n",
    "V = 5\n",
    "adj = [\n",
    "    [(1, 2), (2, 4)],   # Edges from vertex 0\n",
    "    [(0, 2), (2, 1), (3, 7)],  # Edges from vertex 1\n",
    "    [(0, 4), (1, 1), (3, 2), (4, 3)],  # Edges from vertex 2\n",
    "    [(1, 7), (2, 2), (4, 1)],  # Edges from vertex 3\n",
    "    [(2, 3), (3, 1)]   # Edges from vertex 4\n",
    "]\n",
    "S = 0\n",
    "print(dijkstra(V, adj, S))  # Output: [0, 2, 3, 5, 6]"
   ]
  },
  {
   "cell_type": "markdown",
   "metadata": {},
   "source": [
    "Shortest Path in an Undirected Graph\n",
    "Using BFS"
   ]
  },
  {
   "cell_type": "code",
   "execution_count": 2,
   "metadata": {},
   "outputs": [
    {
     "name": "stdout",
     "output_type": "stream",
     "text": [
      "[0, 1, 1, 2, 2]\n"
     ]
    }
   ],
   "source": [
    "from collections import deque\n",
    "\n",
    "def shortestPath(V, adj, S):\n",
    "    # Initialize distances array with infinity\n",
    "    distances = [-1] * V\n",
    "    distances[S] = 0\n",
    "    \n",
    "    # BFS queue\n",
    "    queue = deque([S])\n",
    "    \n",
    "    while queue:\n",
    "        current = queue.popleft()\n",
    "        \n",
    "        for neighbor in adj[current]:\n",
    "            if distances[neighbor] == -1:  # If the neighbor hasn't been visited yet\n",
    "                distances[neighbor] = distances[current] + 1\n",
    "                queue.append(neighbor)\n",
    "    \n",
    "    return distances\n",
    "\n",
    "# Example usage\n",
    "V = 5\n",
    "adj = [\n",
    "    [1, 2],  # Edges from vertex 0\n",
    "    [0, 3],  # Edges from vertex 1\n",
    "    [0, 4],  # Edges from vertex 2\n",
    "    [1],     # Edges from vertex 3\n",
    "    [2]      # Edges from vertex 4\n",
    "]\n",
    "S = 0\n",
    "print(shortestPath(V, adj, S))  # Output: [0, 1, 1, 2, 2]"
   ]
  },
  {
   "cell_type": "markdown",
   "metadata": {},
   "source": [
    "Shortest Path in a Binary Matrix\n",
    "\n",
    "Given an n x n binary matrix grid, return the length of the shortest clear path in the matrix. If there is no clear path, return -1.\n",
    "\n",
    "A clear path in a binary matrix is a path from the top-left cell (i.e., (0, 0)) to the bottom-right cell (i.e., (n - 1, n - 1)) such that:\n",
    "\n",
    "    All the visited cells of the path are 0.\n",
    "    All the adjacent cells of the path are 8-directionally connected (i.e., they are different and they share an edge or a corner).\n",
    "\n",
    "The length of a clear path is the number of visited cells of this path."
   ]
  },
  {
   "cell_type": "code",
   "execution_count": null,
   "metadata": {},
   "outputs": [],
   "source": [
    "class Solution:\n",
    "    def shortestPathBinaryMatrix(self, grid: List[List[int]]) -> int:\n",
    "        n = len(grid)\n",
    "\n",
    "        dirs = [(-1, 0), (1, 0), (0, -1), (0, 1), \n",
    "                  (-1, -1), (-1, 1), (1, -1), (1, 1)]\n",
    "\n",
    "        if grid[0][0] == 1 or grid[n-1][n-1] == 1:\n",
    "            return -1\n",
    "        \n",
    "        queue = deque([(0,0,1)])\n",
    "        visited = set((0,0))\n",
    "\n",
    "        while queue:\n",
    "            r,c,l = queue.popleft()\n",
    "\n",
    "            if r == n-1 and c == n-1:\n",
    "                return l\n",
    "            \n",
    "            for dx,dy in dirs:\n",
    "                nr,nc = r+dx,c+dy\n",
    "                if 0 <= nr < n and 0 <= nc < n and grid[nr][nc] == 0 and (nr,nc) not in visited:\n",
    "                    visited.add((nr,nc))\n",
    "                    queue.append((nr,nc,l+1))\n",
    "\n",
    "        return -1"
   ]
  },
  {
   "cell_type": "markdown",
   "metadata": {},
   "source": [
    "Minimum Path Efforts\n",
    "\n",
    "You are given a 2D grid heights where each cell has a height. You need to find a path from the top-left cell (0, 0) to the bottom-right cell (rows-1, columns-1) with the minimum effort. The effort of a path is defined as the maximum absolute difference in heights between two consecutive cells in the path."
   ]
  },
  {
   "cell_type": "code",
   "execution_count": null,
   "metadata": {},
   "outputs": [],
   "source": [
    "class Solution:\n",
    "    def minimumEffortPath(self, heights: List[List[int]]) -> int:\n",
    "        rows, cols = len(heights), len(heights[0])\n",
    "        dirs = [(0, 1), (1, 0), (0, -1), (-1, 0)]\n",
    "\n",
    "        efforts = [[float('inf')] * cols for _ in range(rows)]\n",
    "        efforts[0][0] = 0\n",
    "\n",
    "        pr = [(0,0,0)]\n",
    "        while pr:\n",
    "            curr_eff, row, col = heapq.heappop(pr)\n",
    "\n",
    "            if row == rows-1 and col == cols-1:\n",
    "                return curr_eff\n",
    "            \n",
    "            for dx,dy in dirs:\n",
    "                nr, nc = row + dx, col + dy\n",
    "                if 0 <= nr < rows and 0 <= nc < cols:\n",
    "                    new_effort = max(curr_eff, abs(heights[nr][nc] - heights[row][col]))\n",
    "                    if new_effort < efforts[nr][nc]:\n",
    "                        efforts[nr][nc] = new_effort\n",
    "                        heapq.heappush(pr, (new_effort, nr, nc))\n",
    "        return -1"
   ]
  }
 ],
 "metadata": {
  "kernelspec": {
   "display_name": "Python 3",
   "language": "python",
   "name": "python3"
  },
  "language_info": {
   "codemirror_mode": {
    "name": "ipython",
    "version": 3
   },
   "file_extension": ".py",
   "mimetype": "text/x-python",
   "name": "python",
   "nbconvert_exporter": "python",
   "pygments_lexer": "ipython3",
   "version": "3.11.8"
  }
 },
 "nbformat": 4,
 "nbformat_minor": 2
}
