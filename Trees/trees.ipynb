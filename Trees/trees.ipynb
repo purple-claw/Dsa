{
 "cells": [
  {
   "cell_type": "markdown",
   "metadata": {},
   "source": [
    "1. Diameter of a Binary Tree\n",
    "\n",
    "Given the root of a binary tree, return the length of the diameter of the tree.\n",
    "\n",
    "The diameter of a binary tree is the length of the longest path between any two nodes in a tree. This path may or may not pass through the root.\n",
    "\n",
    "The length of a path between two nodes is represented by the number of edges between them."
   ]
  },
  {
   "cell_type": "code",
   "execution_count": 1,
   "metadata": {},
   "outputs": [
    {
     "name": "stdout",
     "output_type": "stream",
     "text": [
      "3\n"
     ]
    }
   ],
   "source": [
    "class TreeNode:\n",
    "    def __init__(self, val=0, left=None, right=None):\n",
    "        self.val = val\n",
    "        self.left = left\n",
    "        self.right = right\n",
    "\n",
    "class Solution:\n",
    "    def diameterOfBinaryTree(self, root: TreeNode) -> int:\n",
    "        self.diameter = 0\n",
    "        \n",
    "        def height(node):\n",
    "            if not node:\n",
    "                return 0\n",
    "            left_height = height(node.left)\n",
    "            right_height = height(node.right)\n",
    "            # Update the diameter if the path through the root of this subtree is larger\n",
    "            self.diameter = max(self.diameter, left_height + right_height)\n",
    "            # Return the height of the tree rooted at this node\n",
    "            return max(left_height, right_height) + 1\n",
    "        \n",
    "        height(root)\n",
    "        return self.diameter\n",
    "\n",
    "# Example usage:\n",
    "# Construct a binary tree for testing\n",
    "#     1\n",
    "#    / \\\n",
    "#   2   3\n",
    "#  / \\\n",
    "# 4   5\n",
    "root = TreeNode(1)\n",
    "root.left = TreeNode(2)\n",
    "root.right = TreeNode(3)\n",
    "root.left.left = TreeNode(4)\n",
    "root.left.right = TreeNode(5)\n",
    "\n",
    "solution = Solution()\n",
    "print(solution.diameterOfBinaryTree(root))  # Output: 3"
   ]
  },
  {
   "cell_type": "markdown",
   "metadata": {},
   "source": [
    "2. Invert a Binary Tree\n",
    "To invert a binary tree means to swap the left and right children of all nodes in the tree. This can be done recursively by traversing the tree and swapping the left and right children at each node.\n",
    "Steps to Invert a Binary Tree:\n",
    "\n",
    "    Base Case: If the current node is None, return None.\n",
    "    Recursive Case: Swap the left and right children of the current node.\n",
    "    Recursive Calls: Recursively invert the left and right subtrees.\n",
    "    Return the Root: After all nodes have been processed, return the root of the inverted tree.\n",
    "\n"
   ]
  },
  {
   "cell_type": "code",
   "execution_count": 2,
   "metadata": {},
   "outputs": [
    {
     "name": "stdout",
     "output_type": "stream",
     "text": [
      "4 7 2 9 6 3 1 "
     ]
    }
   ],
   "source": [
    "class TreeNode:\n",
    "    def __init__(self, val=0, left=None, right=None):\n",
    "        self.val = val\n",
    "        self.left = left\n",
    "        self.right = right\n",
    "\n",
    "class Solution:\n",
    "    def invertTree(self, root: TreeNode) -> TreeNode:\n",
    "        if root is None:\n",
    "            return None\n",
    "        \n",
    "        # Swap the left and right children\n",
    "        root.left, root.right = root.right, root.left\n",
    "        \n",
    "        # Recursively invert the left subtree\n",
    "        self.invertTree(root.left)\n",
    "        \n",
    "        # Recursively invert the right subtree\n",
    "        self.invertTree(root.right)\n",
    "        \n",
    "        # Return the root of the inverted tree\n",
    "        return root\n",
    "\n",
    "# Example usage:\n",
    "# Construct a binary tree for testing\n",
    "#     4\n",
    "#    / \\\n",
    "#   2   7\n",
    "#  / \\ / \\\n",
    "# 1  3 6  9\n",
    "root = TreeNode(4)\n",
    "root.left = TreeNode(2)\n",
    "root.right = TreeNode(7)\n",
    "root.left.left = TreeNode(1)\n",
    "root.left.right = TreeNode(3)\n",
    "root.right.left = TreeNode(6)\n",
    "root.right.right = TreeNode(9)\n",
    "\n",
    "solution = Solution()\n",
    "inverted_root = solution.invertTree(root)\n",
    "\n",
    "# Function to print tree in level order to verify inversion\n",
    "def print_tree_level_order(root):\n",
    "    if not root:\n",
    "        return\n",
    "    queue = [root]\n",
    "    while queue:\n",
    "        current = queue.pop(0)\n",
    "        print(current.val, end=' ')\n",
    "        if current.left:\n",
    "            queue.append(current.left)\n",
    "        if current.right:\n",
    "            queue.append(current.right)\n",
    "\n",
    "print_tree_level_order(inverted_root)\n",
    "# Output should be: 4 7 2 9 6 3 1"
   ]
  },
  {
   "cell_type": "markdown",
   "metadata": {},
   "source": [
    "8. Maximum Depth of a Binary Tree"
   ]
  },
  {
   "cell_type": "code",
   "execution_count": null,
   "metadata": {},
   "outputs": [],
   "source": [
    "# Definition for a binary tree node.\n",
    "# class TreeNode:\n",
    "#     def __init__(self, val=0, left=None, right=None):\n",
    "#         self.val = val\n",
    "#         self.left = left\n",
    "#         self.right = right\n",
    "class Solution:\n",
    "    def maxDepth(self, root int):\n",
    "        if root == None:\n",
    "            return 0\n",
    "\n",
    "        left_depth = self.maxDepth(root.left)\n",
    "        right_depth = self.maxDepth(root.right)\n",
    "        return 1 + max(left_depth, right_depth)"
   ]
  },
  {
   "cell_type": "markdown",
   "metadata": {},
   "source": [
    "3. Subtree of Another Tree\n",
    "Given the roots of two binary trees root and subRoot, return true if there is a subtree of root with the same structure and node values of subRoot and false otherwise.\n",
    "\n",
    "A subtree of a binary tree tree is a tree that consists of a node in tree and all of this node's descendants. The tree tree could also be considered as a subtree of itself."
   ]
  },
  {
   "cell_type": "code",
   "execution_count": null,
   "metadata": {},
   "outputs": [],
   "source": [
    "class TreeNode:\n",
    "    def __init__(self, val=0, left=None, right=None):\n",
    "        self.val = val\n",
    "        self.left = left\n",
    "        self.right = right\n",
    "\n",
    "class Solution:\n",
    "    def isSubtree(self, root: TreeNode, subRoot: TreeNode) -> bool:\n",
    "        if not root:\n",
    "            return False\n",
    "        if self.isSameTree(root, subRoot):\n",
    "            return True\n",
    "        return self.isSubtree(root.left, subRoot) or self.isSubtree(root.right, subRoot)\n",
    "\n",
    "    def isSameTree(self, s: TreeNode, t: TreeNode) -> bool:\n",
    "        if not s and not t:\n",
    "            return True\n",
    "        if not s or not t:\n",
    "            return False\n",
    "        if s.val != t.val:\n",
    "            return False\n",
    "        return self.isSameTree(s.left, t.left) and self.isSameTree(s.right, t.right)"
   ]
  },
  {
   "cell_type": "markdown",
   "metadata": {},
   "source": [
    "5. Convert Sorted Array to Binary Search Tree"
   ]
  },
  {
   "cell_type": "code",
   "execution_count": null,
   "metadata": {},
   "outputs": [],
   "source": [
    "# Definition for a binary tree node.\n",
    "# class TreeNode:\n",
    "#     def __init__(self, val=0, left=None, right=None):\n",
    "#         self.val = val\n",
    "#         self.left = left\n",
    "#         self.right = right\n",
    "class Solution:\n",
    "    def sortedArrayToBST(self, nums: List[int]) -> Optional[TreeNode]:\n",
    "        def helper(l, r):\n",
    "            if l > r:\n",
    "                return None\n",
    "            mid = (l + r) // 2\n",
    "            root = TreeNode(nums[mid])\n",
    "            root.left = helper(l, mid - 1)\n",
    "            root.right = helper(mid + 1, r)\n",
    "            return root\n",
    "        return helper(0, len(nums) - 1)"
   ]
  },
  {
   "cell_type": "markdown",
   "metadata": {},
   "source": [
    "6. Merge 2 Binary Trees\n",
    "\n",
    "To merge two binary trees, the idea is to recursively traverse both trees and create a new tree by following these rules:\n",
    "\n",
    "    If both nodes are present, add their values and create a new node with this sum.\n",
    "    If one of the nodes is None, use the non-None node directly."
   ]
  },
  {
   "cell_type": "code",
   "execution_count": null,
   "metadata": {},
   "outputs": [],
   "source": [
    "class TreeNode:\n",
    "    def __init__(self, val=0, left=None, right=None):\n",
    "        self.val = val\n",
    "        self.left = left\n",
    "        self.right = right\n",
    "\n",
    "class Solution:\n",
    "    def mergeTrees(self, root1: TreeNode, root2: TreeNode) -> TreeNode:\n",
    "        if not root1 and not root2:\n",
    "            return None\n",
    "        \n",
    "        if not root1:\n",
    "            return root2\n",
    "        if not root2:\n",
    "            return root1\n",
    "\n",
    "        merged = TreeNode(root1.val + root2.val)\n",
    "        merged.left = self.mergeTrees(root1.left, root2.left)\n",
    "        merged.right = self.mergeTrees(root1.right, root2.right)\n",
    "        \n",
    "        return merged"
   ]
  },
  {
   "cell_type": "markdown",
   "metadata": {},
   "source": [
    "7. Symmetric Binary Tree\n",
    "\n",
    "To determine if a binary tree is symmetric (i.e., a mirror image of itself), we need to check if the left and right subtrees are mirror images of each other.\n",
    "Plan\n",
    "\n",
    "    Base Case: If the tree is empty, it's symmetric.\n",
    "    Recursive Case: Check if the left and right subtrees are mirrors:\n",
    "        The root values of the left and right subtrees must be equal.\n",
    "        The right subtree of the left subtree must be a mirror image of the left subtree of the right subtree, and vice versa."
   ]
  },
  {
   "cell_type": "code",
   "execution_count": null,
   "metadata": {},
   "outputs": [],
   "source": [
    "class TreeNode:\n",
    "    def __init__(self, val=0, left=None, right=None):\n",
    "        self.val = val\n",
    "        self.left = left\n",
    "        self.right = right\n",
    "\n",
    "class Solution:\n",
    "    def isSymmetric(self, root: TreeNode) -> bool:\n",
    "        if not root:\n",
    "            return True\n",
    "        return self.isMirror(root.left, root.right)\n",
    "\n",
    "    def isMirror(self, t1: TreeNode, t2: TreeNode) -> bool:\n",
    "        if not t1 and not t2:\n",
    "            return True\n",
    "        if not t1 or not t2:\n",
    "            return False\n",
    "        return (t1.val == t2.val and\n",
    "                self.isMirror(t1.right, t2.left) and\n",
    "                self.isMirror(t1.left, t2.right))"
   ]
  },
  {
   "cell_type": "markdown",
   "metadata": {},
   "source": [
    "8. Range Sum of BST\n",
    "\n",
    "Given the root node of a binary search tree and two integers low and high, return the sum of values of all nodes with a value in the inclusive range [low, high]."
   ]
  },
  {
   "cell_type": "code",
   "execution_count": null,
   "metadata": {},
   "outputs": [],
   "source": [
    "def rangeSum(root, low,high):\n",
    "    def dfs(node):\n",
    "        if not node:\n",
    "            return 0\n",
    "        curr = 0\n",
    "        if low < node.val < high:\n",
    "            curr = node.val\n",
    "        left_sum = dfs(node.left)\n",
    "        right_sum = dfs(node.right)\n",
    "        return curr + left_sum + right_sum\n",
    "    return dfs(root)"
   ]
  },
  {
   "cell_type": "markdown",
   "metadata": {},
   "source": [
    "9. Binary Tree Paths\n",
    "\n",
    "Given the root of a binary tree, return all root-to-leaf paths in any order.\n",
    "\n",
    "A leaf is a node with no children."
   ]
  },
  {
   "cell_type": "code",
   "execution_count": null,
   "metadata": {},
   "outputs": [],
   "source": [
    "# class TreeNode:\n",
    "#     def __init__(self, val=0, left=None, right=None):\n",
    "#         self.val = val\n",
    "#         self.left = left\n",
    "#         self.right = right\n",
    "class Solution:\n",
    "    def binaryTreePaths(self, root: Optional[TreeNode]) -> List[str]:\n",
    "        def dfs(node,path):\n",
    "            if not node:\n",
    "                return 0\n",
    "            if node:\n",
    "                path.append(str(node.val))\n",
    "            if not node.left and not node.right:\n",
    "                paths.append('->'.join(path))\n",
    "            else:\n",
    "                dfs(node.left,path)\n",
    "                dfs(node.right,path)\n",
    "            path.pop() #Backtrack Condition\n",
    "        paths = []\n",
    "        dfs(root,[])\n",
    "        return paths"
   ]
  },
  {
   "cell_type": "markdown",
   "metadata": {},
   "source": [
    "10. Same Tree\n",
    "Given the roots of two binary trees p and q, write a function to check if they are the same or not.\n",
    "\n",
    "Two binary trees are considered the same if they are structurally identical, and the nodes have the same value."
   ]
  },
  {
   "cell_type": "code",
   "execution_count": null,
   "metadata": {},
   "outputs": [],
   "source": [
    "def isSameTree(p,q):\n",
    "    if not p and not q:\n",
    "        return True\n",
    "    if not p or not q:\n",
    "        return False\n",
    "    return (p.val == q.val and isSameTree(p.left,q.left) and isSameTree(p.right, q.right))"
   ]
  },
  {
   "cell_type": "markdown",
   "metadata": {},
   "source": [
    "11. Least Common Ancestor of a Binary Tree\n",
    "\n",
    "Problem Explanation\n",
    "\n",
    "We need to find the lowest common ancestor (LCA) of two given nodes in a Binary Search Tree (BST). The LCA of two nodes pp and qq is the deepest node (i.e., farthest from the root) that is an ancestor of both pp and qq.\n",
    "Logical Pattern\n",
    "\n",
    "    Binary Search Tree Property: In a BST, for any given node:\n",
    "        The left subtree contains only nodes with values less than the node's value.\n",
    "        The right subtree contains only nodes with values greater than the node's value.\n",
    "\n",
    "    LCA in BST:\n",
    "        If both pp and qq are smaller than the current node, then the LCA lies in the left subtree.\n",
    "        If both pp and qq are greater than the current node, then the LCA lies in the right subtree.\n",
    "        If one of pp and qq is on one side and the other is on the other side (or if one of them is the current node), then the current node is the LCA."
   ]
  },
  {
   "cell_type": "code",
   "execution_count": null,
   "metadata": {},
   "outputs": [],
   "source": [
    "# Definition for a binary tree node.\n",
    "class TreeNode:\n",
    "    def __init__(self, val=0, left=None, right=None):\n",
    "        self.val = val\n",
    "        self.left = left\n",
    "        self.right = right\n",
    "\n",
    "class Solution:\n",
    "    def lowestCommonAncestor(self, root: 'TreeNode', p: 'TreeNode', q: 'TreeNode') -> 'TreeNode':\n",
    "        # Start from the root of the tree\n",
    "        current = root\n",
    "        \n",
    "        # Loop until we find the LCA\n",
    "        while current:\n",
    "            if p.val < current.val and q.val < current.val:\n",
    "                # Both nodes are in the left subtree\n",
    "                current = current.left\n",
    "            elif p.val > current.val and q.val > current.val:\n",
    "                # Both nodes are in the right subtree\n",
    "                current = current.right\n",
    "            else:\n",
    "                # Either one of p or q is the current node,\n",
    "                # or they are on different sides of the current node\n",
    "                return current"
   ]
  },
  {
   "cell_type": "markdown",
   "metadata": {},
   "source": [
    "12. PathSum of Binary Tree Equals the TargetSum \n",
    "\n",
    "To determine if there is a root-to-leaf path in a binary tree such that the sum of the values along the path equals a given targetSum, we can use a Depth-First Search (DFS) approach. This problem is well-suited for DFS because it allows us to explore each path from the root to a leaf node.\n",
    "Logical Pattern\n",
    "\n",
    "    Depth-First Search (DFS):\n",
    "        We start from the root and traverse down to each leaf node.\n",
    "        At each node, we subtract the node's value from the targetSum.\n",
    "        If we reach a leaf node and the remaining targetSum equals the leaf node's value, we've found a path that meets the condition."
   ]
  },
  {
   "cell_type": "code",
   "execution_count": null,
   "metadata": {},
   "outputs": [],
   "source": [
    "class TreeNode:\n",
    "    def __init__(self, val=0, left=None, right=None):\n",
    "        self.val = val\n",
    "        self.left = left\n",
    "        self.right = right\n",
    "\n",
    "class Solution:\n",
    "    def hasPathSum(self, root: TreeNode, targetSum: int) -> bool:\n",
    "        if not root:\n",
    "            return False\n",
    "        \n",
    "        # If we are at a leaf node, check if the remaining targetSum equals the leaf node's value\n",
    "        if not root.left and not root.right:\n",
    "            return targetSum == root.val\n",
    "        \n",
    "        # Recursively check the left and right subtrees\n",
    "        targetSum -= root.val\n",
    "        return self.hasPathSum(root.left, targetSum) or self.hasPathSum(root.right, targetSum)"
   ]
  },
  {
   "cell_type": "markdown",
   "metadata": {},
   "source": [
    "13. Minimum Asolute Difference between 2 Nodes\n",
    "\n",
    "To find the minimum absolute difference between the values of any two different nodes in a Binary Search Tree (BST), we can take advantage of the properties of the BST. In a BST, the in-order traversal yields the node values in a sorted order. Therefore, the minimum absolute difference will be between two consecutive nodes in this in-order traversal.\n",
    "Logical Pattern\n",
    "\n",
    "    In-order Traversal:\n",
    "        Perform an in-order traversal of the BST to get the node values in sorted order.\n",
    "        Compute the differences between consecutive values to find the minimum difference.\n",
    "\n",
    "    Track the Minimum Difference:\n",
    "        Keep a variable to store the minimum difference found during the traversal."
   ]
  },
  {
   "cell_type": "code",
   "execution_count": null,
   "metadata": {},
   "outputs": [],
   "source": [
    "class TreeNode:\n",
    "    def __init__(self, val=0, left=None, right=None):\n",
    "        self.val = val\n",
    "        self.left = left\n",
    "        self.right = right\n",
    "\n",
    "class Solution:\n",
    "    def getMinimumDifference(self, root: TreeNode) -> int:\n",
    "        # Initial values\n",
    "        self.prev = None\n",
    "        self.min_diff = float('inf')\n",
    "        \n",
    "        def inorder(node):\n",
    "            if not node:\n",
    "                return\n",
    "            \n",
    "            # In-order traversal: left subtree\n",
    "            inorder(node.left)\n",
    "            \n",
    "            # Current node\n",
    "            if self.prev is not None:\n",
    "                self.min_diff = min(self.min_diff, node.val - self.prev)\n",
    "            self.prev = node.val\n",
    "            \n",
    "            # In-order traversal: right subtree\n",
    "            inorder(node.right)\n",
    "        \n",
    "        # Perform in-order traversal starting from the root\n",
    "        inorder(root)\n",
    "        return self.min_diff"
   ]
  },
  {
   "cell_type": "markdown",
   "metadata": {},
   "source": [
    "14. Inorder Traversal of Binary Tree\n",
    "\n",
    "To return the in-order traversal of a binary tree's nodes' values, you need to follow these steps:\n",
    "\n",
    "    Understand In-order Traversal:\n",
    "        In-order traversal for a binary tree visits nodes in the following order:\n",
    "            Left subtree\n",
    "            Current node\n",
    "            Right subtree"
   ]
  },
  {
   "cell_type": "code",
   "execution_count": 1,
   "metadata": {},
   "outputs": [],
   "source": [
    "class TreeNode:\n",
    "    def __init__(self, val=0, left=None, right=None):\n",
    "        self.val = val\n",
    "        self.left = left\n",
    "        self.right = right\n",
    "\n",
    "class Solution:\n",
    "    def inorderTraversal(self, root: TreeNode):\n",
    "        def inorder(node):\n",
    "            if not node:\n",
    "                return []\n",
    "            return inorder(node.left) + [node.val] + inorder(node.right)\n",
    "        \n",
    "        return inorder(root)"
   ]
  },
  {
   "cell_type": "markdown",
   "metadata": {},
   "source": [
    "15. Sum of Left Leaves in a Binary Tree\n",
    "\n",
    "Given the root of a binary tree, return the sum of all left leaves.\n",
    "\n",
    "A leaf is a node with no children. A left leaf is a leaf that is the left child of another node."
   ]
  },
  {
   "cell_type": "code",
   "execution_count": 2,
   "metadata": {},
   "outputs": [],
   "source": [
    "# Definition for a binary tree node.\n",
    "# class TreeNode:\n",
    "#     def __init__(self, val=0, left=None, right=None):\n",
    "#         self.val = val\n",
    "#         self.left = left\n",
    "#         self.right = right\n",
    "class Solution:\n",
    "    def sumOfLeftLeaves(self, root) -> int:  \n",
    "        def dfs(node, is_left):\n",
    "            if not node:\n",
    "                return False\n",
    "            \n",
    "            if not node.left and not node.right:\n",
    "                return node.val if is_left else 0\n",
    "            return dfs(node.left, True) + dfs(node.right, False)\n",
    "        return dfs(root, False)"
   ]
  },
  {
   "cell_type": "markdown",
   "metadata": {},
   "source": [
    "16. Balanced Binary Tree\n",
    "\n",
    "To determine if a binary tree is height-balanced, we need to understand what a height-balanced binary tree is. A binary tree is considered height-balanced if, for every node in the tree, the difference in the height between its left and right subtrees is at most 1.\n",
    "Logical Pattern for the Problem\n",
    "\n",
    "    Definition of Height-Balanced:\n",
    "        For every node, the height difference between the left subtree and the right subtree must be no more than 1.\n",
    "    Recursive Check:\n",
    "        We can use a recursive function to check the height of the subtrees for each node.\n",
    "        While checking the height, we can also verify if each subtree is balanced.\n",
    "    Base Case:\n",
    "        An empty tree is balanced, and its height is 0."
   ]
  },
  {
   "cell_type": "code",
   "execution_count": null,
   "metadata": {},
   "outputs": [],
   "source": [
    "class TreeNode:\n",
    "    def __init__(self, val=0, left=None, right=None):\n",
    "        self.val = val\n",
    "        self.left = left\n",
    "        self.right = right\n",
    "\n",
    "class Solution:\n",
    "    def isBalanced(self, root: TreeNode) -> bool:\n",
    "        def check_height(node):\n",
    "            if not node:\n",
    "                return True, 0\n",
    "            \n",
    "            left_balanced, left_height = check_height(node.left)\n",
    "            right_balanced, right_height = check_height(node.right)\n",
    "            \n",
    "            current_balanced = left_balanced and right_balanced and abs(left_height - right_height) <= 1\n",
    "            current_height = 1 + max(left_height, right_height)\n",
    "            \n",
    "            return current_balanced, current_height\n",
    "        \n",
    "        balanced, _ = check_height(root)\n",
    "        return balanced"
   ]
  },
  {
   "cell_type": "markdown",
   "metadata": {},
   "source": [
    "17. BST Iterator Class Implementation\n",
    "\n",
    "To implement the BSTIterator class for an in-order traversal of a Binary Search Tree (BST), we need to simulate the in-order traversal while maintaining an internal state that allows efficient access to the next smallest element.\n",
    "Logical Pattern for the Problem\n",
    "\n",
    "    In-Order Traversal:\n",
    "        In-order traversal of a BST yields elements in ascending order.\n",
    "        We can leverage a stack to simulate this traversal iteratively.\n",
    "\n",
    "    Iterator Design:\n",
    "        BSTIterator class should have methods hasNext() and next().\n",
    "        hasNext() checks if there are more elements to visit.\n",
    "        next() returns the next smallest element.\n",
    "\n",
    "    Initialization:\n",
    "        Initialize the iterator with the root of the BST.\n",
    "        Use a stack to keep track of nodes.\n",
    "\n",
    "Steps to Implement\n",
    "\n",
    "    Initialization:\n",
    "        Push all the leftmost nodes of the BST onto the stack. This sets up the stack with the smallest elements at the top.\n",
    "\n",
    "    hasNext Method:\n",
    "        Simply check if the stack is non-empty.\n",
    "\n",
    "    next Method:\n",
    "        Pop the top node from the stack (which is the next smallest element).\n",
    "        If the popped node has a right child, push all the leftmost nodes of the right subtree onto the stack."
   ]
  },
  {
   "cell_type": "code",
   "execution_count": 3,
   "metadata": {},
   "outputs": [],
   "source": [
    "class TreeNode:\n",
    "    def __init__(self, val=0, left=None, right=None):\n",
    "        self.val = val\n",
    "        self.left = left\n",
    "        self.right = right\n",
    "\n",
    "class BSTIterator:\n",
    "    def __init__(self, root: TreeNode):\n",
    "        self.stack = []\n",
    "        self._push_leftmost_nodes(root)\n",
    "    \n",
    "    def _push_leftmost_nodes(self, node: TreeNode):\n",
    "        while node:\n",
    "            self.stack.append(node)\n",
    "            node = node.left\n",
    "    \n",
    "    def hasNext(self) -> bool:\n",
    "        return len(self.stack) > 0\n",
    "    \n",
    "    def next(self) -> int:\n",
    "        top_node = self.stack.pop()\n",
    "        if top_node.right:\n",
    "            self._push_leftmost_nodes(top_node.right)\n",
    "        return top_node.val"
   ]
  },
  {
   "cell_type": "markdown",
   "metadata": {},
   "source": [
    "18 . Binary Search Tree Dead ENd\n",
    "\n",
    "Given a Binary Search Tree (BST) that contains unique positive integer values greater than 0, we need to determine if the BST contains a \"dead end.\" A dead end in this context means a leaf node (a node with no children) such that no new nodes can be inserted in the BST without violating the BST properties. This usually happens if the node's value is such that the possible values for any new nodes are already taken by other nodes in the tree."
   ]
  },
  {
   "cell_type": "code",
   "execution_count": null,
   "metadata": {},
   "outputs": [],
   "source": [
    "class Node:\n",
    "    def __init__(self, key):\n",
    "        self.data = key\n",
    "        self.left = None\n",
    "        self.right = None\n",
    "\n",
    "class Solution:\n",
    "    def isDeadEnd(self, root: Node) -> bool:\n",
    "        def isDeadEndUtil(node: Node, min_val: int, max_val: int) -> bool:\n",
    "            if not node:\n",
    "                return False\n",
    "\n",
    "            # If this is a leaf node and its range is invalid\n",
    "            if not node.left and not node.right:\n",
    "                if max_val - min_val <= 1:\n",
    "                    return True\n",
    "                else:\n",
    "                    return False\n",
    "\n",
    "            # Recur for left and right subtrees with updated ranges\n",
    "            return (isDeadEndUtil(node.left, min_val, node.data) or\n",
    "                    isDeadEndUtil(node.right, node.data, max_val))\n",
    "\n",
    "        return isDeadEndUtil(root, 1, float('inf'))"
   ]
  },
  {
   "cell_type": "markdown",
   "metadata": {},
   "source": [
    "19. LCA of Binary Tree (Leetcode)"
   ]
  },
  {
   "cell_type": "code",
   "execution_count": null,
   "metadata": {},
   "outputs": [],
   "source": [
    "class Solution:\n",
    "  def lowestCommonAncestor(self, root: 'TreeNode', p: 'TreeNode', q: 'TreeNode') -> 'TreeNode':\n",
    "    if not root or root == p or root == q:\n",
    "      return root\n",
    "\n",
    "    l = self.lowestCommonAncestor(root.left, p, q)\n",
    "    r = self.lowestCommonAncestor(root.right, p, q)\n",
    "\n",
    "    if l and r:\n",
    "      return root\n",
    "    return l or r"
   ]
  },
  {
   "cell_type": "markdown",
   "metadata": {},
   "source": [
    "21. Unique Binary Search Tree - II\n",
    "\n",
    "Given an integer n, we need to generate all structurally unique Binary Search Trees (BSTs) that have exactly n nodes with unique values from 1 to n. Each node in the BST must follow the properties of a BST, where the left subtree contains only nodes with values less than the node's value and the right subtree contains only nodes with values greater than the node's value.\n",
    "Approach\n",
    "\n",
    "We can solve this problem using recursion with memoization. The idea is to recursively generate all possible left and right subtrees for each possible root value and then combine them to form the unique BSTs.\n",
    "Steps to Implement\n",
    "\n",
    "    Recursive Function: Create a recursive function that takes the range of values [start, end] and generates all possible BSTs for that range.\n",
    "    Base Case: If start is greater than end, return a list containing None to signify an empty tree.\n",
    "    Generate Trees:\n",
    "        Iterate through all values from start to end.\n",
    "        For each value i, consider it as the root.\n",
    "        Recursively generate all possible left subtrees for the range [start, i-1].\n",
    "        Recursively generate all possible right subtrees for the range [i+1, end].\n",
    "        Combine each left subtree with each right subtree, with i as the root, to form unique BSTs.\n",
    "    Memoization: Use a dictionary to store the results of subproblems to avoid redundant calculations."
   ]
  },
  {
   "cell_type": "code",
   "execution_count": null,
   "metadata": {},
   "outputs": [],
   "source": [
    "def genTrees(n):\n",
    "    if n == 0:\n",
    "        return []\n",
    "    def gen(start,end):\n",
    "        if start > end:\n",
    "            return [None]\n",
    "        res = []\n",
    "        for i in range(start,end+1):\n",
    "            left = gen(start,i-1)\n",
    "            right = gen(i+1,end)\n",
    "        \n",
    "            for l in left:\n",
    "                for r in right:\n",
    "                    root = TreeNode(i)\n",
    "                    root.left = l\n",
    "                    root.right = r\n",
    "                    res.append(root)\n",
    "        return res\n",
    "    return gen(1,n)"
   ]
  },
  {
   "cell_type": "markdown",
   "metadata": {},
   "source": [
    "22. Binary Tree k target Nodes\n",
    "\n",
    "Given the root of a binary tree, a target node value, and an integer k, we need to return an array of the values of all nodes that are exactly k distance away from the target node. The distance between two nodes is defined as the number of edges on the path connecting them.\n",
    "Approach\n",
    "\n",
    "    Find the Target Node: First, traverse the tree to locate the target node. We can use Depth-First Search (DFS) for this.\n",
    "    Calculate Distances:\n",
    "        Downward Distance: Once the target node is found, use DFS to find all nodes k distance below the target node.\n",
    "        Upward Distance: To handle the nodes above the target, we need to keep track of the parent nodes. This can be achieved by creating a parent map while traversing the tree.\n",
    "    Breadth-First Search (BFS): Use BFS from the target node to explore all nodes within k distance. BFS helps in exploring nodes level by level, which fits perfectly with the distance calculation."
   ]
  },
  {
   "cell_type": "code",
   "execution_count": null,
   "metadata": {},
   "outputs": [],
   "source": [
    "class Solution:\n",
    "    def distanceK(self, root: Optional[TreeNode], target: int, k: int) -> List[int]:\n",
    "        if not root:\n",
    "            return []\n",
    "\n",
    "        # Step 1: Create a parent map to record parent nodes\n",
    "        parent_map = {}\n",
    "        \n",
    "        def dfs(node, parent=None):\n",
    "            if node:\n",
    "                parent_map[node] = parent\n",
    "                dfs(node.left, node)\n",
    "                dfs(node.right, node)\n",
    "        \n",
    "        # Run DFS to populate the parent map\n",
    "        dfs(root)\n",
    "        \n",
    "        # Step 2: Find the target node\n",
    "        def find_target(node, target_val):\n",
    "            if not node:\n",
    "                return None\n",
    "            if node.val == target_val:\n",
    "                return node\n",
    "            left = find_target(node.left, target_val)\n",
    "            if left:\n",
    "                return left\n",
    "            return find_target(node.right, target_val)\n",
    "        \n",
    "        target_node = find_target(root, target)\n",
    "        \n",
    "        # Step 3: Use BFS to find all nodes at distance k from target\n",
    "        queue = deque([(target_node, 0)])\n",
    "        visited = set()\n",
    "        visited.add(target_node)\n",
    "        result = []\n",
    "        \n",
    "        while queue:\n",
    "            node, dist = queue.popleft()\n",
    "            if dist == k:\n",
    "                result.append(node.val)\n",
    "            elif dist < k:\n",
    "                for neighbor in (node.left, node.right, parent_map[node]):\n",
    "                    if neighbor and neighbor not in visited:\n",
    "                        visited.add(neighbor)\n",
    "                        queue.append((neighbor, dist + 1))\n",
    "        \n",
    "        return result"
   ]
  },
  {
   "cell_type": "markdown",
   "metadata": {},
   "source": [
    "23. Validate Binary Search Tree\n"
   ]
  },
  {
   "cell_type": "code",
   "execution_count": null,
   "metadata": {},
   "outputs": [],
   "source": [
    "class Solution:\n",
    "    def isValidBST(self, root: Optional[TreeNode]) -> bool:\n",
    "        def validate(node, low=float('-inf'), high=float('inf')):\n",
    "            if not node:\n",
    "                return True\n",
    "            \n",
    "            if node.val <= low or node.val >= high:\n",
    "                return False\n",
    "            \n",
    "            return (validate(node.left,low, node.val) and validate(node.right, node.val,high))\n",
    "        return validate(root)"
   ]
  }
 ],
 "metadata": {
  "kernelspec": {
   "display_name": "Python 3",
   "language": "python",
   "name": "python3"
  },
  "language_info": {
   "codemirror_mode": {
    "name": "ipython",
    "version": 3
   },
   "file_extension": ".py",
   "mimetype": "text/x-python",
   "name": "python",
   "nbconvert_exporter": "python",
   "pygments_lexer": "ipython3",
   "version": "3.11.8"
  }
 },
 "nbformat": 4,
 "nbformat_minor": 2
}
