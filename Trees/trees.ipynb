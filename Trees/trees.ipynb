{
 "cells": [
  {
   "cell_type": "markdown",
   "metadata": {},
   "source": [
    "1. Diameter of a Binary Tree\n",
    "\n",
    "Given the root of a binary tree, return the length of the diameter of the tree.\n",
    "\n",
    "The diameter of a binary tree is the length of the longest path between any two nodes in a tree. This path may or may not pass through the root.\n",
    "\n",
    "The length of a path between two nodes is represented by the number of edges between them."
   ]
  },
  {
   "cell_type": "code",
   "execution_count": 1,
   "metadata": {},
   "outputs": [
    {
     "name": "stdout",
     "output_type": "stream",
     "text": [
      "3\n"
     ]
    }
   ],
   "source": [
    "class TreeNode:\n",
    "    def __init__(self, val=0, left=None, right=None):\n",
    "        self.val = val\n",
    "        self.left = left\n",
    "        self.right = right\n",
    "\n",
    "class Solution:\n",
    "    def diameterOfBinaryTree(self, root: TreeNode) -> int:\n",
    "        self.diameter = 0\n",
    "        \n",
    "        def height(node):\n",
    "            if not node:\n",
    "                return 0\n",
    "            left_height = height(node.left)\n",
    "            right_height = height(node.right)\n",
    "            # Update the diameter if the path through the root of this subtree is larger\n",
    "            self.diameter = max(self.diameter, left_height + right_height)\n",
    "            # Return the height of the tree rooted at this node\n",
    "            return max(left_height, right_height) + 1\n",
    "        \n",
    "        height(root)\n",
    "        return self.diameter\n",
    "\n",
    "# Example usage:\n",
    "# Construct a binary tree for testing\n",
    "#     1\n",
    "#    / \\\n",
    "#   2   3\n",
    "#  / \\\n",
    "# 4   5\n",
    "root = TreeNode(1)\n",
    "root.left = TreeNode(2)\n",
    "root.right = TreeNode(3)\n",
    "root.left.left = TreeNode(4)\n",
    "root.left.right = TreeNode(5)\n",
    "\n",
    "solution = Solution()\n",
    "print(solution.diameterOfBinaryTree(root))  # Output: 3"
   ]
  },
  {
   "cell_type": "markdown",
   "metadata": {},
   "source": [
    "2. Invert a Binary Tree\n",
    "To invert a binary tree means to swap the left and right children of all nodes in the tree. This can be done recursively by traversing the tree and swapping the left and right children at each node.\n",
    "Steps to Invert a Binary Tree:\n",
    "\n",
    "    Base Case: If the current node is None, return None.\n",
    "    Recursive Case: Swap the left and right children of the current node.\n",
    "    Recursive Calls: Recursively invert the left and right subtrees.\n",
    "    Return the Root: After all nodes have been processed, return the root of the inverted tree.\n",
    "\n"
   ]
  },
  {
   "cell_type": "code",
   "execution_count": 2,
   "metadata": {},
   "outputs": [
    {
     "name": "stdout",
     "output_type": "stream",
     "text": [
      "4 7 2 9 6 3 1 "
     ]
    }
   ],
   "source": [
    "class TreeNode:\n",
    "    def __init__(self, val=0, left=None, right=None):\n",
    "        self.val = val\n",
    "        self.left = left\n",
    "        self.right = right\n",
    "\n",
    "class Solution:\n",
    "    def invertTree(self, root: TreeNode) -> TreeNode:\n",
    "        if root is None:\n",
    "            return None\n",
    "        \n",
    "        # Swap the left and right children\n",
    "        root.left, root.right = root.right, root.left\n",
    "        \n",
    "        # Recursively invert the left subtree\n",
    "        self.invertTree(root.left)\n",
    "        \n",
    "        # Recursively invert the right subtree\n",
    "        self.invertTree(root.right)\n",
    "        \n",
    "        # Return the root of the inverted tree\n",
    "        return root\n",
    "\n",
    "# Example usage:\n",
    "# Construct a binary tree for testing\n",
    "#     4\n",
    "#    / \\\n",
    "#   2   7\n",
    "#  / \\ / \\\n",
    "# 1  3 6  9\n",
    "root = TreeNode(4)\n",
    "root.left = TreeNode(2)\n",
    "root.right = TreeNode(7)\n",
    "root.left.left = TreeNode(1)\n",
    "root.left.right = TreeNode(3)\n",
    "root.right.left = TreeNode(6)\n",
    "root.right.right = TreeNode(9)\n",
    "\n",
    "solution = Solution()\n",
    "inverted_root = solution.invertTree(root)\n",
    "\n",
    "# Function to print tree in level order to verify inversion\n",
    "def print_tree_level_order(root):\n",
    "    if not root:\n",
    "        return\n",
    "    queue = [root]\n",
    "    while queue:\n",
    "        current = queue.pop(0)\n",
    "        print(current.val, end=' ')\n",
    "        if current.left:\n",
    "            queue.append(current.left)\n",
    "        if current.right:\n",
    "            queue.append(current.right)\n",
    "\n",
    "print_tree_level_order(inverted_root)\n",
    "# Output should be: 4 7 2 9 6 3 1"
   ]
  },
  {
   "cell_type": "markdown",
   "metadata": {},
   "source": [
    "8. Maximum Depth of a Binary Tree"
   ]
  },
  {
   "cell_type": "code",
   "execution_count": null,
   "metadata": {},
   "outputs": [],
   "source": [
    "# Definition for a binary tree node.\n",
    "# class TreeNode:\n",
    "#     def __init__(self, val=0, left=None, right=None):\n",
    "#         self.val = val\n",
    "#         self.left = left\n",
    "#         self.right = right\n",
    "class Solution:\n",
    "    def maxDepth(self, root: Optional[TreeNode]) -> int:\n",
    "        if root == None:\n",
    "            return 0\n",
    "\n",
    "        left_depth = self.maxDepth(root.left)\n",
    "        right_depth = self.maxDepth(root.right)\n",
    "        return 1 + max(left_depth, right_depth)"
   ]
  },
  {
   "cell_type": "markdown",
   "metadata": {},
   "source": [
    "3. Subtree of Another Tree\n",
    "Given the roots of two binary trees root and subRoot, return true if there is a subtree of root with the same structure and node values of subRoot and false otherwise.\n",
    "\n",
    "A subtree of a binary tree tree is a tree that consists of a node in tree and all of this node's descendants. The tree tree could also be considered as a subtree of itself."
   ]
  },
  {
   "cell_type": "code",
   "execution_count": null,
   "metadata": {},
   "outputs": [],
   "source": [
    "class TreeNode:\n",
    "    def __init__(self, val=0, left=None, right=None):\n",
    "        self.val = val\n",
    "        self.left = left\n",
    "        self.right = right\n",
    "\n",
    "class Solution:\n",
    "    def isSubtree(self, root: TreeNode, subRoot: TreeNode) -> bool:\n",
    "        if not root:\n",
    "            return False\n",
    "        if self.isSameTree(root, subRoot):\n",
    "            return True\n",
    "        return self.isSubtree(root.left, subRoot) or self.isSubtree(root.right, subRoot)\n",
    "\n",
    "    def isSameTree(self, s: TreeNode, t: TreeNode) -> bool:\n",
    "        if not s and not t:\n",
    "            return True\n",
    "        if not s or not t:\n",
    "            return False\n",
    "        if s.val != t.val:\n",
    "            return False\n",
    "        return self.isSameTree(s.left, t.left) and self.isSameTree(s.right, t.right)"
   ]
  },
  {
   "cell_type": "markdown",
   "metadata": {},
   "source": [
    "5. Convert Sorted Array to Binary Search Tree"
   ]
  },
  {
   "cell_type": "code",
   "execution_count": null,
   "metadata": {},
   "outputs": [],
   "source": [
    "# Definition for a binary tree node.\n",
    "# class TreeNode:\n",
    "#     def __init__(self, val=0, left=None, right=None):\n",
    "#         self.val = val\n",
    "#         self.left = left\n",
    "#         self.right = right\n",
    "class Solution:\n",
    "    def sortedArrayToBST(self, nums: List[int]) -> Optional[TreeNode]:\n",
    "        def helper(l, r):\n",
    "            if l > r:\n",
    "                return None\n",
    "            mid = (l + r) // 2\n",
    "            root = TreeNode(nums[mid])\n",
    "            root.left = helper(l, mid - 1)\n",
    "            root.right = helper(mid + 1, r)\n",
    "            return root\n",
    "        return helper(0, len(nums) - 1)"
   ]
  },
  {
   "cell_type": "markdown",
   "metadata": {},
   "source": [
    "6. Merge 2 Binary Trees\n",
    "\n",
    "To merge two binary trees, the idea is to recursively traverse both trees and create a new tree by following these rules:\n",
    "\n",
    "    If both nodes are present, add their values and create a new node with this sum.\n",
    "    If one of the nodes is None, use the non-None node directly."
   ]
  },
  {
   "cell_type": "code",
   "execution_count": null,
   "metadata": {},
   "outputs": [],
   "source": [
    "class TreeNode:\n",
    "    def __init__(self, val=0, left=None, right=None):\n",
    "        self.val = val\n",
    "        self.left = left\n",
    "        self.right = right\n",
    "\n",
    "class Solution:\n",
    "    def mergeTrees(self, root1: TreeNode, root2: TreeNode) -> TreeNode:\n",
    "        if not root1 and not root2:\n",
    "            return None\n",
    "        \n",
    "        if not root1:\n",
    "            return root2\n",
    "        if not root2:\n",
    "            return root1\n",
    "\n",
    "        merged = TreeNode(root1.val + root2.val)\n",
    "        merged.left = self.mergeTrees(root1.left, root2.left)\n",
    "        merged.right = self.mergeTrees(root1.right, root2.right)\n",
    "        \n",
    "        return merged"
   ]
  },
  {
   "cell_type": "markdown",
   "metadata": {},
   "source": [
    "7. Symmetric Binary Tree\n",
    "\n",
    "To determine if a binary tree is symmetric (i.e., a mirror image of itself), we need to check if the left and right subtrees are mirror images of each other.\n",
    "Plan\n",
    "\n",
    "    Base Case: If the tree is empty, it's symmetric.\n",
    "    Recursive Case: Check if the left and right subtrees are mirrors:\n",
    "        The root values of the left and right subtrees must be equal.\n",
    "        The right subtree of the left subtree must be a mirror image of the left subtree of the right subtree, and vice versa."
   ]
  },
  {
   "cell_type": "code",
   "execution_count": null,
   "metadata": {},
   "outputs": [],
   "source": [
    "class TreeNode:\n",
    "    def __init__(self, val=0, left=None, right=None):\n",
    "        self.val = val\n",
    "        self.left = left\n",
    "        self.right = right\n",
    "\n",
    "class Solution:\n",
    "    def isSymmetric(self, root: TreeNode) -> bool:\n",
    "        if not root:\n",
    "            return True\n",
    "        return self.isMirror(root.left, root.right)\n",
    "\n",
    "    def isMirror(self, t1: TreeNode, t2: TreeNode) -> bool:\n",
    "        if not t1 and not t2:\n",
    "            return True\n",
    "        if not t1 or not t2:\n",
    "            return False\n",
    "        return (t1.val == t2.val and\n",
    "                self.isMirror(t1.right, t2.left) and\n",
    "                self.isMirror(t1.left, t2.right))"
   ]
  },
  {
   "cell_type": "markdown",
   "metadata": {},
   "source": [
    "8. Range Sum of BST\n",
    "\n",
    "Given the root node of a binary search tree and two integers low and high, return the sum of values of all nodes with a value in the inclusive range [low, high]."
   ]
  },
  {
   "cell_type": "code",
   "execution_count": null,
   "metadata": {},
   "outputs": [],
   "source": [
    "def rangeSum(root, low,high):\n",
    "    def dfs(node):\n",
    "        if not node:\n",
    "            return 0\n",
    "        curr = 0\n",
    "        if low < node.val < high:\n",
    "            curr = node.val\n",
    "        left_sum = dfs(node.left)\n",
    "        right_sum = dfs(node.right)\n",
    "        return curr + left_sum + right_sum\n",
    "    return dfs(root)"
   ]
  },
  {
   "cell_type": "markdown",
   "metadata": {},
   "source": [
    "9. Binary Tree Paths\n",
    "\n",
    "Given the root of a binary tree, return all root-to-leaf paths in any order.\n",
    "\n",
    "A leaf is a node with no children."
   ]
  },
  {
   "cell_type": "code",
   "execution_count": null,
   "metadata": {},
   "outputs": [],
   "source": [
    "# class TreeNode:\n",
    "#     def __init__(self, val=0, left=None, right=None):\n",
    "#         self.val = val\n",
    "#         self.left = left\n",
    "#         self.right = right\n",
    "class Solution:\n",
    "    def binaryTreePaths(self, root: Optional[TreeNode]) -> List[str]:\n",
    "        def dfs(node,path):\n",
    "            if not node:\n",
    "                return 0\n",
    "            if node:\n",
    "                path.append(str(node.val))\n",
    "            if not node.left and not node.right:\n",
    "                paths.append('->'.join(path))\n",
    "            else:\n",
    "                dfs(node.left,path)\n",
    "                dfs(node.right,path)\n",
    "            path.pop()\n",
    "        paths = []\n",
    "        dfs(root,[])\n",
    "        return paths"
   ]
  },
  {
   "cell_type": "markdown",
   "metadata": {},
   "source": [
    "10. Same Tree\n",
    "Given the roots of two binary trees p and q, write a function to check if they are the same or not.\n",
    "\n",
    "Two binary trees are considered the same if they are structurally identical, and the nodes have the same value."
   ]
  },
  {
   "cell_type": "code",
   "execution_count": null,
   "metadata": {},
   "outputs": [],
   "source": [
    "def isSameTree(p,q):\n",
    "    if not p and not q:\n",
    "        return True\n",
    "    if not p or not q:\n",
    "        return False\n",
    "    return (p.val == q.val and isSameTree(p.left,q.left) and isSameTree(p.right, q.right))"
   ]
  }
 ],
 "metadata": {
  "kernelspec": {
   "display_name": "Python 3",
   "language": "python",
   "name": "python3"
  },
  "language_info": {
   "codemirror_mode": {
    "name": "ipython",
    "version": 3
   },
   "file_extension": ".py",
   "mimetype": "text/x-python",
   "name": "python",
   "nbconvert_exporter": "python",
   "pygments_lexer": "ipython3",
   "version": "3.11.8"
  }
 },
 "nbformat": 4,
 "nbformat_minor": 2
}
