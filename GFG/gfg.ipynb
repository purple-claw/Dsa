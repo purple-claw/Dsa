{
 "cells": [
  {
   "cell_type": "markdown",
   "metadata": {},
   "source": [
    "Sort a Stack Using Recursion"
   ]
  },
  {
   "cell_type": "code",
   "execution_count": 1,
   "metadata": {},
   "outputs": [
    {
     "name": "stdout",
     "output_type": "stream",
     "text": [
      "Original Stack: [3, 1, 4, 2, 5]\n",
      "Sorted Stack: [1, 2, 3, 4, 5]\n"
     ]
    }
   ],
   "source": [
    "def sortedInsert(stack, element):\n",
    "    # Base case: stack is empty or element is greater than top of the stack\n",
    "    if len(stack) == 0 or element > stack[-1]:\n",
    "        stack.append(element)\n",
    "        return\n",
    "    \n",
    "    # Remove the top element\n",
    "    temp = stack.pop()\n",
    "    \n",
    "    # Recursively call sortedInsert to place the element in the correct position\n",
    "    sortedInsert(stack, element)\n",
    "    \n",
    "    # Put the top element back on the stack\n",
    "    stack.append(temp)\n",
    "\n",
    "def sortStack(stack):\n",
    "    # Base case: stack is empty\n",
    "    if len(stack) == 0:\n",
    "        return\n",
    "    \n",
    "    # Remove the top element\n",
    "    temp = stack.pop()\n",
    "    \n",
    "    # Sort the remaining stack\n",
    "    sortStack(stack)\n",
    "    \n",
    "    # Insert the popped element back in sorted order\n",
    "    sortedInsert(stack, temp)\n",
    "\n",
    "# Test the function\n",
    "stack = [3, 1, 4, 2, 5]\n",
    "print(\"Original Stack:\", stack)\n",
    "sortStack(stack)\n",
    "print(\"Sorted Stack:\", stack)"
   ]
  },
  {
   "cell_type": "markdown",
   "metadata": {},
   "source": [
    "Agresive Cows"
   ]
  },
  {
   "cell_type": "code",
   "execution_count": 1,
   "metadata": {},
   "outputs": [
    {
     "name": "stdout",
     "output_type": "stream",
     "text": [
      "3\n"
     ]
    }
   ],
   "source": [
    "def helper(stalls,n,c,min_dist):\n",
    "    count = 1\n",
    "    last_pos = stalls[0]\n",
    "    \n",
    "    for i in range(1,n):\n",
    "        if stalls[i] - last_pos >= min_dist:\n",
    "            count += 1\n",
    "            last_pos = stalls[i]\n",
    "            if count == c:\n",
    "                return True\n",
    "    return False\n",
    "\n",
    "def agressive_cows(stalls,c):\n",
    "    n = len(stalls)\n",
    "    stalls.sort()\n",
    "    res = 0\n",
    "    \n",
    "    low = 0\n",
    "    high = stalls[-1] - stalls[0]\n",
    "    while low <= high:\n",
    "        mid = (low + high) // 2\n",
    "        if helper(stalls,n,c,mid):\n",
    "            res = mid\n",
    "            low = mid+1\n",
    "        else:\n",
    "            high = mid - 1\n",
    "    return res\n",
    "\n",
    "stalls = [1, 2, 4, 8, 9]\n",
    "c = 3\n",
    "print(agressive_cows(stalls, c))"
   ]
  },
  {
   "cell_type": "markdown",
   "metadata": {},
   "source": [
    "generate Substring without consecutive ones"
   ]
  },
  {
   "cell_type": "code",
   "execution_count": 1,
   "metadata": {},
   "outputs": [
    {
     "name": "stdout",
     "output_type": "stream",
     "text": [
      "000\n",
      "001\n",
      "010\n",
      "100\n",
      "101\n",
      "-----\n",
      "0000\n",
      "0001\n",
      "0010\n",
      "0100\n",
      "0101\n",
      "1000\n",
      "1001\n",
      "1010\n"
     ]
    }
   ],
   "source": [
    "def func(idx,s=''):\n",
    "    if idx == len(s):\n",
    "        print(s)\n",
    "        return\n",
    "    \n",
    "    if len(s) == 0 or s[-1] == '0':\n",
    "        func(idx,s+'0')\n",
    "        func(idx,s+'1')\n",
    "    elif s[-1] == '1':\n",
    "        func(idx,s+'0')\n",
    "    \n",
    "K = 3\n",
    "func(K)\n",
    "print(\"-----\")\n",
    "K = 4\n",
    "func(K)"
   ]
  }
 ],
 "metadata": {
  "kernelspec": {
   "display_name": "Python 3",
   "language": "python",
   "name": "python3"
  },
  "language_info": {
   "codemirror_mode": {
    "name": "ipython",
    "version": 3
   },
   "file_extension": ".py",
   "mimetype": "text/x-python",
   "name": "python",
   "nbconvert_exporter": "python",
   "pygments_lexer": "ipython3",
   "version": "3.11.8"
  }
 },
 "nbformat": 4,
 "nbformat_minor": 2
}
