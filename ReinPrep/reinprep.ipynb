{
 "cells": [
  {
   "cell_type": "markdown",
   "metadata": {},
   "source": [
    "### P-1. Adcanced Array Sum\n",
    "\n",
    "You are competing in a basketball contest where the score for each successful shot depends on the distance from the basket and the player's position. The player makes 10 successful shots, and the distances are given in an array A. The score for each shot is calculated by multiplying the distance by the position (considering one-based indexing). Your task is to find the maximum possible score you can achieve by choosing a contiguous subarray of size K from the given array.\n",
    "\n",
    "### Explanation\n",
    "\n",
    "1. *Initial Calculation*:\n",
    "   - Calculate the score for the first subarray of size K.\n",
    "   - Use one-based indexing to compute the initial score.\n",
    "\n",
    "2. *Sliding Window*:\n",
    "   - Slide the window of size K across the array.\n",
    "   - Update the current score by subtracting the contribution of the element that slides out of the window and adding the contribution of the new element that slides into the window.\n",
    "   - Track the maximum score during this process.\n",
    "\n",
    "### Approach Pseudocode\n",
    "\n",
    "Here's the pseudocode for the approach:\n",
    "\n",
    "1. *Input*:\n",
    "   - Read the number of shots n.\n",
    "   - Read the size of the subarray K.\n",
    "   - Read the array A of distances.\n",
    "\n",
    "2. *Initialize*:\n",
    "   - current_score to 0.\n",
    "   - max_score to 0.\n",
    "\n",
    "3. *Calculate Initial Score*:\n",
    "   - For i from 0 to K-1:\n",
    "     - current_score += (i + 1) * A[i]\n",
    "   - Set max_score to current_score.\n",
    "\n",
    "4. *Sliding Window*:\n",
    "   - For i from K to n-1:\n",
    "     - Subtract the contribution of the element going out of the window:\n",
    "       - current_score -= A[i - K] * (i - K + 1)\n",
    "     - Add the contribution of the new element coming into the window:\n",
    "       - current_score += A[i] * K\n",
    "     - Update max_score if current_score is greater than max_score.\n",
    "\n",
    "5. *Return max_score*."
   ]
  },
  {
   "cell_type": "code",
   "execution_count": 3,
   "metadata": {},
   "outputs": [
    {
     "name": "stdout",
     "output_type": "stream",
     "text": [
      "14\n"
     ]
    }
   ],
   "source": [
    "def advanced_sub_array(n,k,arr):\n",
    "    curr_sum = 0\n",
    "    for i in range(k):\n",
    "        curr_sum = (i+1) * arr[i]\n",
    "    max_sum = curr_sum\n",
    "    for i in range(k,n):\n",
    "        curr_sum -= arr[i-k] * (i - k + 1)\n",
    "        curr_sum += arr[i] * k\n",
    "        if curr_sum > max_sum:\n",
    "            max_sum = curr_sum\n",
    "    return max_sum\n",
    "\n",
    "n = 5\n",
    "k = 2\n",
    "arr = [1,2,3,4,5]\n",
    "print(advanced_sub_array(n,k,arr)) "
   ]
  },
  {
   "cell_type": "markdown",
   "metadata": {},
   "source": [
    "### P-2. Ant on rails\n",
    "\n",
    "To solve the problem of determining how many times the ant returns to its original starting position, we can follow these steps:\n",
    "\n",
    "1. *Understand the Problem*:\n",
    "   - The ant starts at position 0.\n",
    "   - The array A contains 1 and -1, representing the ant's moves.\n",
    "   - We need to count how many times the ant returns to position 0 during its movements.\n",
    "\n",
    "2. *Approach*:\n",
    "   - Traverse the array A.\n",
    "   - Keep a running sum of the ant's position.\n",
    "   - Each time this running sum returns to 0, increment a counter.\n",
    "\n",
    "### Steps in Detail:\n",
    "\n",
    "1. Initialize position to 0 and count to 0.\n",
    "2. Traverse the array A.\n",
    "3. For each element in A, update the position by adding the current move (1 or -1).\n",
    "4. If position equals 0, increment the count.\n",
    "5. Return the count at the end.\n"
   ]
  },
  {
   "cell_type": "code",
   "execution_count": 4,
   "metadata": {},
   "outputs": [
    {
     "name": "stdout",
     "output_type": "stream",
     "text": [
      "2\n"
     ]
    }
   ],
   "source": [
    "def ants(n,arr):\n",
    "    pos,c = 0,0\n",
    "    for i in arr:\n",
    "        pos += i\n",
    "        if pos == 0:\n",
    "            c += 1\n",
    "    return c\n",
    "\n",
    "n = 5\n",
    "arr = [1,-1,1,-1,1]\n",
    "print(ants(n,arr))"
   ]
  },
  {
   "cell_type": "markdown",
   "metadata": {},
   "source": [
    "### P-3. Choclate Jars\n",
    "To solve this problem, we need to determine how many chocolates student A will end up with after all chocolates are picked from all jars by students A, B, and C in a cyclic manner.\n",
    "\n",
    "### Approach\n",
    "\n",
    "1. *Understand the Problem*:\n",
    "   - Three students pick chocolates from jars in turns: A, B, C, A, B, C, and so on.\n",
    "   - We need to count how many chocolates student A gets.\n",
    "\n",
    "2. *Steps to Solve*:\n",
    "   - Traverse each jar.\n",
    "   - For each jar, count the chocolates that student A will get based on the picking cycle.\n",
    "   - Sum these counts to get the total number of chocolates student A has."
   ]
  },
  {
   "cell_type": "code",
   "execution_count": 5,
   "metadata": {},
   "outputs": [
    {
     "name": "stdout",
     "output_type": "stream",
     "text": [
      "21\n"
     ]
    }
   ],
   "source": [
    "def chocjars(jars,n):\n",
    "    achocs = 0\n",
    "    for i in jars:\n",
    "        pos = 0\n",
    "        for _ in range(i):\n",
    "            if pos == 0:\n",
    "                achocs += 1\n",
    "            pos = (pos+1) % 3\n",
    "    return achocs\n",
    "jars = [10,20,30]\n",
    "n = 3\n",
    "print(chocjars(jars,n))"
   ]
  },
  {
   "cell_type": "markdown",
   "metadata": {},
   "source": [
    "### P-4. Diwali Contest"
   ]
  },
  {
   "cell_type": "code",
   "execution_count": 1,
   "metadata": {},
   "outputs": [
    {
     "name": "stdout",
     "output_type": "stream",
     "text": [
      "4\n"
     ]
    }
   ],
   "source": [
    "def diwali(n,p):\n",
    "    avail = 240 - p\n",
    "    if avail < 15:\n",
    "        return 0\n",
    "    pro_time = 15\n",
    "    max_time = avail // pro_time\n",
    "    res = min(max_time,n)\n",
    "    return res\n",
    "n = 6\n",
    "p = 180\n",
    "print(diwali(n,p))"
   ]
  },
  {
   "cell_type": "markdown",
   "metadata": {},
   "source": [
    "### P-6 Elections "
   ]
  },
  {
   "cell_type": "code",
   "execution_count": 2,
   "metadata": {},
   "outputs": [],
   "source": [
    "def elections(votes):\n",
    "    vcount = {}\n",
    "    for v in votes:\n",
    "        if v in vcount:\n",
    "            vcount[v] += 1\n",
    "        else:\n",
    "            vcount[v]= 1\n",
    "    maj = len(votes) // 2\n",
    "    for p,c in vcount.items():\n",
    "        if c > maj:\n",
    "            return p\n",
    "    return -1"
   ]
  },
  {
   "cell_type": "markdown",
   "metadata": {},
   "source": [
    "### P-7. Most Frequent Vowel in a Given String"
   ]
  },
  {
   "cell_type": "code",
   "execution_count": 1,
   "metadata": {},
   "outputs": [
    {
     "name": "stdout",
     "output_type": "stream",
     "text": [
      "o\n"
     ]
    }
   ],
   "source": [
    "def sol(s):\n",
    "    vowels = \"aeiouAEIOU\"\n",
    "    vcount = {v: 0 for v in vowels}\n",
    "    for char in s:\n",
    "        if char in vowels:\n",
    "            vcount[char] += 1\n",
    "    freq = max(vcount, key=vcount.get)\n",
    "    return freq\n",
    "\n",
    "s = \"helloworld\"\n",
    "print(sol(s))"
   ]
  }
 ],
 "metadata": {
  "kernelspec": {
   "display_name": "Python 3",
   "language": "python",
   "name": "python3"
  },
  "language_info": {
   "codemirror_mode": {
    "name": "ipython",
    "version": 3
   },
   "file_extension": ".py",
   "mimetype": "text/x-python",
   "name": "python",
   "nbconvert_exporter": "python",
   "pygments_lexer": "ipython3",
   "version": "3.11.8"
  }
 },
 "nbformat": 4,
 "nbformat_minor": 2
}
