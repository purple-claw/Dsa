{
 "cells": [
  {
   "cell_type": "markdown",
   "metadata": {},
   "source": [
    "### P-1. Adcanced Array Sum\n",
    "\n",
    "You are competing in a basketball contest where the score for each successful shot depends on the distance from the basket and the player's position. The player makes 10 successful shots, and the distances are given in an array A. The score for each shot is calculated by multiplying the distance by the position (considering one-based indexing). Your task is to find the maximum possible score you can achieve by choosing a contiguous subarray of size K from the given array.\n",
    "\n",
    "### Explanation\n",
    "\n",
    "1. *Initial Calculation*:\n",
    "   - Calculate the score for the first subarray of size K.\n",
    "   - Use one-based indexing to compute the initial score.\n",
    "\n",
    "2. *Sliding Window*:\n",
    "   - Slide the window of size K across the array.\n",
    "   - Update the current score by subtracting the contribution of the element that slides out of the window and adding the contribution of the new element that slides into the window.\n",
    "   - Track the maximum score during this process.\n",
    "\n",
    "### Approach Pseudocode\n",
    "\n",
    "Here's the pseudocode for the approach:\n",
    "\n",
    "1. *Input*:\n",
    "   - Read the number of shots n.\n",
    "   - Read the size of the subarray K.\n",
    "   - Read the array A of distances.\n",
    "\n",
    "2. *Initialize*:\n",
    "   - current_score to 0.\n",
    "   - max_score to 0.\n",
    "\n",
    "3. *Calculate Initial Score*:\n",
    "   - For i from 0 to K-1:\n",
    "     - current_score += (i + 1) * A[i]\n",
    "   - Set max_score to current_score.\n",
    "\n",
    "4. *Sliding Window*:\n",
    "   - For i from K to n-1:\n",
    "     - Subtract the contribution of the element going out of the window:\n",
    "       - current_score -= A[i - K] * (i - K + 1)\n",
    "     - Add the contribution of the new element coming into the window:\n",
    "       - current_score += A[i] * K\n",
    "     - Update max_score if current_score is greater than max_score.\n",
    "\n",
    "5. *Return max_score*."
   ]
  },
  {
   "cell_type": "code",
   "execution_count": null,
   "metadata": {},
   "outputs": [
    {
     "name": "stdout",
     "output_type": "stream",
     "text": [
      "14\n"
     ]
    }
   ],
   "source": [
    "def advanced_sub_array(n,k,arr):\n",
    "    curr_sum = 0\n",
    "    for i in range(k):\n",
    "        curr_sum = (i+1) * arr[i]\n",
    "    max_sum = curr_sum\n",
    "    for i in range(k,n):\n",
    "        curr_sum -= arr[i-k] * (i - k + 1)\n",
    "        curr_sum += arr[i] * k\n",
    "        if curr_sum > max_sum:\n",
    "            max_sum = curr_sum\n",
    "    return max_sum\n",
    "\n",
    "n = 5\n",
    "k = 2\n",
    "arr = [1,2,3,4,5]\n",
    "print(advanced_sub_array(n,k,arr)) "
   ]
  },
  {
   "cell_type": "markdown",
   "metadata": {},
   "source": [
    "### P-2. Ant on rails\n",
    "\n",
    "To solve the problem of determining how many times the ant returns to its original starting position, we can follow these steps:\n",
    "\n",
    "1. *Understand the Problem*:\n",
    "   - The ant starts at position 0.\n",
    "   - The array A contains 1 and -1, representing the ant's moves.\n",
    "   - We need to count how many times the ant returns to position 0 during its movements.\n",
    "\n",
    "2. *Approach*:\n",
    "   - Traverse the array A.\n",
    "   - Keep a running sum of the ant's position.\n",
    "   - Each time this running sum returns to 0, increment a counter.\n",
    "\n",
    "### Steps in Detail:\n",
    "\n",
    "1. Initialize position to 0 and count to 0.\n",
    "2. Traverse the array A.\n",
    "3. For each element in A, update the position by adding the current move (1 or -1).\n",
    "4. If position equals 0, increment the count.\n",
    "5. Return the count at the end.\n"
   ]
  },
  {
   "cell_type": "code",
   "execution_count": null,
   "metadata": {},
   "outputs": [
    {
     "name": "stdout",
     "output_type": "stream",
     "text": [
      "2\n"
     ]
    }
   ],
   "source": [
    "def ants(n,arr):\n",
    "    pos,c = 0,0\n",
    "    for i in arr:\n",
    "        pos += i\n",
    "        if pos == 0:\n",
    "            c += 1\n",
    "    return c\n",
    "\n",
    "n = 5\n",
    "arr = [1,-1,1,-1,1]\n",
    "print(ants(n,arr))"
   ]
  },
  {
   "cell_type": "markdown",
   "metadata": {},
   "source": [
    "### P-3. Choclate Jars\n",
    "To solve this problem, we need to determine how many chocolates student A will end up with after all chocolates are picked from all jars by students A, B, and C in a cyclic manner.\n",
    "\n",
    "### Approach\n",
    "\n",
    "1. *Understand the Problem*:\n",
    "   - Three students pick chocolates from jars in turns: A, B, C, A, B, C, and so on.\n",
    "   - We need to count how many chocolates student A gets.\n",
    "\n",
    "2. *Steps to Solve*:\n",
    "   - Traverse each jar.\n",
    "   - For each jar, count the chocolates that student A will get based on the picking cycle.\n",
    "   - Sum these counts to get the total number of chocolates student A has."
   ]
  },
  {
   "cell_type": "code",
   "execution_count": 5,
   "metadata": {},
   "outputs": [
    {
     "name": "stdout",
     "output_type": "stream",
     "text": [
      "21\n"
     ]
    }
   ],
   "source": [
    "def chocjars(jars,n):\n",
    "    achocs = 0\n",
    "    for i in jars:\n",
    "        pos = 0\n",
    "        for _ in range(i):\n",
    "            if pos == 0:\n",
    "                achocs += 1\n",
    "            pos = (pos+1) % 3\n",
    "    return achocs\n",
    "jars = [10,20,30]\n",
    "n = 3\n",
    "print(chocjars(jars,n))"
   ]
  },
  {
   "cell_type": "markdown",
   "metadata": {},
   "source": [
    "### P-4. Diwali Contest"
   ]
  },
  {
   "cell_type": "code",
   "execution_count": 1,
   "metadata": {},
   "outputs": [
    {
     "name": "stdout",
     "output_type": "stream",
     "text": [
      "4\n"
     ]
    }
   ],
   "source": [
    "def diwali(n,p):\n",
    "    avail = 240 - p\n",
    "    if avail < 15:\n",
    "        return 0\n",
    "    pro_time = 15\n",
    "    max_time = avail // pro_time\n",
    "    res = min(max_time,n)\n",
    "    return res\n",
    "n = 6\n",
    "p = 180\n",
    "print(diwali(n,p))"
   ]
  },
  {
   "cell_type": "markdown",
   "metadata": {},
   "source": [
    "### P-6 Elections "
   ]
  },
  {
   "cell_type": "code",
   "execution_count": 2,
   "metadata": {},
   "outputs": [],
   "source": [
    "def elections(votes):\n",
    "    vcount = {}\n",
    "    for v in votes:\n",
    "        if v in vcount:\n",
    "            vcount[v] += 1\n",
    "        else:\n",
    "            vcount[v]= 1\n",
    "    maj = len(votes) // 2\n",
    "    for p,c in vcount.items():\n",
    "        if c > maj:\n",
    "            return p\n",
    "    return -1"
   ]
  },
  {
   "cell_type": "markdown",
   "metadata": {},
   "source": [
    "### P-7. Most Frequent Vowel in a Given String"
   ]
  },
  {
   "cell_type": "code",
   "execution_count": 1,
   "metadata": {},
   "outputs": [
    {
     "name": "stdout",
     "output_type": "stream",
     "text": [
      "o\n"
     ]
    }
   ],
   "source": [
    "def sol(s):\n",
    "    vowels = \"aeiouAEIOU\"\n",
    "    vcount = {v: 0 for v in vowels}\n",
    "    for char in s:\n",
    "        if char in vowels:\n",
    "            vcount[char] += 1\n",
    "    freq = max(vcount, key=vcount.get)\n",
    "    return freq\n",
    "\n",
    "s = \"helloworld\"\n",
    "print(sol(s))"
   ]
  },
  {
   "cell_type": "markdown",
   "metadata": {},
   "source": [
    "10. Number of Combinations Leading to a Triplet"
   ]
  },
  {
   "cell_type": "code",
   "execution_count": null,
   "metadata": {},
   "outputs": [],
   "source": [
    "def tripletSum(nums,m):\n",
    "    n = len(nums)\n",
    "    triplets = set()\n",
    "    for i in range(len(nums)):\n",
    "        for j in range(i+1,n):\n",
    "            for k in range(j+1,n):\n",
    "                if arr[i] * arr[j] * arr[k] == m:\n",
    "                    triplet = tuple(sorted(arr[i],arr[j],arr[k]))\n",
    "                tripletSum.add(triplet)\n",
    "    return tripletSum"
   ]
  },
  {
   "cell_type": "markdown",
   "metadata": {},
   "source": [
    "11. Minimum Array Sum"
   ]
  },
  {
   "cell_type": "code",
   "execution_count": null,
   "metadata": {},
   "outputs": [],
   "source": [
    "def min_arrSUm(nums):\n",
    "    for i in range(len(nums)):\n",
    "        for j in range(i+1,n):\n",
    "            avg = (nums[i] + nums[j])/2\n",
    "            if nums[i] < avg:\n",
    "                nums[i] = 0\n",
    "            if nums[i] >= avg:\n",
    "                nums[j] = 0\n",
    "    return sum(nums)"
   ]
  },
  {
   "cell_type": "markdown",
   "metadata": {},
   "source": [
    "12. Maths test\n",
    "\n",
    "Alice has a mathematics test for which she is underprepared. She has to do at least one question correctly to pass the test. He decides to do a question which needs her to find the smallest prime number which is larger than a given integer N. Your task is to find and return an integer value representing the smallest prime number larger than N. check its flexible to all range of test cases\n",
    "ChatGPT\n",
    "\n",
    "To solve this problem, we need a function that efficiently finds the smallest prime number greater than a given integer NN. We'll follow these steps:\n",
    "\n",
    "    Write a function to check if a number is prime.\n",
    "    Use this function to find the next prime number greater than NN.\n",
    "\n",
    "Here's the implementation:\n",
    "Prime Checking Function\n",
    "\n",
    "We'll use an optimized approach to check for prime numbers, considering edge cases and larger numbers efficiently.\n",
    "Finding the Next Prime Function\n",
    "\n",
    "We'll increment from N+1N+1 and use the prime-checking function to find the next prime number."
   ]
  },
  {
   "cell_type": "code",
   "execution_count": null,
   "metadata": {},
   "outputs": [],
   "source": [
    "def is_prime(num):\n",
    "    if num <= 1:\n",
    "        return False\n",
    "    if num <= 3:\n",
    "        return True\n",
    "    if num % 2 == 0 or num % 3 == 0:\n",
    "        return False\n",
    "    i = 5\n",
    "    while i * i <= num:\n",
    "        if num % i == 0 or num % (i + 2) == 0:\n",
    "            return False\n",
    "        i += 6\n",
    "    return True\n",
    "\n",
    "def next_prime(N):\n",
    "    current = N + 1\n",
    "    while not is_prime(current):\n",
    "        current += 1\n",
    "    return current\n",
    "\n",
    "# Testing the function with various test cases\n",
    "test_cases = [10, 20, 0, -5, 100, 200, 1000, 15485863]  # including large prime number for edge case\n",
    "\n",
    "for N in test_cases:\n",
    "    print(f\"Next prime after {N} is {next_prime(N)}\")"
   ]
  },
  {
   "cell_type": "markdown",
   "metadata": {},
   "source": [
    "13. Magic String\n",
    "\n",
    "Eva has a string S containing lowercase English letters. She wants to transform this string into a Magic String, where all the characters in the string are the same. To do so, she can replace any letter in the string with another letter present explain the logical approach\n",
    "ChatGPT\n",
    "\n",
    "To transform a given string SS into a \"Magic String\" where all characters are the same, Eva needs to replace some characters in SS such that all characters in the string become identical. The goal is to minimize the number of replacements.\n",
    "Logical Approach\n",
    "\n",
    "    Count Frequency of Characters:\n",
    "        Calculate the frequency of each character in the string SS.\n",
    "        This will help in determining which character is the most frequent in the string.\n",
    "\n",
    "    Identify the Most Frequent Character:\n",
    "        The character with the highest frequency will be the target character for transformation.\n",
    "        This is because transforming all characters to the most frequent character will require the fewest replacements.\n",
    "\n",
    "    Calculate Minimum Replacements:\n",
    "        The number of replacements needed will be the total number of characters in SS minus the frequency of the most frequent character.\n",
    "        This is because every other character in SS will need to be replaced to match the most frequent character."
   ]
  },
  {
   "cell_type": "code",
   "execution_count": 1,
   "metadata": {},
   "outputs": [
    {
     "name": "stdout",
     "output_type": "stream",
     "text": [
      "7\n"
     ]
    }
   ],
   "source": [
    "def magic(s):\n",
    "    freq = {}\n",
    "    maxf = 0\n",
    "    minres = 0\n",
    "    for char in s:\n",
    "        if char in freq:\n",
    "            freq[char] += 1\n",
    "        else:\n",
    "            freq[char] = 1\n",
    "    for f in freq.values():\n",
    "        if f > maxf:\n",
    "            maxf = f\n",
    "    minres = len(s) - maxf\n",
    "    return minres\n",
    "print(magic(s=\"aaabbccdddd\"))"
   ]
  },
  {
   "cell_type": "markdown",
   "metadata": {},
   "source": [
    "14. Encode the Number\n",
    "\n",
    "N = 9119\n",
    "print(encodeNumber(N))  # Output: 811181\n"
   ]
  },
  {
   "cell_type": "code",
   "execution_count": null,
   "metadata": {},
   "outputs": [],
   "source": [
    "function encodeNumber(N):\n",
    "    # Convert the number to a string to iterate through each digit\n",
    "    strN = str(N)\n",
    "    \n",
    "    # Initialize an empty string to hold the result\n",
    "    encodedStr = \"\"\n",
    "    \n",
    "    # Iterate through each digit in the string representation of N\n",
    "    for char in strN:\n",
    "        # Convert the character back to an integer\n",
    "        digit = int(char)\n",
    "        # Square the digit\n",
    "        squared = digit * digit\n",
    "        # Convert the squared value back to a string and concatenate\n",
    "        encodedStr += str(squared)\n",
    "    \n",
    "    # Convert the concatenated string back to an integer\n",
    "    encodedValue = int(encodedStr)\n",
    "    \n",
    "    return encodedValue"
   ]
  },
  {
   "cell_type": "markdown",
   "metadata": {},
   "source": [
    "15. Position Equilibrium"
   ]
  },
  {
   "cell_type": "code",
   "execution_count": 2,
   "metadata": {},
   "outputs": [
    {
     "name": "stdout",
     "output_type": "stream",
     "text": [
      "2\n"
     ]
    }
   ],
   "source": [
    "def findEquilibriumIndex(A):\n",
    "    total_sum = sum(A)\n",
    "    left_sum = 0\n",
    "    \n",
    "    for i in range(len(A)):\n",
    "        right_sum = total_sum - left_sum - A[i]\n",
    "        \n",
    "        if left_sum == right_sum:\n",
    "            return i\n",
    "        \n",
    "        left_sum += A[i]\n",
    "    \n",
    "    return -1  # Return -1 if no equilibrium index is found\n",
    "\n",
    "# Example usage:\n",
    "A = [1, 3, 5, 2, 2]\n",
    "print(findEquilibriumIndex(A))  # Output: 2"
   ]
  },
  {
   "cell_type": "markdown",
   "metadata": {},
   "source": [
    "16. Signature LCM\n",
    "\n",
    "Find lcm and gcd of given 2 integers a and b\n",
    "use math module\n",
    "lcm = abs(a * b) // math.gcd(a,b)\n",
    "gcd = math.gcd(a,b)\n"
   ]
  },
  {
   "cell_type": "code",
   "execution_count": 1,
   "metadata": {},
   "outputs": [
    {
     "name": "stdout",
     "output_type": "stream",
     "text": [
      "LCM of 12 and 18 is 36\n",
      "GCD of 12 and 18 is 6\n"
     ]
    }
   ],
   "source": [
    "import math\n",
    "\n",
    "# Define the lambda functions\n",
    "lcm = lambda a, b: abs(a * b) // math.gcd(a, b)\n",
    "gcd = lambda a, b: math.gcd(a, b)\n",
    "\n",
    "# Example integers\n",
    "a = 12\n",
    "b = 18\n",
    "\n",
    "# Calculate LCM and GCD\n",
    "lcm_value = lcm(a, b)\n",
    "gcd_value = gcd(a, b)\n",
    "\n",
    "print(f\"LCM of {a} and {b} is {lcm_value}\")\n",
    "print(f\"GCD of {a} and {b} is {gcd_value}\")"
   ]
  },
  {
   "cell_type": "markdown",
   "metadata": {},
   "source": [
    "17. Missing Alphabets\n",
    "\n",
    "Pangram is a sentence containing every letter in the English alphabet. Given a string, find all characters that are missing from the string, Le., the characters that can make the string a Pangram We need to print output in alphabetic order\n",
    "ChatGPT\n",
    "\n",
    "To solve the problem of finding missing characters that can make a given string a pangram, we need to follow these steps:\n",
    "\n",
    "    Create a set of all the letters in the English alphabet.\n",
    "    Convert the input string to lowercase and create a set of all unique characters in the string.\n",
    "    Find the difference between the alphabet set and the set of characters in the string to get the missing characters.\n",
    "    Return the missing characters in alphabetical order."
   ]
  },
  {
   "cell_type": "code",
   "execution_count": 2,
   "metadata": {},
   "outputs": [
    {
     "name": "stdout",
     "output_type": "stream",
     "text": [
      "Missing characters: \n",
      "Missing characters: x\n",
      "Missing characters: \n"
     ]
    }
   ],
   "source": [
    "def find_missing_chars(s: str) -> str:\n",
    "    # Set of all lowercase alphabets\n",
    "    alphabet = set(\"abcdefghijklmnopqrstuvwxyz\")\n",
    "    \n",
    "    # Set of all characters present in the string (converted to lowercase)\n",
    "    present_chars = set(s.lower())\n",
    "    \n",
    "    # Find the missing characters\n",
    "    missing_chars = alphabet - present_chars\n",
    "    \n",
    "    # Return missing characters in sorted order as a string\n",
    "    return ''.join(sorted(missing_chars))\n",
    "\n",
    "# Example usage\n",
    "input_string = \"The quick brown fox jumps over the lazy dog\"\n",
    "missing_characters = find_missing_chars(input_string)\n",
    "print(f\"Missing characters: {missing_characters}\")\n",
    "\n",
    "input_string = \"A quick movement of the enemy will jeopardize five gunboats\"\n",
    "missing_characters = find_missing_chars(input_string)\n",
    "print(f\"Missing characters: {missing_characters}\")\n",
    "\n",
    "input_string = \"Pack my box with five dozen liquor jugs\"\n",
    "missing_characters = find_missing_chars(input_string)\n",
    "print(f\"Missing characters: {missing_characters}\")"
   ]
  },
  {
   "cell_type": "markdown",
   "metadata": {},
   "source": [
    "18. Target Sum \n",
    "\n",
    "To solve the problem of finding two numbers in a list that add up to a specific target sum and returning their indices, you can use a hash map (dictionary) to keep track of the indices of the numbers you have seen so far. This allows you to achieve the solution in linear time complexity, O(n).\n",
    "Approach\n",
    "\n",
    "    Initialize a Dictionary: Use a dictionary to store the numbers and their corresponding indices as you iterate through the list.\n",
    "    Iterate Through the List: For each number in the list, calculate the complement (i.e., the number that needs to be added to the current number to reach the target sum).\n",
    "    Check for the Complement: If the complement is already in the dictionary, you have found the two numbers that add up to the target sum. Return their indices.\n",
    "    Update the Dictionary: If the complement is not in the dictionary, add the current number and its index to the dictionary."
   ]
  },
  {
   "cell_type": "code",
   "execution_count": null,
   "metadata": {},
   "outputs": [],
   "source": [
    "def twosum(arr,target):\n",
    "    temp = {}\n",
    "    for i,num in enumerate(arr):\n",
    "        comp = target - num\n",
    "        if comp in temp:\n",
    "            return [temp[comp],i]\n",
    "        temp[num] = i"
   ]
  },
  {
   "cell_type": "markdown",
   "metadata": {},
   "source": [
    "20. Peak Element Finder\n",
    "\n",
    "o solve the problem of finding a peak element in an N-dimensional array where a peak element is defined as an element that is greater than or equal to its neighboring elements, you can use a binary search approach. This approach helps in achieving a time complexity of O(log N) for a 1D array and can be extended to higher dimensions with modifications.\n",
    "Approach\n",
    "\n",
    "    Binary Search: Use a binary search algorithm to find a peak element. The idea is to choose the middle element and compare it with its neighbors:\n",
    "        If the middle element is greater than or equal to its neighbors, it is a peak element.\n",
    "        If the middle element is smaller than its left neighbor, then there must be a peak element in the left half of the array.\n",
    "        If the middle element is smaller than its right neighbor, then there must be a peak element in the right half of the array.\n",
    "\n",
    "Pseudo Code\n",
    "\n",
    "    Define a function findPeakElement(arr, low, high, n):\n",
    "        If there is only one element, return that element.\n",
    "        Find the middle index.\n",
    "        Compare the middle element with its neighbors.\n",
    "        If the middle element is a peak element, return it.\n",
    "        If the left neighbor is greater, recurse on the left half.\n",
    "        Otherwise, recurse on the right half.\n",
    "\n"
   ]
  },
  {
   "cell_type": "code",
   "execution_count": null,
   "metadata": {},
   "outputs": [],
   "source": [
    "def findPeakElement(arr, low, high, n):\n",
    "    mid = low + (high - low) // 2\n",
    "    \n",
    "    # Check if mid is a peak element\n",
    "    if ((mid == 0 or arr[mid - 1] <= arr[mid]) and \n",
    "        (mid == n - 1 or arr[mid + 1] <= arr[mid])):\n",
    "        return mid\n",
    "\n",
    "    # If the left neighbor is greater, then there is a peak element on the left side\n",
    "    elif (mid > 0 and arr[mid - 1] > arr[mid]):\n",
    "        return findPeakElement(arr, low, mid - 1, n)\n",
    "    \n",
    "    # If the right neighbor is greater, then there is a peak element on the right side\n",
    "    else:\n",
    "        return findPeakElement(arr, mid + 1, high, n)\n",
    "\n",
    "def peakElement(arr, n):\n",
    "    return findPeakElement(arr, 0, n - 1, n)\n",
    "\n",
    "# Example usage\n",
    "arr = [1, 3, 20, 4, 1, 0]\n",
    "n = len(arr)\n",
    "result = peakElement(arr, n)\n",
    "print(f\"Index of a peak element is: {result}, Peak element: {arr[result]}\")"
   ]
  },
  {
   "cell_type": "markdown",
   "metadata": {},
   "source": [
    "21. Maximum Subarray\n",
    "\n",
    "To find the maximum subarray sum using the sliding window approach, we typically refer to Kadane's algorithm. However, Kadane's algorithm does not exactly use a sliding window but rather a dynamic programming approach. For an exact sliding window technique, we generally refer to problems where the window size is fixed, but for finding the maximum subarray sum, the window size is dynamic. Here’s how Kadane's algorithm works, and then I'll also provide an alternative using a sliding window if the window size is fixed.\n",
    "Kadane's Algorithm (Dynamic Programming Approach)\n",
    "\n",
    "Kadane's algorithm efficiently finds the maximum sum of a contiguous subarray in an array.\n",
    "Pseudo Code\n",
    "\n",
    "    Initialize max_current to the first element.\n",
    "    Initialize max_global to the first element.\n",
    "    Loop through the array starting from the second element:\n",
    "        Update max_current to be the maximum of the current element and the sum of max_current plus the current element.\n",
    "        Update max_global to be the maximum of max_global and max_current.\n",
    "    Return max_global.\n",
    "\n"
   ]
  },
  {
   "cell_type": "code",
   "execution_count": null,
   "metadata": {},
   "outputs": [],
   "source": [
    "def maxSubArray(nums):\n",
    "    max_current = max_global = nums[0]\n",
    "    \n",
    "    for num in nums[1:]:\n",
    "        max_current = max(num, max_current + num)\n",
    "        if max_current > max_global:\n",
    "            max_global = max_current\n",
    "            \n",
    "    return max_global\n",
    "\n",
    "# Example usage\n",
    "nums = [-2,1,-3,4,-1,2,1,-5,4]\n",
    "print(f\"Maximum subarray sum is: {maxSubArray(nums)}\")"
   ]
  },
  {
   "cell_type": "markdown",
   "metadata": {},
   "source": [
    "23. Candies\n",
    "\n",
    "Given N children, K candies, and starting child A, distribute the candies cyclically among the children. We need to determine which child will receive the last candy.\n",
    "Explanation\n",
    "\n",
    "    Sequential Distribution: Starting from child A, distribute the candies sequentially. After child N receives a candy, continue with child 1.\n",
    "    Goal: Identify the child who receives the Kth candy.\n",
    "\n",
    "Approach\n",
    "\n",
    "    Calculation of Position:\n",
    "        Start from child A and distribute K candies.\n",
    "        The position of the last candy can be determined by simulating the cyclic distribution using modular arithmetic.\n",
    "    Mathematical Formula:\n",
    "        If A is the starting position, the position of the last candy after distributing K candies can be calculated as:\n",
    "        Position=(A+K−1)%N\n",
    "        Position=(A+K−1)%N\n",
    "        If the calculated position is 0, it means the last candy goes to the last child (N)."
   ]
  },
  {
   "cell_type": "code",
   "execution_count": null,
   "metadata": {},
   "outputs": [
    {
     "ename": "",
     "evalue": "",
     "output_type": "error",
     "traceback": [
      "\u001b[1;31mRunning cells with 'Python 3.12.4' requires the ipykernel package.\n",
      "\u001b[1;31mRun the following command to install 'ipykernel' into the Python environment. \n",
      "\u001b[1;31mCommand: 'c:/Python312/python.exe -m pip install ipykernel -U --user --force-reinstall'"
     ]
    }
   ],
   "source": [
    "def find_last_recipient(N, K, A):\n",
    "    # Calculate the position of the last candy\n",
    "    position = (A + K - 1) % N\n",
    "    # If position is 0, it means the last candy is given to the Nth child\n",
    "    return N if position == 0 else position\n",
    "\n",
    "# Sample Input\n",
    "N, K, A = 5, 2, 1\n",
    "\n",
    "# Function Call\n",
    "print(find_last_recipient(N, K, A))  # Output: 2"
   ]
  },
  {
   "cell_type": "markdown",
   "metadata": {},
   "source": [
    "24. Best Grade\n",
    "\n",
    "Problem Statement\n",
    "Andrew has a string \n",
    "𝑛\n",
    "n consisting of lowercase English letters representing the grades of \n",
    "𝑛\n",
    "n students in his class. His grade is at the \n",
    "𝑃\n",
    "P-th index. He can swap any two adjacent grades. Your task is to help Andrew find and return the lexicographically smallest character that can be at the \n",
    "𝑃\n",
    "P-th index after doing at most \n",
    "𝐾\n",
    "K swaps.\n",
    "\n",
    "Sample Input\n",
    "String: abcdefg\n",
    "𝑃\n",
    "P: 3\n",
    "𝐾\n",
    "K: 2\n",
    "Sample Output\n",
    "a\n",
    "Revised Approach\n",
    "Identify the smallest character within the first \n",
    "𝑃\n",
    "+\n",
    "𝐾\n",
    "P+K characters that can be moved to the \n",
    "𝑃\n",
    "P-th index within the allowed number of swaps."
   ]
  },
  {
   "cell_type": "code",
   "execution_count": null,
   "metadata": {},
   "outputs": [],
   "source": [
    "def sol(n,p,k):\n",
    "    chars = list(n)\n",
    "    target = p-1\n",
    "    minchar = chars[target]\n",
    "    for i in range(0,target+k+1):\n",
    "        if chars[i] < minchar:\n",
    "            minchar = chars[i]\n",
    "    return minchar"
   ]
  },
  {
   "cell_type": "markdown",
   "metadata": {},
   "source": [
    "26. Special String\n",
    "\n",
    "Problem Statement\n",
    "Alice has a string \n",
    "𝐴\n",
    "A consisting of lowercase integers (in this context, it appears to mean lowercase letters). Her friend gives her another string \n",
    "𝑆\n",
    "S and asks her to modify string \n",
    "𝐴\n",
    "A by replacing its characters with characters present in string \n",
    "𝑆\n",
    "S. To achieve this, Alice must:\n",
    "\n",
    "Choose a character from string \n",
    "𝑆\n",
    "S that has the minimum ASCII distance from the \n",
    "𝑖\n",
    "i-th character in string \n",
    "𝐴\n",
    "A.\n",
    "Replace the \n",
    "𝑖\n",
    "i-th character in \n",
    "𝐴\n",
    "A with the chosen character from \n",
    "𝑆\n",
    "S.\n",
    "The goal is to find and return an integer value representing the minimum total ASCII distance required to modify string \n",
    "𝐴\n",
    "A to the characters in string \n",
    "𝑆\n",
    "S. Return 0 if all characters in string \n",
    "𝑆\n",
    "S are already present in string \n",
    "𝐴\n",
    "A.\n",
    "\n",
    "Sample Input\n",
    "String \n",
    "𝐴\n",
    "A: \"ABCD\"\n",
    "String \n",
    "𝑆\n",
    "S: \"XYZ\"\n",
    "Sample Output\n",
    "86\n",
    "Step-by-Step Approach\n",
    "Initialize the minimum total ASCII distance to 0.\n",
    "Iterate through each character in string \n",
    "𝐴\n",
    "A.\n",
    "For each character in \n",
    "𝐴\n",
    "A, find the character in \n",
    "𝑆\n",
    "S with the minimum ASCII distance.\n",
    "Add the ASCII distance between the character in \n",
    "𝐴\n",
    "A and the chosen character in \n",
    "𝑆\n",
    "S to the total distance."
   ]
  },
  {
   "cell_type": "markdown",
   "metadata": {},
   "source": [
    "Explanation\n",
    "Iterate through each character in \n",
    "𝐴\n",
    "A: For each character in \n",
    "𝐴\n",
    "A, compare it with every character in \n",
    "𝑆\n",
    "S.\n",
    "Calculate the ASCII distance: For each character pair, calculate the absolute difference between their ASCII values.\n",
    "Find the minimum distance: Track the minimum distance for each character in \n",
    "𝐴\n",
    "A when compared to all characters in \n",
    "𝑆\n",
    "S.\n",
    "Sum the distances: Accumulate the minimum distances for all characters in \n",
    "𝐴\n",
    "A."
   ]
  },
  {
   "cell_type": "code",
   "execution_count": null,
   "metadata": {},
   "outputs": [],
   "source": [
    "def sol(a,s):\n",
    "    total = 0\n",
    "    for chara in a:\n",
    "        min_dist = float('inf')\n",
    "        for chars in s:\n",
    "            dis = abs(ord(chara) - ord(chars))\n",
    "            if dis < min_dist:\n",
    "                min_dist = dis\n",
    "        total += min_dist\n",
    "    return total"
   ]
  },
  {
   "cell_type": "markdown",
   "metadata": {},
   "source": [
    "27. Number Match\n",
    "\n",
    "If an even number has an even occurrence, it supports team A; otherwise, it supports team B.\n",
    "If an odd number has an even occurrence, it supports team B; otherwise, it supports team A.\n",
    "We need to count the number of supports for each team and determine the winner.\n",
    "\n",
    "Create a frequency dictionary to count the occurrences of each number.\n",
    "Use the frequency dictionary to determine which team each number supports.\n",
    "Sum up the supports for team A and team B.\n",
    "Compare the supports and print the result.\n"
   ]
  },
  {
   "cell_type": "code",
   "execution_count": null,
   "metadata": {},
   "outputs": [],
   "source": [
    "def sol(arr):\n",
    "    freq = {}\n",
    "    for i in arr:\n",
    "        if i in freq:\n",
    "            freq[i] += 1\n",
    "        else:\n",
    "            freq[i] = 1\n",
    "    ac,bc = 0,0\n",
    "    for n,c in freq.items():\n",
    "        if n % 2 == 0:\n",
    "            if c % 2 == 0:\n",
    "                ac += 1\n",
    "            else:\n",
    "                bc += 1\n",
    "        else:\n",
    "            if c % 2 == 0:\n",
    "                bc += 1\n",
    "            else:\n",
    "                ac += 1\n",
    "    if ac > bc:\n",
    "        return f\"A {ac}\"\n",
    "    elif ac < bc:\n",
    "        return f\"B {bc}\"\n",
    "    else:\n",
    "        return f\"T {0}\"\n",
    "\n",
    "arr = [1,1,2,2,3,4]\n",
    "print(sol(arr))\n"
   ]
  },
  {
   "cell_type": "markdown",
   "metadata": {},
   "source": [
    "28. Comma Count\n",
    "\n",
    "Explanation:\n",
    "\n",
    "The count_commas_in_range function initializes total_commas to 0.\n",
    "It iterates through each number from 1 to \n",
    "𝑛\n",
    "n.\n",
    "The f\"{i:,}\" expression formats the number \n",
    "𝑖\n",
    "i with commas.\n",
    "The count(',') method counts the number of commas in the formatted string.\n",
    "The count of commas is added to total_commas.\n",
    "Finally, total_commas is returned."
   ]
  },
  {
   "cell_type": "code",
   "execution_count": 1,
   "metadata": {},
   "outputs": [
    {
     "name": "stdout",
     "output_type": "stream",
     "text": [
      "4001\n"
     ]
    }
   ],
   "source": [
    "def comma(n):\n",
    "    total = 0\n",
    "    for i in range(1,n+1):\n",
    "        numsWithCommas = f\"{i:,}\"\n",
    "        commaCount = numsWithCommas.count(',')\n",
    "        total += commaCount\n",
    "    return total\n",
    "\n",
    "n = 5000\n",
    "print(comma(n))"
   ]
  },
  {
   "cell_type": "markdown",
   "metadata": {},
   "source": [
    "29. Toss and Score\n",
    "\n",
    "Explanation:\n",
    "\n",
    "score is initialized to 0.\n",
    "\n",
    " Create consecutive_heads keeps track of how many consecutive heads we have encountered.\n",
    "\n",
    "We iterate through each character in the string S\n",
    "\n",
    "If the character is 'H', we add 2 points to the score and increment the consecutive heads counter.\n",
    "\n",
    "If the character is 'T', we subtract 1 point from the score and reset the consecutive heads counter.\n",
    "\n",
    "If three consecutive heads are encountered, the loop breaks.\n",
    "\n",
    "Finally, we return the score."
   ]
  },
  {
   "cell_type": "code",
   "execution_count": null,
   "metadata": {},
   "outputs": [],
   "source": [
    "def sol(s):\n",
    "    if not s:\n",
    "        return 0\n",
    "    for char in s:\n",
    "        if char == 'H':\n",
    "            score += 2\n",
    "            cons += 1\n",
    "            if cons == 3:\n",
    "                break\n",
    "        elif char == 'T':\n",
    "            score -= 1\n",
    "            cons = 0\n",
    "    return score"
   ]
  }
 ],
 "metadata": {
  "kernelspec": {
   "display_name": "Python 3",
   "language": "python",
   "name": "python3"
  },
  "language_info": {
   "codemirror_mode": {
    "name": "ipython",
    "version": 3
   },
   "file_extension": ".py",
   "mimetype": "text/x-python",
   "name": "python",
   "nbconvert_exporter": "python",
   "pygments_lexer": "ipython3",
   "version": "3.12.4"
  }
 },
 "nbformat": 4,
 "nbformat_minor": 2
}
