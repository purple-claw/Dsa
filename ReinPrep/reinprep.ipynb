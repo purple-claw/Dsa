{
 "cells": [
  {
   "cell_type": "markdown",
   "metadata": {},
   "source": [
    "### P-1. Adcanced Array Sum\n",
    "\n",
    "You are competing in a basketball contest where the score for each successful shot depends on the distance from the basket and the player's position. The player makes 10 successful shots, and the distances are given in an array A. The score for each shot is calculated by multiplying the distance by the position (considering one-based indexing). Your task is to find the maximum possible score you can achieve by choosing a contiguous subarray of size K from the given array.\n",
    "\n",
    "### Explanation\n",
    "\n",
    "1. *Initial Calculation*:\n",
    "   - Calculate the score for the first subarray of size K.\n",
    "   - Use one-based indexing to compute the initial score.\n",
    "\n",
    "2. *Sliding Window*:\n",
    "   - Slide the window of size K across the array.\n",
    "   - Update the current score by subtracting the contribution of the element that slides out of the window and adding the contribution of the new element that slides into the window.\n",
    "   - Track the maximum score during this process.\n",
    "\n",
    "### Approach Pseudocode\n",
    "\n",
    "Here's the pseudocode for the approach:\n",
    "\n",
    "1. *Input*:\n",
    "   - Read the number of shots n.\n",
    "   - Read the size of the subarray K.\n",
    "   - Read the array A of distances.\n",
    "\n",
    "2. *Initialize*:\n",
    "   - current_score to 0.\n",
    "   - max_score to 0.\n",
    "\n",
    "3. *Calculate Initial Score*:\n",
    "   - For i from 0 to K-1:\n",
    "     - current_score += (i + 1) * A[i]\n",
    "   - Set max_score to current_score.\n",
    "\n",
    "4. *Sliding Window*:\n",
    "   - For i from K to n-1:\n",
    "     - Subtract the contribution of the element going out of the window:\n",
    "       - current_score -= A[i - K] * (i - K + 1)\n",
    "     - Add the contribution of the new element coming into the window:\n",
    "       - current_score += A[i] * K\n",
    "     - Update max_score if current_score is greater than max_score.\n",
    "\n",
    "5. *Return max_score*."
   ]
  },
  {
   "cell_type": "code",
   "execution_count": 3,
   "metadata": {},
   "outputs": [
    {
     "name": "stdout",
     "output_type": "stream",
     "text": [
      "14\n"
     ]
    }
   ],
   "source": [
    "def advanced_sub_array(n,k,arr):\n",
    "    curr_sum = 0\n",
    "    for i in range(k):\n",
    "        curr_sum = (i+1) * arr[i]\n",
    "    max_sum = curr_sum\n",
    "    for i in range(k,n):\n",
    "        curr_sum -= arr[i-k] * (i - k + 1)\n",
    "        curr_sum += arr[i] * k\n",
    "        if curr_sum > max_sum:\n",
    "            max_sum = curr_sum\n",
    "    return max_sum\n",
    "\n",
    "n = 5\n",
    "k = 2\n",
    "arr = [1,2,3,4,5]\n",
    "print(advanced_sub_array(n,k,arr)) "
   ]
  },
  {
   "cell_type": "markdown",
   "metadata": {},
   "source": [
    "### P-2. Ant on rails\n",
    "\n",
    "To solve the problem of determining how many times the ant returns to its original starting position, we can follow these steps:\n",
    "\n",
    "1. *Understand the Problem*:\n",
    "   - The ant starts at position 0.\n",
    "   - The array A contains 1 and -1, representing the ant's moves.\n",
    "   - We need to count how many times the ant returns to position 0 during its movements.\n",
    "\n",
    "2. *Approach*:\n",
    "   - Traverse the array A.\n",
    "   - Keep a running sum of the ant's position.\n",
    "   - Each time this running sum returns to 0, increment a counter.\n",
    "\n",
    "### Steps in Detail:\n",
    "\n",
    "1. Initialize position to 0 and count to 0.\n",
    "2. Traverse the array A.\n",
    "3. For each element in A, update the position by adding the current move (1 or -1).\n",
    "4. If position equals 0, increment the count.\n",
    "5. Return the count at the end.\n"
   ]
  },
  {
   "cell_type": "code",
   "execution_count": 4,
   "metadata": {},
   "outputs": [
    {
     "name": "stdout",
     "output_type": "stream",
     "text": [
      "2\n"
     ]
    }
   ],
   "source": [
    "def ants(n,arr):\n",
    "    pos,c = 0,0\n",
    "    for i in arr:\n",
    "        pos += i\n",
    "        if pos == 0:\n",
    "            c += 1\n",
    "    return c\n",
    "\n",
    "n = 5\n",
    "arr = [1,-1,1,-1,1]\n",
    "print(ants(n,arr))"
   ]
  },
  {
   "cell_type": "markdown",
   "metadata": {},
   "source": [
    "### P-3. Choclate Jars\n",
    "To solve this problem, we need to determine how many chocolates student A will end up with after all chocolates are picked from all jars by students A, B, and C in a cyclic manner.\n",
    "\n",
    "### Approach\n",
    "\n",
    "1. *Understand the Problem*:\n",
    "   - Three students pick chocolates from jars in turns: A, B, C, A, B, C, and so on.\n",
    "   - We need to count how many chocolates student A gets.\n",
    "\n",
    "2. *Steps to Solve*:\n",
    "   - Traverse each jar.\n",
    "   - For each jar, count the chocolates that student A will get based on the picking cycle.\n",
    "   - Sum these counts to get the total number of chocolates student A has."
   ]
  },
  {
   "cell_type": "code",
   "execution_count": 5,
   "metadata": {},
   "outputs": [
    {
     "name": "stdout",
     "output_type": "stream",
     "text": [
      "21\n"
     ]
    }
   ],
   "source": [
    "def chocjars(jars,n):\n",
    "    achocs = 0\n",
    "    for i in jars:\n",
    "        pos = 0\n",
    "        for _ in range(i):\n",
    "            if pos == 0:\n",
    "                achocs += 1\n",
    "            pos = (pos+1) % 3\n",
    "    return achocs\n",
    "jars = [10,20,30]\n",
    "n = 3\n",
    "print(chocjars(jars,n))"
   ]
  },
  {
   "cell_type": "markdown",
   "metadata": {},
   "source": [
    "### P-4. Diwali Contest"
   ]
  },
  {
   "cell_type": "code",
   "execution_count": 1,
   "metadata": {},
   "outputs": [
    {
     "name": "stdout",
     "output_type": "stream",
     "text": [
      "4\n"
     ]
    }
   ],
   "source": [
    "def diwali(n,p):\n",
    "    avail = 240 - p\n",
    "    if avail < 15:\n",
    "        return 0\n",
    "    pro_time = 15\n",
    "    max_time = avail // pro_time\n",
    "    res = min(max_time,n)\n",
    "    return res\n",
    "n = 6\n",
    "p = 180\n",
    "print(diwali(n,p))"
   ]
  },
  {
   "cell_type": "markdown",
   "metadata": {},
   "source": [
    "### P-6 Elections "
   ]
  },
  {
   "cell_type": "code",
   "execution_count": 2,
   "metadata": {},
   "outputs": [],
   "source": [
    "def elections(votes):\n",
    "    vcount = {}\n",
    "    for v in votes:\n",
    "        if v in vcount:\n",
    "            vcount[v] += 1\n",
    "        else:\n",
    "            vcount[v]= 1\n",
    "    maj = len(votes) // 2\n",
    "    for p,c in vcount.items():\n",
    "        if c > maj:\n",
    "            return p\n",
    "    return -1"
   ]
  },
  {
   "cell_type": "markdown",
   "metadata": {},
   "source": [
    "### P-7. Most Frequent Vowel in a Given String"
   ]
  },
  {
   "cell_type": "code",
   "execution_count": 1,
   "metadata": {},
   "outputs": [
    {
     "name": "stdout",
     "output_type": "stream",
     "text": [
      "o\n"
     ]
    }
   ],
   "source": [
    "def sol(s):\n",
    "    vowels = \"aeiouAEIOU\"\n",
    "    vcount = {v: 0 for v in vowels}\n",
    "    for char in s:\n",
    "        if char in vowels:\n",
    "            vcount[char] += 1\n",
    "    freq = max(vcount, key=vcount.get)\n",
    "    return freq\n",
    "\n",
    "s = \"helloworld\"\n",
    "print(sol(s))"
   ]
  },
  {
   "cell_type": "markdown",
   "metadata": {},
   "source": [
    "10. Number of Combinations Leading to a Triplet"
   ]
  },
  {
   "cell_type": "code",
   "execution_count": null,
   "metadata": {},
   "outputs": [],
   "source": [
    "def tripletSum(nums,m):\n",
    "    n = len(nums)\n",
    "    triplets = set()\n",
    "    for i in range(len(nums)):\n",
    "        for j in range(i+1,n):\n",
    "            for k in range(j+1,n):\n",
    "                if arr[i] * arr[j] * arr[k] == m:\n",
    "                    triplet = tuple(sorted(arr[i],arr[j],arr[k]))\n",
    "                tripletSum.add(triplet)\n",
    "    return tripletSum"
   ]
  },
  {
   "cell_type": "markdown",
   "metadata": {},
   "source": [
    "11. Minimum Array Sum"
   ]
  },
  {
   "cell_type": "code",
   "execution_count": null,
   "metadata": {},
   "outputs": [],
   "source": [
    "def min_arrSUm(nums):\n",
    "    for i in range(len(nums)):\n",
    "        for j in range(i+1,n):\n",
    "            avg = (nums[i] + nums[j])/2\n",
    "            if nums[i] < avg:\n",
    "                nums[i] = 0\n",
    "            if nums[i] >= avg:\n",
    "                nums[j] = 0\n",
    "    return sum(nums)"
   ]
  },
  {
   "cell_type": "markdown",
   "metadata": {},
   "source": [
    "12. Maths test\n",
    "\n",
    "Alice has a mathematics test for which she is underprepared. She has to do at least one question correctly to pass the test. He decides to do a question which needs her to find the smallest prime number which is larger than a given integer N. Your task is to find and return an integer value representing the smallest prime number larger than N. check its flexible to all range of test cases\n",
    "ChatGPT\n",
    "\n",
    "To solve this problem, we need a function that efficiently finds the smallest prime number greater than a given integer NN. We'll follow these steps:\n",
    "\n",
    "    Write a function to check if a number is prime.\n",
    "    Use this function to find the next prime number greater than NN.\n",
    "\n",
    "Here's the implementation:\n",
    "Prime Checking Function\n",
    "\n",
    "We'll use an optimized approach to check for prime numbers, considering edge cases and larger numbers efficiently.\n",
    "Finding the Next Prime Function\n",
    "\n",
    "We'll increment from N+1N+1 and use the prime-checking function to find the next prime number."
   ]
  },
  {
   "cell_type": "code",
   "execution_count": null,
   "metadata": {},
   "outputs": [],
   "source": [
    "def is_prime(num):\n",
    "    if num <= 1:\n",
    "        return False\n",
    "    if num <= 3:\n",
    "        return True\n",
    "    if num % 2 == 0 or num % 3 == 0:\n",
    "        return False\n",
    "    i = 5\n",
    "    while i * i <= num:\n",
    "        if num % i == 0 or num % (i + 2) == 0:\n",
    "            return False\n",
    "        i += 6\n",
    "    return True\n",
    "\n",
    "def next_prime(N):\n",
    "    current = N + 1\n",
    "    while not is_prime(current):\n",
    "        current += 1\n",
    "    return current\n",
    "\n",
    "# Testing the function with various test cases\n",
    "test_cases = [10, 20, 0, -5, 100, 200, 1000, 15485863]  # including large prime number for edge case\n",
    "\n",
    "for N in test_cases:\n",
    "    print(f\"Next prime after {N} is {next_prime(N)}\")"
   ]
  },
  {
   "cell_type": "markdown",
   "metadata": {},
   "source": [
    "13. Magic String\n",
    "\n",
    "Eva has a string S containing lowercase English letters. She wants to transform this string into a Magic String, where all the characters in the string are the same. To do so, she can replace any letter in the string with another letter present explain the logical approach\n",
    "ChatGPT\n",
    "\n",
    "To transform a given string SS into a \"Magic String\" where all characters are the same, Eva needs to replace some characters in SS such that all characters in the string become identical. The goal is to minimize the number of replacements.\n",
    "Logical Approach\n",
    "\n",
    "    Count Frequency of Characters:\n",
    "        Calculate the frequency of each character in the string SS.\n",
    "        This will help in determining which character is the most frequent in the string.\n",
    "\n",
    "    Identify the Most Frequent Character:\n",
    "        The character with the highest frequency will be the target character for transformation.\n",
    "        This is because transforming all characters to the most frequent character will require the fewest replacements.\n",
    "\n",
    "    Calculate Minimum Replacements:\n",
    "        The number of replacements needed will be the total number of characters in SS minus the frequency of the most frequent character.\n",
    "        This is because every other character in SS will need to be replaced to match the most frequent character."
   ]
  },
  {
   "cell_type": "code",
   "execution_count": 1,
   "metadata": {},
   "outputs": [
    {
     "name": "stdout",
     "output_type": "stream",
     "text": [
      "7\n"
     ]
    }
   ],
   "source": [
    "def magic(s):\n",
    "    freq = {}\n",
    "    maxf = 0\n",
    "    minres = 0\n",
    "    for char in s:\n",
    "        if char in freq:\n",
    "            freq[char] += 1\n",
    "        else:\n",
    "            freq[char] = 1\n",
    "    for f in freq.values():\n",
    "        if f > maxf:\n",
    "            maxf = f\n",
    "    minres = len(s) - maxf\n",
    "    return minres\n",
    "print(magic(s=\"aaabbccdddd\"))"
   ]
  },
  {
   "cell_type": "markdown",
   "metadata": {},
   "source": [
    "14. Encode the Number\n",
    "\n",
    "N = 9119\n",
    "print(encodeNumber(N))  # Output: 811181\n"
   ]
  },
  {
   "cell_type": "code",
   "execution_count": null,
   "metadata": {},
   "outputs": [],
   "source": [
    "function encodeNumber(N):\n",
    "    # Convert the number to a string to iterate through each digit\n",
    "    strN = str(N)\n",
    "    \n",
    "    # Initialize an empty string to hold the result\n",
    "    encodedStr = \"\"\n",
    "    \n",
    "    # Iterate through each digit in the string representation of N\n",
    "    for char in strN:\n",
    "        # Convert the character back to an integer\n",
    "        digit = int(char)\n",
    "        # Square the digit\n",
    "        squared = digit * digit\n",
    "        # Convert the squared value back to a string and concatenate\n",
    "        encodedStr += str(squared)\n",
    "    \n",
    "    # Convert the concatenated string back to an integer\n",
    "    encodedValue = int(encodedStr)\n",
    "    \n",
    "    return encodedValue"
   ]
  },
  {
   "cell_type": "markdown",
   "metadata": {},
   "source": [
    "15. Position Equilibrium"
   ]
  },
  {
   "cell_type": "code",
   "execution_count": 2,
   "metadata": {},
   "outputs": [
    {
     "name": "stdout",
     "output_type": "stream",
     "text": [
      "2\n"
     ]
    }
   ],
   "source": [
    "def findEquilibriumIndex(A):\n",
    "    total_sum = sum(A)\n",
    "    left_sum = 0\n",
    "    \n",
    "    for i in range(len(A)):\n",
    "        right_sum = total_sum - left_sum - A[i]\n",
    "        \n",
    "        if left_sum == right_sum:\n",
    "            return i\n",
    "        \n",
    "        left_sum += A[i]\n",
    "    \n",
    "    return -1  # Return -1 if no equilibrium index is found\n",
    "\n",
    "# Example usage:\n",
    "A = [1, 3, 5, 2, 2]\n",
    "print(findEquilibriumIndex(A))  # Output: 2"
   ]
  }
 ],
 "metadata": {
  "kernelspec": {
   "display_name": "Python 3",
   "language": "python",
   "name": "python3"
  },
  "language_info": {
   "codemirror_mode": {
    "name": "ipython",
    "version": 3
   },
   "file_extension": ".py",
   "mimetype": "text/x-python",
   "name": "python",
   "nbconvert_exporter": "python",
   "pygments_lexer": "ipython3",
   "version": "3.11.8"
  }
 },
 "nbformat": 4,
 "nbformat_minor": 2
}
