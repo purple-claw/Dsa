{
 "cells": [
  {
   "cell_type": "markdown",
   "metadata": {},
   "source": [
    "Frog Jump -1 "
   ]
  },
  {
   "cell_type": "code",
   "execution_count": 2,
   "metadata": {},
   "outputs": [
    {
     "name": "stdout",
     "output_type": "stream",
     "text": [
      "70\n"
     ]
    }
   ],
   "source": [
    "def frog_jump(idx,arr):\n",
    "    n = len(arr)\n",
    "    if idx == 0:\n",
    "        return 0\n",
    "    \n",
    "    left = frog_jump(idx-1,arr) + abs(arr[idx] - arr[idx-1])\n",
    "    right = float('inf')\n",
    "    if idx > 1:\n",
    "        right = frog_jump(idx-2,arr) + abs(arr[idx] - arr[idx-2])\n",
    "    return min(left,right)\n",
    "\n",
    "arr = [10,20,15,30,40,80]\n",
    "m = len(arr)-1\n",
    "print(frog_jump(m,arr))"
   ]
  },
  {
   "cell_type": "code",
   "execution_count": 3,
   "metadata": {},
   "outputs": [
    {
     "name": "stdout",
     "output_type": "stream",
     "text": [
      "70\n"
     ]
    }
   ],
   "source": [
    "def frog_memo(idx,arr):\n",
    "    n = len(arr)\n",
    "    dp = [-1] * (n+1)\n",
    "    if idx == 0:\n",
    "        return 0\n",
    "    elif dp[idx] != -1:\n",
    "        return dp[idx]\n",
    "    \n",
    "    left = frog_memo(idx-1,arr) + abs(arr[idx]-arr[idx-1])\n",
    "    right = float('inf')\n",
    "    if idx > 1:\n",
    "        right = frog_memo(idx-2,arr) + abs(arr[idx]-arr[idx-2])\n",
    "    dp[idx] = min(left,right)\n",
    "    return dp[idx]\n",
    "\n",
    "arr = [10,20,15,30,40,80]\n",
    "m = len(arr)-1\n",
    "print(frog_memo(m,arr))"
   ]
  },
  {
   "cell_type": "code",
   "execution_count": 6,
   "metadata": {},
   "outputs": [
    {
     "name": "stdout",
     "output_type": "stream",
     "text": [
      "0\n"
     ]
    }
   ],
   "source": [
    "def frog_table(arr):\n",
    "    n = len(arr)\n",
    "    dp = [-1] * (n+1)\n",
    "    dp[n] = 0\n",
    "    dp[n-1] = 0\n",
    "    \n",
    "    for idx in range(n-1,-1,-1):\n",
    "        left = dp[idx-1] + abs(arr[idx]-arr[idx-1])\n",
    "        right = float('inf')\n",
    "        if idx > 1:\n",
    "            right = dp[idx-2] + abs(arr[idx]-arr[idx-2])\n",
    "        dp[idx] = min(left, right)\n",
    "    return dp[0]\n",
    "\n",
    "arr = [10 ,20 ,30, 10]\n",
    "print(frog_table(arr))"
   ]
  },
  {
   "cell_type": "code",
   "execution_count": null,
   "metadata": {},
   "outputs": [],
   "source": [
    "def subseq(i,res,arr):\n",
    "    n = len(arr)\n",
    "    if i >= n:\n",
    "        print(res)\n",
    "        return\n",
    "    \n",
    "    res.append(arr[i])\n",
    "    subseq(i+1,res)\n",
    "    res.remove(arr[i])\n",
    "    subseq(i+1,res)\n",
    "    \n",
    "print(subseq(0,[],[3,1,2]))"
   ]
  },
  {
   "cell_type": "markdown",
   "metadata": {},
   "source": [
    "Maximum Sum of Non Adjacent Elements - Recursion"
   ]
  },
  {
   "cell_type": "code",
   "execution_count": null,
   "metadata": {},
   "outputs": [],
   "source": [
    "def maxSub(idx,arr):\n",
    "    if idx == 0:\n",
    "        return arr[idx]\n",
    "    if idx < 0:\n",
    "        return 0\n",
    "    \n",
    "    pick = arr[idx] + maxSub(idx -2)\n",
    "    notPick = 0 + maxSub(idx-1)\n",
    "    return max(pick,notPick)\n",
    "\n",
    "print(maxSub(4,[2,1,4,9]))"
   ]
  },
  {
   "cell_type": "markdown",
   "metadata": {},
   "source": [
    "Maximum Sum of Non Adjacent Elements - Memoization"
   ]
  },
  {
   "cell_type": "code",
   "execution_count": 6,
   "metadata": {},
   "outputs": [],
   "source": [
    "def subMemo(idx,arr):\n",
    "    dp = [-1] * len(arr)\n",
    "    if idx == 0:\n",
    "        return arr[idx]\n",
    "    if idx < 0:\n",
    "        return 0\n",
    "    elif dp[idx] != -1:\n",
    "        return dp[idx]\n",
    "    \n",
    "    pick = arr[idx] + subMemo(idx-2)\n",
    "    notPick  = 0 + subMemo(idx-1)\n",
    "    dp[idx] = max(pick, notPick)\n",
    "    return dp[idx]\n",
    "\n"
   ]
  },
  {
   "cell_type": "markdown",
   "metadata": {},
   "source": [
    "Ninja Training - Recursion"
   ]
  },
  {
   "cell_type": "code",
   "execution_count": 7,
   "metadata": {},
   "outputs": [
    {
     "name": "stdout",
     "output_type": "stream",
     "text": [
      "41\n"
     ]
    }
   ],
   "source": [
    "def ninjaTrain(tasks):\n",
    "    idx = len(tasks)-1\n",
    "    def recur(idx,last):\n",
    "        if idx == 0:\n",
    "            maxi = 0\n",
    "            for i in range(0,2):\n",
    "                if i != last:\n",
    "                    maxi = max(maxi,tasks[0][i])\n",
    "            return maxi\n",
    "        \n",
    "        maxi = 0\n",
    "        for i in range(0,2):\n",
    "            if i != last:\n",
    "                points = tasks[idx][i] + recur(idx-1,i)\n",
    "                maxi = max(maxi,points)\n",
    "        return maxi\n",
    "    return recur(idx,3)\n",
    "\n",
    "tasks = [[10,3,4],[4,7,9],[19,34,6]]\n",
    "print(ninjaTrain(tasks))"
   ]
  },
  {
   "cell_type": "markdown",
   "metadata": {},
   "source": [
    "Ninja Training - Memoization"
   ]
  },
  {
   "cell_type": "code",
   "execution_count": null,
   "metadata": {},
   "outputs": [],
   "source": [
    "def ninjaTrain(tasks):\n",
    "    idx = len(tasks)\n",
    "    def memo(idx,last):\n",
    "        n = len(tasks)\n",
    "        dp = [[-1] * 3 for _ in range(n)]\n",
    "        \n",
    "        if idx == 0:\n",
    "            maxi = 0\n",
    "            for i in range(0,2):\n",
    "                if i != last:\n",
    "                    maxi = max(maxi,tasks[0][i])\n",
    "            return maxi\n",
    "        \n",
    "        maxi = 0\n",
    "        for i in range(0,2):\n",
    "            if i != last:\n",
    "                points = tasks[idx][i] + memo(idx-1,i)\n",
    "                dp[idx][i] = max(maxi,points)\n",
    "        return dp[idx][i]\n",
    "    return memo(idx,3)\n",
    "\n",
    "tasks = [[10,3,4],[4,7,9],[19,34,6]]\n",
    "print(ninjaTrain(tasks))"
   ]
  },
  {
   "cell_type": "markdown",
   "metadata": {},
   "source": [
    "Strivers Revision"
   ]
  },
  {
   "cell_type": "markdown",
   "metadata": {},
   "source": [
    "1. AtoI Implementation"
   ]
  },
  {
   "cell_type": "code",
   "execution_count": 1,
   "metadata": {},
   "outputs": [
    {
     "name": "stdout",
     "output_type": "stream",
     "text": [
      "42\n",
      "-42\n",
      "4193\n",
      "0\n",
      "-2147483648\n"
     ]
    }
   ],
   "source": [
    "class Solution:\n",
    "    def myAtoi(self, s: str) -> int:\n",
    "        def atoi_recursive(index, sign, total):\n",
    "            # Base case: end of string or non-digit character\n",
    "            if index == len(s) or not s[index].isdigit():\n",
    "                return sign * total\n",
    "            \n",
    "            # Convert current character to digit and add to total\n",
    "            digit = int(s[index])\n",
    "            total = total * 10 + digit\n",
    "            \n",
    "            # Move to the next character\n",
    "            return atoi_recursive(index + 1, sign, total)\n",
    "        \n",
    "        # Skip leading whitespace\n",
    "        index = 0\n",
    "        while index < len(s) and s[index] == ' ':\n",
    "            index += 1\n",
    "        \n",
    "        # Check for sign\n",
    "        sign = 1\n",
    "        if index < len(s) and (s[index] == '-' or s[index] == '+'):\n",
    "            if s[index] == '-':\n",
    "                sign = -1\n",
    "            index += 1\n",
    "        \n",
    "        # Read the integer part\n",
    "        total = atoi_recursive(index, sign, 0)\n",
    "        \n",
    "        # Handle 32-bit signed integer overflow\n",
    "        INT_MAX = 2**31 - 1\n",
    "        INT_MIN = -2**31\n",
    "        if total > INT_MAX:\n",
    "            return INT_MAX\n",
    "        if total < INT_MIN:\n",
    "            return INT_MIN\n",
    "        \n",
    "        return total\n",
    "\n",
    "# Example usage:\n",
    "solution = Solution()\n",
    "print(solution.myAtoi(\"42\"))           # Output: 42\n",
    "print(solution.myAtoi(\"   -42\"))       # Output: -42\n",
    "print(solution.myAtoi(\"4193 with words\"))  # Output: 4193\n",
    "print(solution.myAtoi(\"words and 987\"))    # Output: 0\n",
    "print(solution.myAtoi(\"-91283472332\"))     # Output: -2147483648"
   ]
  },
  {
   "cell_type": "markdown",
   "metadata": {},
   "source": [
    "2.Pow(x,n)"
   ]
  },
  {
   "cell_type": "code",
   "execution_count": null,
   "metadata": {},
   "outputs": [],
   "source": [
    "def pow(x,n):\n",
    "    if n == 0:\n",
    "        return 1\n",
    "    elif n == 1:\n",
    "        return x\n",
    "    elif n == -1 :\n",
    "        return 1/x\n",
    "    return pow(x,n//2) * pow(x,n//2) * pow(x,n%2)"
   ]
  },
  {
   "cell_type": "markdown",
   "metadata": {},
   "source": [
    "3. Count Numbers"
   ]
  },
  {
   "cell_type": "code",
   "execution_count": null,
   "metadata": {},
   "outputs": [],
   "source": [
    "MOD = 10**9 + 7\n",
    "even_digits = ['0','2','4','6','8']\n",
    "odd_digirs = ['1','3','5','7','9']\n",
    "\n",
    "def countgoodNums(n):\n",
    "    def count(idx):\n",
    "        if idx == 0:\n",
    "            return 1\n",
    "        if idx % 2 == 0:\n",
    "            return sum(count(idx + 1) for i in even_digits) % MOD\n",
    "        else:\n",
    "            return sum(count(idx+1) for i in odd_digirs) % MOD\n",
    "    return count(n)"
   ]
  },
  {
   "cell_type": "markdown",
   "metadata": {},
   "source": [
    "4.Sort stack using Recursion"
   ]
  },
  {
   "cell_type": "code",
   "execution_count": 2,
   "metadata": {},
   "outputs": [
    {
     "name": "stdout",
     "output_type": "stream",
     "text": [
      "Original Stack1: 1 2 3\n",
      "Sorted Stack1: 3 2 1\n",
      "Original Stack2: 41 3 32 2 11\n",
      "Sorted Stack2: 41 32 11 3 2\n"
     ]
    }
   ],
   "source": [
    "class Stack:\n",
    "    def __init__(self):\n",
    "        self.items = []\n",
    "    \n",
    "    def push(self, item):\n",
    "        self.items.append(item)\n",
    "    \n",
    "    def pop(self):\n",
    "        if not self.is_empty():\n",
    "            return self.items.pop()\n",
    "        return None\n",
    "    \n",
    "    def peek(self):\n",
    "        if not self.is_empty():\n",
    "            return self.items[-1]\n",
    "        return None\n",
    "    \n",
    "    def is_empty(self):\n",
    "        return len(self.items) == 0\n",
    "    \n",
    "    def size(self):\n",
    "        return len(self.items)\n",
    "    \n",
    "    def __str__(self):\n",
    "        return ' '.join(map(str, self.items[::-1]))\n",
    "\n",
    "def sorted_insert(stack, element):\n",
    "    # Base case: Either stack is empty or element is greater than the top element\n",
    "    if stack.is_empty() or element > stack.peek():\n",
    "        stack.push(element)\n",
    "    else:\n",
    "        # Remove the top item and recursively call for the smaller stack\n",
    "        temp = stack.pop()\n",
    "        sorted_insert(stack, element)\n",
    "        # Put back the top item removed earlier\n",
    "        stack.push(temp)\n",
    "\n",
    "def sort_stack(stack):\n",
    "    # Base case: Stack is empty\n",
    "    if stack.is_empty():\n",
    "        return\n",
    "    \n",
    "    # Remove the top item\n",
    "    temp = stack.pop()\n",
    "    \n",
    "    # Sort the remaining stack recursively\n",
    "    sort_stack(stack)\n",
    "    \n",
    "    # Insert the top item back in sorted order\n",
    "    sorted_insert(stack, temp)\n",
    "\n",
    "# Example usage:\n",
    "stack1 = Stack()\n",
    "for num in [3, 2, 1]:\n",
    "    stack1.push(num)\n",
    "\n",
    "stack2 = Stack()\n",
    "for num in [11, 2, 32, 3, 41]:\n",
    "    stack2.push(num)\n",
    "\n",
    "print(\"Original Stack1:\", stack1)\n",
    "sort_stack(stack1)\n",
    "print(\"Sorted Stack1:\", stack1)\n",
    "\n",
    "print(\"Original Stack2:\", stack2)\n",
    "sort_stack(stack2)\n",
    "print(\"Sorted Stack2:\", stack2)"
   ]
  },
  {
   "cell_type": "markdown",
   "metadata": {},
   "source": [
    "5.Reverse Stack"
   ]
  },
  {
   "cell_type": "code",
   "execution_count": 3,
   "metadata": {},
   "outputs": [
    {
     "name": "stdout",
     "output_type": "stream",
     "text": [
      "Original Stack1: 5 4 3 2 1\n",
      "Reversed Stack1: 1 2 3 4 5\n"
     ]
    }
   ],
   "source": [
    "class Stack:\n",
    "    def __init__(self):\n",
    "        self.items = []\n",
    "    \n",
    "    def push(self, item):\n",
    "        self.items.append(item)\n",
    "    \n",
    "    def pop(self):\n",
    "        if not self.is_empty():\n",
    "            return self.items.pop()\n",
    "        return None\n",
    "    \n",
    "    def peek(self):\n",
    "        if not self.is_empty():\n",
    "            return self.items[-1]\n",
    "        return None\n",
    "    \n",
    "    def is_empty(self):\n",
    "        return len(self.items) == 0\n",
    "    \n",
    "    def size(self):\n",
    "        return len(self.items)\n",
    "    \n",
    "    def __str__(self):\n",
    "        return ' '.join(map(str, self.items[::-1]))\n",
    "\n",
    "def insert_at_bottom(stack, element):\n",
    "    # Base case: If stack is empty, push the element\n",
    "    if stack.is_empty():\n",
    "        stack.push(element)\n",
    "    else:\n",
    "        # Remove the top item and recursively call for the smaller stack\n",
    "        temp = stack.pop()\n",
    "        insert_at_bottom(stack, element)\n",
    "        # Put back the top item removed earlier\n",
    "        stack.push(temp)\n",
    "\n",
    "def reverse_stack(stack):\n",
    "    # Base case: If stack is empty, return\n",
    "    if stack.is_empty():\n",
    "        return\n",
    "    \n",
    "    # Remove the top item\n",
    "    temp = stack.pop()\n",
    "    \n",
    "    # Reverse the remaining stack recursively\n",
    "    reverse_stack(stack)\n",
    "    \n",
    "    # Insert the top item at the bottom\n",
    "    insert_at_bottom(stack, temp)\n",
    "\n",
    "# Example usage:\n",
    "stack1 = Stack()\n",
    "for num in [1, 2, 3, 4, 5]:\n",
    "    stack1.push(num)\n",
    "\n",
    "print(\"Original Stack1:\", stack1)\n",
    "reverse_stack(stack1)\n",
    "print(\"Reversed Stack1:\", stack1)"
   ]
  },
  {
   "cell_type": "markdown",
   "metadata": {},
   "source": [
    "6.Geneate Binary Substrings"
   ]
  },
  {
   "cell_type": "code",
   "execution_count": 1,
   "metadata": {},
   "outputs": [
    {
     "name": "stdout",
     "output_type": "stream",
     "text": [
      "All binary strings of size 3 without consecutive 1's are:\n",
      "000\n",
      "001\n",
      "010\n",
      "100\n",
      "101\n"
     ]
    }
   ],
   "source": [
    "def generate_binary_strings(k):\n",
    "    def helper(curr_string, length):\n",
    "        # Base case: If the current string length is equal to k, add to results\n",
    "        if length == k:\n",
    "            result.append(curr_string)\n",
    "            return\n",
    "        \n",
    "        # If the current string is empty or ends with '0', you can add '0' or '1'\n",
    "        if not curr_string or curr_string[-1] == '0':\n",
    "            helper(curr_string + '0', length + 1)\n",
    "            helper(curr_string + '1', length + 1)\n",
    "        # If the current string ends with '1', you can only add '0'\n",
    "        elif curr_string[-1] == '1':\n",
    "            helper(curr_string + '0', length + 1)\n",
    "\n",
    "    result = []\n",
    "    helper(\"\", 0)\n",
    "    return result\n",
    "\n",
    "# Example usage\n",
    "k = 3\n",
    "binary_strings = generate_binary_strings(k)\n",
    "print(\"All binary strings of size\", k, \"without consecutive 1's are:\")\n",
    "for string in binary_strings:\n",
    "    print(string)"
   ]
  },
  {
   "cell_type": "markdown",
   "metadata": {},
   "source": [
    "7.Generate Valid Parentheses"
   ]
  },
  {
   "cell_type": "code",
   "execution_count": null,
   "metadata": {},
   "outputs": [],
   "source": [
    "class Solution:\n",
    "    def generateParenthesis(self,n):\n",
    "        def backtrack(S='', left=0, right=0):\n",
    "            if len(S) == 2 * n:\n",
    "                result.append(S)\n",
    "                return\n",
    "            if left < n:\n",
    "                backtrack(S + '(', left + 1, right)\n",
    "            if right < left:\n",
    "                backtrack(S + ')', left, right + 1)\n",
    "        result = []\n",
    "        backtrack()\n",
    "        return result"
   ]
  },
  {
   "cell_type": "markdown",
   "metadata": {},
   "source": [
    "8.Count all Sunsequences with sum K"
   ]
  },
  {
   "cell_type": "code",
   "execution_count": 3,
   "metadata": {},
   "outputs": [
    {
     "name": "stdout",
     "output_type": "stream",
     "text": [
      "3\n"
     ]
    }
   ],
   "source": [
    "MOD = 10**9 + 7\n",
    "\n",
    "def count_subsets_recursive(arr, n, target_sum):\n",
    "    def count_recursive(index, current_sum):\n",
    "        # Base Cases\n",
    "        if current_sum == 0:\n",
    "            return 1\n",
    "        if index == 0:\n",
    "            return 0\n",
    "        \n",
    "        # If the element is greater than the current sum, we can't include it\n",
    "        if arr[index-1] > current_sum:\n",
    "            return count_recursive(index-1, current_sum) % MOD\n",
    "        else:\n",
    "            # Include the element or exclude the element\n",
    "            include = count_recursive(index-1, current_sum - arr[index-1]) % MOD\n",
    "            exclude = count_recursive(index-1, current_sum) % MOD\n",
    "            return (include + exclude) % MOD\n",
    "    \n",
    "    return count_recursive(n, target_sum)\n",
    "\n",
    "# Example usage\n",
    "arr = [1, 2, 3, 4, 5]\n",
    "n = len(arr)\n",
    "target_sum = 10\n",
    "print(count_subsets_recursive(arr, n, target_sum))  # Output: number of subsets with sum equal to target_sum"
   ]
  },
  {
   "cell_type": "markdown",
   "metadata": {},
   "source": [
    "9.Check if there Exists a Subset with target K"
   ]
  },
  {
   "cell_type": "code",
   "execution_count": 5,
   "metadata": {},
   "outputs": [
    {
     "name": "stdout",
     "output_type": "stream",
     "text": [
      "True\n"
     ]
    }
   ],
   "source": [
    "def subset_sum(arr,n,k):\n",
    "    if k == 0:\n",
    "        return True\n",
    "    if n == 0:\n",
    "        return False\n",
    "    if arr[n-1] > k:\n",
    "        return subset_sum(arr,n-1,k)\n",
    "    return subset_sum(arr,n-1,k) or subset_sum(arr,n-1,k-arr[n-1])\n",
    "\n",
    "arr = [1,2,3,4,5]\n",
    "n = len(arr)\n",
    "k = 10\n",
    "print(subset_sum(arr,n,k))"
   ]
  }
 ],
 "metadata": {
  "kernelspec": {
   "display_name": "Python 3",
   "language": "python",
   "name": "python3"
  },
  "language_info": {
   "codemirror_mode": {
    "name": "ipython",
    "version": 3
   },
   "file_extension": ".py",
   "mimetype": "text/x-python",
   "name": "python",
   "nbconvert_exporter": "python",
   "pygments_lexer": "ipython3",
   "version": "3.11.8"
  }
 },
 "nbformat": 4,
 "nbformat_minor": 2
}
