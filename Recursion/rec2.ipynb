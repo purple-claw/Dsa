{
 "cells": [
  {
   "cell_type": "markdown",
   "metadata": {},
   "source": [
    "Frog Jump -1 "
   ]
  },
  {
   "cell_type": "code",
   "execution_count": 2,
   "metadata": {},
   "outputs": [
    {
     "name": "stdout",
     "output_type": "stream",
     "text": [
      "70\n"
     ]
    }
   ],
   "source": [
    "def frog_jump(idx,arr):\n",
    "    n = len(arr)\n",
    "    if idx == 0:\n",
    "        return 0\n",
    "    \n",
    "    left = frog_jump(idx-1,arr) + abs(arr[idx] - arr[idx-1])\n",
    "    right = float('inf')\n",
    "    if idx > 1:\n",
    "        right = frog_jump(idx-2,arr) + abs(arr[idx] - arr[idx-2])\n",
    "    return min(left,right)\n",
    "\n",
    "arr = [10,20,15,30,40,80]\n",
    "m = len(arr)-1\n",
    "print(frog_jump(m,arr))"
   ]
  },
  {
   "cell_type": "code",
   "execution_count": 3,
   "metadata": {},
   "outputs": [
    {
     "name": "stdout",
     "output_type": "stream",
     "text": [
      "70\n"
     ]
    }
   ],
   "source": [
    "def frog_memo(idx,arr):\n",
    "    n = len(arr)\n",
    "    dp = [-1] * (n+1)\n",
    "    if idx == 0:\n",
    "        return 0\n",
    "    elif dp[idx] != -1:\n",
    "        return dp[idx]\n",
    "    \n",
    "    left = frog_memo(idx-1,arr) + abs(arr[idx]-arr[idx-1])\n",
    "    right = float('inf')\n",
    "    if idx > 1:\n",
    "        right = frog_memo(idx-2,arr) + abs(arr[idx]-arr[idx-2])\n",
    "    dp[idx] = min(left,right)\n",
    "    return dp[idx]\n",
    "\n",
    "arr = [10,20,15,30,40,80]\n",
    "m = len(arr)-1\n",
    "print(frog_memo(m,arr))"
   ]
  },
  {
   "cell_type": "code",
   "execution_count": 6,
   "metadata": {},
   "outputs": [
    {
     "name": "stdout",
     "output_type": "stream",
     "text": [
      "0\n"
     ]
    }
   ],
   "source": [
    "def frog_table(arr):\n",
    "    n = len(arr)\n",
    "    dp = [-1] * (n+1)\n",
    "    dp[n] = 0\n",
    "    dp[n-1] = 0\n",
    "    \n",
    "    for idx in range(n-1,-1,-1):\n",
    "        left = dp[idx-1] + abs(arr[idx]-arr[idx-1])\n",
    "        right = float('inf')\n",
    "        if idx > 1:\n",
    "            right = dp[idx-2] + abs(arr[idx]-arr[idx-2])\n",
    "        dp[idx] = min(left, right)\n",
    "    return dp[0]\n",
    "\n",
    "arr = [10 ,20 ,30, 10]\n",
    "print(frog_table(arr))"
   ]
  },
  {
   "cell_type": "code",
   "execution_count": null,
   "metadata": {},
   "outputs": [],
   "source": [
    "def subseq(i,res,arr):\n",
    "    n = len(arr)\n",
    "    if i >= n:\n",
    "        print(res)\n",
    "        return\n",
    "    \n",
    "    res.append(arr[i])\n",
    "    subseq(i+1,res)\n",
    "    res.remove(arr[i])\n",
    "    subseq(i+1,res)\n",
    "    \n",
    "print(subseq(0,[],[3,1,2]))"
   ]
  },
  {
   "cell_type": "markdown",
   "metadata": {},
   "source": [
    "Maximum Sum of Non Adjacent Elements - Recursion"
   ]
  },
  {
   "cell_type": "code",
   "execution_count": null,
   "metadata": {},
   "outputs": [],
   "source": [
    "def maxSub(idx,arr):\n",
    "    if idx == 0:\n",
    "        return arr[idx]\n",
    "    if idx < 0:\n",
    "        return 0\n",
    "    \n",
    "    pick = arr[idx] + maxSub(idx -2)\n",
    "    notPick = 0 + maxSub(idx-1)\n",
    "    return max(pick,notPick)\n",
    "\n",
    "print(maxSub(4,[2,1,4,9]))"
   ]
  },
  {
   "cell_type": "markdown",
   "metadata": {},
   "source": [
    "Maximum Sum of Non Adjacent Elements - Memoization"
   ]
  },
  {
   "cell_type": "code",
   "execution_count": 6,
   "metadata": {},
   "outputs": [],
   "source": [
    "def subMemo(idx,arr):\n",
    "    dp = [-1] * len(arr)\n",
    "    if idx == 0:\n",
    "        return arr[idx]\n",
    "    if idx < 0:\n",
    "        return 0\n",
    "    elif dp[idx] != -1:\n",
    "        return dp[idx]\n",
    "    \n",
    "    pick = arr[idx] + subMemo(idx-2)\n",
    "    notPick  = 0 + subMemo(idx-1)\n",
    "    dp[idx] = max(pick, notPick)\n",
    "    return dp[idx]\n",
    "\n"
   ]
  },
  {
   "cell_type": "markdown",
   "metadata": {},
   "source": [
    "Ninja Training - Recursion"
   ]
  },
  {
   "cell_type": "code",
   "execution_count": 7,
   "metadata": {},
   "outputs": [
    {
     "name": "stdout",
     "output_type": "stream",
     "text": [
      "41\n"
     ]
    }
   ],
   "source": [
    "def ninjaTrain(tasks):\n",
    "    idx = len(tasks)-1\n",
    "    def recur(idx,last):\n",
    "        if idx == 0:\n",
    "            maxi = 0\n",
    "            for i in range(0,2):\n",
    "                if i != last:\n",
    "                    maxi = max(maxi,tasks[0][i])\n",
    "            return maxi\n",
    "        \n",
    "        maxi = 0\n",
    "        for i in range(0,2):\n",
    "            if i != last:\n",
    "                points = tasks[idx][i] + recur(idx-1,i)\n",
    "                maxi = max(maxi,points)\n",
    "        return maxi\n",
    "    return recur(idx,3)\n",
    "\n",
    "tasks = [[10,3,4],[4,7,9],[19,34,6]]\n",
    "print(ninjaTrain(tasks))"
   ]
  },
  {
   "cell_type": "markdown",
   "metadata": {},
   "source": [
    "Ninja Training - Memoization"
   ]
  }
 ],
 "metadata": {
  "kernelspec": {
   "display_name": "Python 3",
   "language": "python",
   "name": "python3"
  },
  "language_info": {
   "codemirror_mode": {
    "name": "ipython",
    "version": 3
   },
   "file_extension": ".py",
   "mimetype": "text/x-python",
   "name": "python",
   "nbconvert_exporter": "python",
   "pygments_lexer": "ipython3",
   "version": "3.11.8"
  }
 },
 "nbformat": 4,
 "nbformat_minor": 2
}
