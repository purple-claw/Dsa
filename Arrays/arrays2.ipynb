{
 "cells": [
  {
   "cell_type": "code",
   "execution_count": 4,
   "metadata": {},
   "outputs": [],
   "source": [
    "import heapq\n",
    "\n",
    "def k_largest(arr,k):\n",
    "    heap = []\n",
    "    for i in range(k):\n",
    "        heapq.heappush(heap,arr[i])\n",
    "    for i in range(k,len(arr)):\n",
    "        if arr[i]>heap[0]:\n",
    "            heapq.heappop(heap)\n",
    "            heapq.heappush(heap,arr[i])\n",
    "    return heap\n",
    "\n",
    "def main():\n",
    "    arr = [1, 23, 12, 9, 30, 2, 50]\n",
    "    k = 3\n",
    "    print(k_largest(arr,k))"
   ]
  },
  {
   "cell_type": "code",
   "execution_count": 5,
   "metadata": {},
   "outputs": [
    {
     "name": "stdout",
     "output_type": "stream",
     "text": [
      "[0, 0, 1, 1, 2]\n"
     ]
    }
   ],
   "source": [
    "#dutch  national Flag problem #O(n) - Time Complexity\n",
    "def dutch_national_flag(arr):\n",
    "    start=mid = 0\n",
    "    pivot = 1\n",
    "    end = len(arr)-1\n",
    "    while mid <= end:\n",
    "        if arr[mid] < pivot:\n",
    "            arr[start],arr[mid]=arr[mid],arr[start]\n",
    "            start += 1\n",
    "            mid += 1\n",
    "        elif arr[mid]>pivot:\n",
    "            arr[mid],arr[end]=arr[end],arr[mid]\n",
    "            end -= 1\n",
    "        else:\n",
    "            mid += 1\n",
    "    return arr\n",
    "\n",
    "arr = [1, 0, 2, 1, 0]\n",
    "print(dutch_national_flag(arr))"
   ]
  },
  {
   "cell_type": "code",
   "execution_count": 6,
   "metadata": {},
   "outputs": [
    {
     "name": "stdout",
     "output_type": "stream",
     "text": [
      "[-1, -7, -3, 4, 5, 6, 2, 8, 9]\n"
     ]
    }
   ],
   "source": [
    "#Move Negative to Front and Positive to End #O(n) time complexity #O(1) Space Complexity\n",
    "def partition_array(arr):\n",
    "    l,r = 0,len(arr)-1\n",
    "    while l<=r:\n",
    "        if arr[l]<0 and arr[r]>=0:\n",
    "            l+=1\n",
    "            r-=1\n",
    "        elif arr[l]>=0 and arr[r]<0:\n",
    "            arr[l],arr[r]=arr[r],arr[l]\n",
    "            l+=1\n",
    "            r-=1\n",
    "        elif arr[l]<0 and arr[r]<0:\n",
    "            l+=1\n",
    "        else:\n",
    "            r-=1\n",
    "    return arr\n",
    "\n",
    "arr = [-1, 2, -3, 4, 5, 6, -7, 8, 9]\n",
    "result = partition_array(arr)\n",
    "print(result)"
   ]
  },
  {
   "cell_type": "code",
   "execution_count": 7,
   "metadata": {},
   "outputs": [
    {
     "name": "stdout",
     "output_type": "stream",
     "text": [
      "Missing number: 5\n"
     ]
    }
   ],
   "source": [
    "def find_missing_number(arr):\n",
    "    n = len(arr) + 1\n",
    "    expected_sum = n * (n + 1) // 2\n",
    "    actual_sum = sum(arr)\n",
    "\n",
    "    return expected_sum - actual_sum\n",
    "\n",
    "arr = [1, 2, 3, 4, 6]\n",
    "missing_number = find_missing_number(arr)\n",
    "print(f'Missing number: {missing_number}')"
   ]
  },
  {
   "cell_type": "code",
   "execution_count": 8,
   "metadata": {},
   "outputs": [
    {
     "name": "stdout",
     "output_type": "stream",
     "text": [
      "4\n"
     ]
    }
   ],
   "source": [
    "def find_single_element(arr):\n",
    "    result = 0\n",
    "    for num in arr:\n",
    "        result ^= num\n",
    "    return result\n",
    "\n",
    "arr = [4, 1, 2, 1, 2]\n",
    "print(find_single_element(arr))"
   ]
  },
  {
   "cell_type": "code",
   "execution_count": 10,
   "metadata": {},
   "outputs": [
    {
     "name": "stdout",
     "output_type": "stream",
     "text": [
      "3\n"
     ]
    }
   ],
   "source": [
    "def dup_num(arr):\n",
    "    slow=fast = arr[0]\n",
    "    while True:\n",
    "        slow = arr[slow]\n",
    "        fast = arr[arr[fast]]\n",
    "        if slow == fast:\n",
    "            break\n",
    "    \n",
    "    slow = arr[0]\n",
    "    while slow != fast:\n",
    "        slow = arr[slow]\n",
    "        fast = arr[fast]\n",
    "        \n",
    "    return fast\n",
    "\n",
    "arr = [3, 1, 3, 4, 2]\n",
    "print(dup_num(arr))"
   ]
  },
  {
   "cell_type": "code",
   "execution_count": 11,
   "metadata": {},
   "outputs": [
    {
     "name": "stdout",
     "output_type": "stream",
     "text": [
      "[1, 2, 5, 9, 13, 20, 3, 8, 10, 15]\n"
     ]
    }
   ],
   "source": [
    "def merge_arrays(arr1,arr2):\n",
    "    i=j=0\n",
    "    while i<len(arr1) and j<len(arr2):\n",
    "        if arr1[i] <= arr2[j]:\n",
    "            i+=1\n",
    "        else:\n",
    "            arr1[i],arr2[j]=arr2[j],arr1[i]\n",
    "            j+=1\n",
    "            arr2.sort()\n",
    "    \n",
    "    return arr1 + arr2\n",
    "\n",
    "arr1 = [1, 5, 9, 10, 15, 20]\n",
    "arr2 = [2, 3, 8, 13]\n",
    "print(merge_arrays(arr1, arr2))"
   ]
  },
  {
   "cell_type": "code",
   "execution_count": 1,
   "metadata": {},
   "outputs": [
    {
     "name": "stdout",
     "output_type": "stream",
     "text": [
      "7\n"
     ]
    }
   ],
   "source": [
    "#kadane's algorithm\n",
    "def max_sum(arr):\n",
    "    max_curr=max_glo=arr[0]\n",
    "    for i in range(1,len(arr)):\n",
    "        max_curr = max(arr[i],max_curr + arr[i])\n",
    "        if max_curr > max_glo:\n",
    "            max_glo = max_curr\n",
    "    return max_glo\n",
    "\n",
    "arr = [-2, -3, 4, -1, -2, 1, 5, -3]\n",
    "print(max_sum(arr))"
   ]
  },
  {
   "cell_type": "code",
   "execution_count": 2,
   "metadata": {},
   "outputs": [
    {
     "name": "stdout",
     "output_type": "stream",
     "text": [
      "[[1], [1, 2], [1, 2, 3], [2], [2, 3], [3]]\n"
     ]
    }
   ],
   "source": [
    "def find_subarrays(arr):\n",
    "    subarrays = []\n",
    "    for i in range(len(arr)):\n",
    "        for j in range(i, len(arr)):\n",
    "            subarrays.append(arr[i:j+1])\n",
    "    return subarrays\n",
    "\n",
    "arr = [1, 2, 3]\n",
    "print(find_subarrays(arr))"
   ]
  },
  {
   "cell_type": "code",
   "execution_count": 5,
   "metadata": {},
   "outputs": [
    {
     "name": "stdout",
     "output_type": "stream",
     "text": [
      "5\n"
     ]
    }
   ],
   "source": [
    "def length_of_subarray_zero(arr):\n",
    "    pad = {0:-1}\n",
    "    max_len, cum_sum = 0,0\n",
    "    for i in range(len(arr)):\n",
    "        cum_sum += arr[i]\n",
    "        if cum_sum in pad:\n",
    "            max_len = max(max_len,i-pad[cum_sum])\n",
    "        else:\n",
    "            pad[cum_sum] = i\n",
    "            \n",
    "    return max_len\n",
    "\n",
    "arr = [15, -2, 2, -8, 1, 7, 10, 23]\n",
    "print(length_of_subarray_zero(arr))"
   ]
  },
  {
   "cell_type": "code",
   "execution_count": 7,
   "metadata": {},
   "outputs": [
    {
     "name": "stdout",
     "output_type": "stream",
     "text": [
      "6\n"
     ]
    }
   ],
   "source": [
    "#longest increasing subsequence\n",
    "def lis(arr):\n",
    "    dp = [1] * len(arr)\n",
    "    for i in range(len(arr)):\n",
    "        for j in range(i):\n",
    "            if arr[i]>arr[j]:\n",
    "                dp[i] = max(dp[i],dp[j] + 1)\n",
    "    return max(dp)\n",
    "arr = [10, 22, 9, 33, 21, 50, 41, 60, 80]\n",
    "print(lis(arr))"
   ]
  },
  {
   "cell_type": "code",
   "execution_count": 12,
   "metadata": {},
   "outputs": [
    {
     "name": "stdout",
     "output_type": "stream",
     "text": [
      "4\n"
     ]
    }
   ],
   "source": [
    "def longest_seq(arr):\n",
    "    num_set = set(arr)\n",
    "    max_len = 0\n",
    "    for num in num_set:\n",
    "        if num -1 not in num_set:\n",
    "            curr_num = num\n",
    "            curent_len = 1\n",
    "            while curr_num + 1 in num_set:\n",
    "                curr_num += 1\n",
    "                curent_len += 1\n",
    "            \n",
    "            max_len = max(max_len, curent_len)\n",
    "    return max_len\n",
    "\n",
    "arr = [100, 4, 200, 1, 3, 2]\n",
    "print(longest_seq(arr))"
   ]
  }
 ],
 "metadata": {
  "kernelspec": {
   "display_name": "Python 3",
   "language": "python",
   "name": "python3"
  },
  "language_info": {
   "codemirror_mode": {
    "name": "ipython",
    "version": 3
   },
   "file_extension": ".py",
   "mimetype": "text/x-python",
   "name": "python",
   "nbconvert_exporter": "python",
   "pygments_lexer": "ipython3",
   "version": "3.11.8"
  }
 },
 "nbformat": 4,
 "nbformat_minor": 2
}
